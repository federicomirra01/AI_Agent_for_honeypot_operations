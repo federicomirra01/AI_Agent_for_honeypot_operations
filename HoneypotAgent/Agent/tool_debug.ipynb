{
 "cells": [
  {
   "cell_type": "code",
   "execution_count": 19,
   "id": "2af8b27b",
   "metadata": {},
   "outputs": [],
   "source": [
    "import state \n",
    "from nodes import retrieve_logs, retrieve_rules\n",
    "import importlib\n",
    "importlib.reload(state)\n",
    "import tools \n",
    "importlib.reload(tools)\n",
    "\n",
    "from tools import getNetworkStatus"
   ]
  },
  {
   "cell_type": "code",
   "execution_count": 21,
   "id": "b4ae2a60",
   "metadata": {},
   "outputs": [
    {
     "data": {
      "text/plain": [
       "373"
      ]
     },
     "execution_count": 21,
     "metadata": {},
     "output_type": "execute_result"
    }
   ],
   "source": [
    "len(getNetworkStatus())"
   ]
  }
 ],
 "metadata": {
  "kernelspec": {
   "display_name": ".venv",
   "language": "python",
   "name": "python3"
  },
  "language_info": {
   "codemirror_mode": {
    "name": "ipython",
    "version": 3
   },
   "file_extension": ".py",
   "mimetype": "text/x-python",
   "name": "python",
   "nbconvert_exporter": "python",
   "pygments_lexer": "ipython3",
   "version": "3.12.7"
  }
 },
 "nbformat": 4,
 "nbformat_minor": 5
}
