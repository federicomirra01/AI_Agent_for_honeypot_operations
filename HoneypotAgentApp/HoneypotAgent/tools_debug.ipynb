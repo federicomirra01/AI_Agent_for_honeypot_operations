{
 "cells": [
  {
   "cell_type": "code",
   "execution_count": 8,
   "id": "d7adb3a7",
   "metadata": {},
   "outputs": [
    {
     "data": {
      "text/plain": [
       "<module 'memory' from '/home/c0ff3k1ll3r/Desktop/Thesis/AI_Agent_for_honeypot_operations/HoneypotAgentApp/HoneypotAgent/memory.py'>"
      ]
     },
     "execution_count": 8,
     "metadata": {},
     "output_type": "execute_result"
    }
   ],
   "source": [
    "import tools\n",
    "import importlib\n",
    "import memory\n",
    "importlib.reload(tools)\n",
    "importlib.reload(memory)"
   ]
  },
  {
   "cell_type": "code",
   "execution_count": 10,
   "id": "d8b4cac3",
   "metadata": {},
   "outputs": [
    {
     "data": {
      "text/plain": [
       "{'security_events': {'alerts': [{'message': '[**] [1:2002825:11] ET INFO POSSIBLE Web Crawl using Curl [**] [Classification: Attempted Information Leak] [Priority: 2] {TCP} 192.168.100.2:39758 -> 172.20.0.3:2375',\n",
       "    'timestamp': '2025-07-29T14:02:44.829301+02:00'}],\n",
       "  'count': 1,\n",
       "  'time_window_minutes': 5,\n",
       "  'timestamp': '2025-07-29T14:07:11.048268'}}"
      ]
     },
     "execution_count": 10,
     "metadata": {},
     "output_type": "execute_result"
    }
   ],
   "source": [
    "alerts = tools.get_fast_alerts(time_window=5)\n",
    "alerts"
   ]
  },
  {
   "cell_type": "code",
   "execution_count": 11,
   "id": "e451dc46",
   "metadata": {},
   "outputs": [
    {
     "data": {
      "text/plain": [
       "{'honeypot_config': [{'id': 'b9df5dc12f9d',\n",
       "   'name': 'gitlab-proxy',\n",
       "   'image': 'nginx:alpine',\n",
       "   'status': 'running',\n",
       "   'created': '2025-07-29T11:54:13.6273228Z',\n",
       "   'ports': ['80/tcp'],\n",
       "   'ip_address': '172.20.0.8'},\n",
       "  {'id': '205a78bb2483',\n",
       "   'name': 'cve-2021-22205-gitlab-1',\n",
       "   'image': 'vulhub/gitlab:13.10.1',\n",
       "   'status': 'running',\n",
       "   'created': '2025-07-29T11:54:13.599129168Z',\n",
       "   'ports': ['22/tcp', '443/tcp', '80/tcp', '8080/tcp'],\n",
       "   'ip_address': '172.20.0.7'},\n",
       "  {'id': '42a32ec044a6',\n",
       "   'name': 's2-057-struts2-1',\n",
       "   'image': 'vulhub/struts2:2.3.34-showcase',\n",
       "   'status': 'running',\n",
       "   'created': '2025-07-29T11:54:13.216752875Z',\n",
       "   'ports': ['8080/tcp'],\n",
       "   'ip_address': '172.20.0.4'},\n",
       "  {'id': '7fa35cd51600',\n",
       "   'name': 'unauthorized-rce-docker-1',\n",
       "   'image': 'unauthorized-rce-docker:latest',\n",
       "   'status': 'running',\n",
       "   'created': '2025-07-29T11:54:12.874969871Z',\n",
       "   'ports': ['2375/tcp', '2376/tcp'],\n",
       "   'ip_address': '172.20.0.3'},\n",
       "  {'id': 'd9d99cc91081',\n",
       "   'name': 'xdebug-rce-xdebug2-1',\n",
       "   'image': 'vulhub/php:7.1-xdebug',\n",
       "   'status': 'running',\n",
       "   'created': '2025-07-29T11:54:10.722632665Z',\n",
       "   'ports': ['80/tcp'],\n",
       "   'ip_address': '172.20.0.2'}]}"
      ]
     },
     "execution_count": 11,
     "metadata": {},
     "output_type": "execute_result"
    }
   ],
   "source": [
    "tools.get_docker_containers()"
   ]
  },
  {
   "cell_type": "code",
   "execution_count": 15,
   "id": "2c190a51",
   "metadata": {},
   "outputs": [
    {
     "name": "stdout",
     "output_type": "stream",
     "text": [
      "{'firewall_status': 'up', 'suricata_status': 'up'}\n",
      "Chain FORWARD (policy DROP)\n",
      "num  target     prot opt source               destination         \n",
      "1    ACCEPT     all  --  0.0.0.0/0            0.0.0.0/0            state RELATED,ESTABLISHED\n",
      "2    ACCEPT     icmp --  0.0.0.0/0            0.0.0.0/0           \n",
      "3    ACCEPT     udp  --  172.20.0.0/24        0.0.0.0/0            udp dpt:53\n",
      "4    ACCEPT     tcp  --  172.20.0.0/24        0.0.0.0/0            tcp dpt:53\n",
      "5    ACCEPT     all  --  172.20.0.0/24        0.0.0.0/0           \n",
      "6    ACCEPT     all  --  0.0.0.0/0            172.20.0.0/24        state RELATED,ESTABLISHED\n",
      "7    ACCEPT     all  --  172.20.0.0/24        172.20.0.0/24       \n",
      "8    DROP       all  --  192.168.100.0/24     172.20.0.0/24       \n",
      "9    DROP       all  --  172.20.0.0/24        192.168.100.0/24    \n",
      "10   LOG        all  --  0.0.0.0/0            0.0.0.0/0            LOG flags 0 level 4 prefix \"FIREWALL-DROP: \"\n",
      "\n"
     ]
    }
   ],
   "source": [
    "print(tools.check_services_health())\n",
    "rules = tools.get_firewall_rules()\n",
    "print(rules['firewall_config']['data']['rules'])"
   ]
  },
  {
   "cell_type": "code",
   "execution_count": 14,
   "id": "d1039a00",
   "metadata": {},
   "outputs": [
    {
     "name": "stderr",
     "output_type": "stream",
     "text": [
      "INFO:tools:Removing firewall rules: [1]\n"
     ]
    },
    {
     "data": {
      "text/plain": [
       "{'rules_removed_current_epoch': ['REMOVED rule #1:    ACCEPT     tcp  --  192.168.100.0/24     172.20.0.3           tcp dpt:2375']}"
      ]
     },
     "execution_count": 14,
     "metadata": {},
     "output_type": "execute_result"
    }
   ],
   "source": [
    "tools.remove_firewall_rule([1])"
   ]
  },
  {
   "cell_type": "code",
   "execution_count": 3,
   "id": "d953c024",
   "metadata": {},
   "outputs": [
    {
     "name": "stderr",
     "output_type": "stream",
     "text": [
      "INFO:tools:Adding allow rule: ALLOW 192.168.100.2 -> 172.20.0.2 (tcp)\n",
      "INFO:tools:Adding allow rule: ALLOW 172.20.0.2 -> 192.168.100.2 (all)\n"
     ]
    },
    {
     "data": {
      "text/plain": [
       "{'rules_added_current_epoch': 'ALLOW 172.20.0.2 -> 192.168.100.2 (all)'}"
      ]
     },
     "execution_count": 3,
     "metadata": {},
     "output_type": "execute_result"
    }
   ],
   "source": [
    "honeypot_ip = '172.20.0.2' \n",
    "attacker_ip = '192.168.100.2'\n",
    "\n",
    "tools.add_allow_rule(source_ip=attacker_ip, dest_ip=honeypot_ip)\n",
    "tools.add_allow_rule(source_ip=honeypot_ip, dest_ip=attacker_ip, protocol='all')"
   ]
  }
 ],
 "metadata": {
  "kernelspec": {
   "display_name": ".venv",
   "language": "python",
   "name": "python3"
  },
  "language_info": {
   "codemirror_mode": {
    "name": "ipython",
    "version": 3
   },
   "file_extension": ".py",
   "mimetype": "text/x-python",
   "name": "python",
   "nbconvert_exporter": "python",
   "pygments_lexer": "ipython3",
   "version": "3.13.3"
  }
 },
 "nbformat": 4,
 "nbformat_minor": 5
}
