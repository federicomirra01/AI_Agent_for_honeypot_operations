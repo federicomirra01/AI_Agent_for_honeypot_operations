{
 "cells": [
  {
   "cell_type": "code",
   "execution_count": 1,
   "id": "d7adb3a7",
   "metadata": {},
   "outputs": [
    {
     "data": {
      "text/plain": [
       "<module 'memory' from '/home/c0ff3k1ll3r/Desktop/Thesis/AI_Agent_for_honeypot_operations/HoneypotAgentApp/HoneypotAgent/memory.py'>"
      ]
     },
     "execution_count": 1,
     "metadata": {},
     "output_type": "execute_result"
    }
   ],
   "source": [
    "import tools\n",
    "import importlib\n",
    "import memory\n",
    "importlib.reload(tools)\n",
    "importlib.reload(memory)"
   ]
  },
  {
   "cell_type": "code",
   "execution_count": 25,
   "id": "d8b4cac3",
   "metadata": {},
   "outputs": [
    {
     "data": {
      "text/plain": [
       "{'security_events': {'alerts': [],\n",
       "  'count': 0,\n",
       "  'time_window_minutes': 5,\n",
       "  'timestamp': '2025-07-27T16:15:22.229375'}}"
      ]
     },
     "execution_count": 25,
     "metadata": {},
     "output_type": "execute_result"
    }
   ],
   "source": [
    "alerts = tools.get_fast_alerts(time_window=5)\n",
    "alerts"
   ]
  },
  {
   "cell_type": "code",
   "execution_count": 26,
   "id": "e451dc46",
   "metadata": {},
   "outputs": [
    {
     "data": {
      "text/plain": [
       "{'honeypot_config': [{'id': 'd787f17a3418',\n",
       "   'name': 'cve-2015-5254-activemq-1',\n",
       "   'image': 'vulhub/activemq:5.11.1',\n",
       "   'status': 'running',\n",
       "   'created': '2025-07-27T14:17:24.207535937Z',\n",
       "   'ports': ['61616/tcp', '8161/tcp'],\n",
       "   'ip_address': '172.20.0.5'},\n",
       "  {'id': 'e062d978bde9',\n",
       "   'name': 'cve-2014-6271-web-1',\n",
       "   'image': 'vulhub/bash:4.3.0-with-httpd',\n",
       "   'status': 'running',\n",
       "   'created': '2025-07-27T14:11:00.138982961Z',\n",
       "   'ports': ['80/tcp'],\n",
       "   'ip_address': '172.20.0.4'},\n",
       "  {'id': '427718b057ab',\n",
       "   'name': 's2-057-struts2-1',\n",
       "   'image': 'vulhub/struts2:2.3.34-showcase',\n",
       "   'status': 'running',\n",
       "   'created': '2025-07-27T12:58:05.285306746Z',\n",
       "   'ports': ['8080/tcp'],\n",
       "   'ip_address': '172.20.0.3'},\n",
       "  {'id': '673d68da39cb',\n",
       "   'name': 'unauthorized-rce-docker-1',\n",
       "   'image': 'unauthorized-rce-docker:latest',\n",
       "   'status': 'running',\n",
       "   'created': '2025-07-27T12:58:04.976748979Z',\n",
       "   'ports': ['2375/tcp', '2376/tcp'],\n",
       "   'ip_address': '172.20.0.2'}]}"
      ]
     },
     "execution_count": 26,
     "metadata": {},
     "output_type": "execute_result"
    }
   ],
   "source": [
    "tools.get_docker_containers()"
   ]
  },
  {
   "cell_type": "code",
   "execution_count": 27,
   "id": "2c190a51",
   "metadata": {},
   "outputs": [
    {
     "name": "stdout",
     "output_type": "stream",
     "text": [
      "{'firewall_status': 'up', 'suricata_status': 'up'}\n",
      "Chain FORWARD (policy DROP)\n",
      "num  target     prot opt source               destination         \n",
      "1    ACCEPT     all  --  0.0.0.0/0            0.0.0.0/0            state RELATED,ESTABLISHED\n",
      "2    ACCEPT     icmp --  0.0.0.0/0            0.0.0.0/0           \n",
      "3    ACCEPT     udp  --  172.20.0.0/24        0.0.0.0/0            udp dpt:53\n",
      "4    ACCEPT     tcp  --  172.20.0.0/24        0.0.0.0/0            tcp dpt:53\n",
      "5    ACCEPT     all  --  172.20.0.0/24        0.0.0.0/0           \n",
      "6    ACCEPT     all  --  0.0.0.0/0            172.20.0.0/24        state RELATED,ESTABLISHED\n",
      "7    ACCEPT     all  --  172.20.0.0/24        172.20.0.0/24       \n",
      "8    DROP       all  --  192.168.100.0/24     172.20.0.0/24       \n",
      "9    DROP       all  --  172.20.0.0/24        192.168.100.0/24    \n",
      "10   LOG        all  --  0.0.0.0/0            0.0.0.0/0            LOG flags 0 level 4 prefix \"FIREWALL-DROP: \"\n",
      "\n"
     ]
    }
   ],
   "source": [
    "print(tools.check_services_health())\n",
    "rules = tools.get_firewall_rules()\n",
    "print(rules['firewall_config']['data']['rules'])"
   ]
  },
  {
   "cell_type": "code",
   "execution_count": 24,
   "id": "d1039a00",
   "metadata": {},
   "outputs": [
    {
     "name": "stderr",
     "output_type": "stream",
     "text": [
      "INFO:tools:Removing firewall rules: [1]\n"
     ]
    },
    {
     "data": {
      "text/plain": [
       "{'rules_removed_current_epoch': ['REMOVED rule #1:    ACCEPT     tcp  --  192.168.100.2        172.20.0.4']}"
      ]
     },
     "execution_count": 24,
     "metadata": {},
     "output_type": "execute_result"
    }
   ],
   "source": [
    "tools.remove_firewall_rule([1])"
   ]
  },
  {
   "cell_type": "code",
   "execution_count": 18,
   "id": "d953c024",
   "metadata": {},
   "outputs": [
    {
     "name": "stderr",
     "output_type": "stream",
     "text": [
      "INFO:tools:Adding allow rule: ALLOW 192.168.100.2 -> 172.20.0.4 (tcp)\n",
      "INFO:tools:Adding allow rule: ALLOW 172.20.0.4 -> 192.168.100.2 (all)\n"
     ]
    },
    {
     "data": {
      "text/plain": [
       "{'rules_added_current_epoch': 'ALLOW 172.20.0.4 -> 192.168.100.2 (all)'}"
      ]
     },
     "execution_count": 18,
     "metadata": {},
     "output_type": "execute_result"
    }
   ],
   "source": [
    "honeypot_ip = '172.20.0.4' \n",
    "attacker_ip = '192.168.100.2'\n",
    "\n",
    "tools.add_allow_rule(source_ip=attacker_ip, dest_ip=honeypot_ip)\n",
    "tools.add_allow_rule(source_ip=honeypot_ip, dest_ip=attacker_ip, protocol='all')"
   ]
  }
 ],
 "metadata": {
  "kernelspec": {
   "display_name": ".venv",
   "language": "python",
   "name": "python3"
  },
  "language_info": {
   "codemirror_mode": {
    "name": "ipython",
    "version": 3
   },
   "file_extension": ".py",
   "mimetype": "text/x-python",
   "name": "python",
   "nbconvert_exporter": "python",
   "pygments_lexer": "ipython3",
   "version": "3.13.3"
  }
 },
 "nbformat": 4,
 "nbformat_minor": 5
}
