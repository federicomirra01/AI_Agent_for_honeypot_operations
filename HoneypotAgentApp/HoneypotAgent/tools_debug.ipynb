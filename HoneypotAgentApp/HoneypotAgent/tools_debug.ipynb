{
 "cells": [
  {
   "cell_type": "code",
   "execution_count": 2,
   "id": "d7adb3a7",
   "metadata": {},
   "outputs": [
    {
     "data": {
      "text/plain": [
       "<module 'memory' from '/home/c0ff3k1ll3r/Desktop/Thesis/AI_Agent_for_honeypot_operations/HoneypotAgentApp/HoneypotAgent/memory.py'>"
      ]
     },
     "execution_count": 2,
     "metadata": {},
     "output_type": "execute_result"
    }
   ],
   "source": [
    "import tools\n",
    "import importlib\n",
    "import memory\n",
    "importlib.reload(tools)\n",
    "importlib.reload(memory)"
   ]
  },
  {
   "cell_type": "code",
   "execution_count": 39,
   "id": "d8b4cac3",
   "metadata": {},
   "outputs": [
    {
     "data": {
      "text/plain": [
       "{'security_events': {'alerts': [],\n",
       "  'count': 0,\n",
       "  'time_window_minutes': 5,\n",
       "  'timestamp': '2025-07-29T19:13:34.930941'}}"
      ]
     },
     "execution_count": 39,
     "metadata": {},
     "output_type": "execute_result"
    }
   ],
   "source": [
    "alerts = tools.get_fast_alerts(time_window=5)\n",
    "alerts"
   ]
  },
  {
   "cell_type": "code",
   "execution_count": 38,
   "id": "e451dc46",
   "metadata": {},
   "outputs": [
    {
     "data": {
      "text/plain": [
       "{'honeypot_config': [{'id': '8b91b0aa194f',\n",
       "   'name': 'unauthorized-rce-docker-1',\n",
       "   'image': 'unauthorized-rce-docker:latest',\n",
       "   'status': 'running',\n",
       "   'created': '2025-07-29T17:13:05.74799918Z',\n",
       "   'ports': ['2375/tcp', '2376/tcp'],\n",
       "   'ip_address': '172.20.0.3'},\n",
       "  {'id': '06f21741e8e9',\n",
       "   'name': 'gitlab-proxy',\n",
       "   'image': 'nginx:alpine',\n",
       "   'status': 'running',\n",
       "   'created': '2025-07-29T16:50:47.951371126Z',\n",
       "   'ports': ['80/tcp'],\n",
       "   'ip_address': '172.20.0.8'},\n",
       "  {'id': 'dc7b64b8a4df',\n",
       "   'name': 'cve-2021-22205-gitlab-1',\n",
       "   'image': 'vulhub/gitlab:13.10.1',\n",
       "   'status': 'running',\n",
       "   'created': '2025-07-29T16:50:47.932328427Z',\n",
       "   'ports': ['22/tcp', '443/tcp', '80/tcp', '8080/tcp'],\n",
       "   'ip_address': '172.20.0.7'},\n",
       "  {'id': '3ff99b759a4c',\n",
       "   'name': 's2-057-struts2-1',\n",
       "   'image': 'vulhub/struts2:2.3.34-showcase',\n",
       "   'status': 'running',\n",
       "   'created': '2025-07-29T16:50:47.508218355Z',\n",
       "   'ports': ['8080/tcp'],\n",
       "   'ip_address': '172.20.0.4'},\n",
       "  {'id': '3886442300b3',\n",
       "   'name': 'xdebug-rce-xdebug2-1',\n",
       "   'image': 'vulhub/php:7.1-xdebug',\n",
       "   'status': 'running',\n",
       "   'created': '2025-07-29T16:50:44.861513957Z',\n",
       "   'ports': ['80/tcp'],\n",
       "   'ip_address': '172.20.0.2'}]}"
      ]
     },
     "execution_count": 38,
     "metadata": {},
     "output_type": "execute_result"
    }
   ],
   "source": [
    "tools.get_docker_containers()"
   ]
  },
  {
   "cell_type": "code",
   "execution_count": 41,
   "id": "2c190a51",
   "metadata": {},
   "outputs": [
    {
     "name": "stdout",
     "output_type": "stream",
     "text": [
      "{'firewall_status': 'up', 'suricata_status': 'up'}\n",
      "Chain FORWARD (policy DROP)\n",
      "num  target     prot opt source               destination         \n",
      "1    ACCEPT     all  --  0.0.0.0/0            0.0.0.0/0            state RELATED,ESTABLISHED\n",
      "2    ACCEPT     icmp --  0.0.0.0/0            0.0.0.0/0           \n",
      "3    ACCEPT     udp  --  172.20.0.0/24        0.0.0.0/0            udp dpt:53\n",
      "4    ACCEPT     tcp  --  172.20.0.0/24        0.0.0.0/0            tcp dpt:53\n",
      "5    ACCEPT     all  --  172.20.0.0/24        0.0.0.0/0           \n",
      "6    ACCEPT     all  --  0.0.0.0/0            172.20.0.0/24        state RELATED,ESTABLISHED\n",
      "7    ACCEPT     all  --  172.20.0.0/24        172.20.0.0/24       \n",
      "8    DROP       all  --  192.168.100.0/24     172.20.0.0/24       \n",
      "9    DROP       all  --  172.20.0.0/24        192.168.100.0/24    \n",
      "10   LOG        all  --  0.0.0.0/0            0.0.0.0/0            LOG flags 0 level 4 prefix \"FIREWALL-DROP: \"\n",
      "\n"
     ]
    }
   ],
   "source": [
    "print(tools.check_services_health())\n",
    "rules = tools.get_firewall_rules()\n",
    "print(rules['firewall_config']['data']['rules'])"
   ]
  },
  {
   "cell_type": "code",
   "execution_count": 32,
   "id": "d1039a00",
   "metadata": {},
   "outputs": [
    {
     "name": "stderr",
     "output_type": "stream",
     "text": [
      "INFO:tools:Removing firewall rules: [1]\n"
     ]
    },
    {
     "data": {
      "text/plain": [
       "{'rules_removed_current_epoch': ['REMOVED rule #1:    ACCEPT     tcp  --  192.168.100.0/24     172.20.0.8']}"
      ]
     },
     "execution_count": 32,
     "metadata": {},
     "output_type": "execute_result"
    }
   ],
   "source": [
    "tools.remove_firewall_rule([1])"
   ]
  },
  {
   "cell_type": "code",
   "execution_count": 3,
   "id": "d953c024",
   "metadata": {},
   "outputs": [
    {
     "name": "stderr",
     "output_type": "stream",
     "text": [
      "INFO:tools:Adding allow rule: ALLOW 192.168.100.2 -> 172.20.0.2 (tcp)\n",
      "INFO:tools:Adding allow rule: ALLOW 172.20.0.2 -> 192.168.100.2 (all)\n"
     ]
    },
    {
     "data": {
      "text/plain": [
       "{'rules_added_current_epoch': 'ALLOW 172.20.0.2 -> 192.168.100.2 (all)'}"
      ]
     },
     "execution_count": 3,
     "metadata": {},
     "output_type": "execute_result"
    }
   ],
   "source": [
    "honeypot_ip = '172.20.0.2' \n",
    "attacker_ip = '192.168.100.2'\n",
    "\n",
    "tools.add_allow_rule(source_ip=attacker_ip, dest_ip=honeypot_ip)\n",
    "tools.add_allow_rule(source_ip=honeypot_ip, dest_ip=attacker_ip, protocol='all')"
   ]
  }
 ],
 "metadata": {
  "kernelspec": {
   "display_name": ".venv",
   "language": "python",
   "name": "python3"
  },
  "language_info": {
   "codemirror_mode": {
    "name": "ipython",
    "version": 3
   },
   "file_extension": ".py",
   "mimetype": "text/x-python",
   "name": "python",
   "nbconvert_exporter": "python",
   "pygments_lexer": "ipython3",
   "version": "3.13.3"
  }
 },
 "nbformat": 4,
 "nbformat_minor": 5
}
