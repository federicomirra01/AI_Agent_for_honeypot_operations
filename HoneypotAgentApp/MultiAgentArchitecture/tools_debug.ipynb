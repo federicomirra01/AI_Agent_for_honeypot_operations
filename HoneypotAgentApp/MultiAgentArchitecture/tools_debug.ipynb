{
 "cells": [
  {
   "cell_type": "code",
   "execution_count": 87,
   "id": "d7adb3a7",
   "metadata": {},
   "outputs": [
    {
     "data": {
      "text/plain": [
       "<module 'tools.firewall_tools' from '/home/federico/Desktop/Thesis/AI_Agent_for_honeypot_operations/HoneypotAgentApp/MultiAgentArchitecture/tools/firewall_tools.py'>"
      ]
     },
     "execution_count": 87,
     "metadata": {},
     "output_type": "execute_result"
    }
   ],
   "source": [
    "import importlib\n",
    "from tools import network_tools as network_tools\n",
    "from tools import firewall_tools as firewall_tools\n",
    "importlib.reload(network_tools)\n",
    "importlib.reload(firewall_tools)"
   ]
  },
  {
   "cell_type": "code",
   "execution_count": 96,
   "id": "d8b4cac3",
   "metadata": {},
   "outputs": [
    {
     "data": {
      "text/plain": [
       "21"
      ]
     },
     "execution_count": 96,
     "metadata": {},
     "output_type": "execute_result"
    }
   ],
   "source": [
    "alerts = await network_tools.get_alerts(time_window=2)\n",
    "len(alerts.get('security_events', []).get('alerts'))"
   ]
  },
  {
   "cell_type": "code",
   "execution_count": 95,
   "id": "407a1c8e",
   "metadata": {},
   "outputs": [
    {
     "data": {
      "text/plain": [
       "{'security_events': {'alerts': [{'category': 'Potentially Bad Traffic',\n",
       "    'dest_ip': '172.20.0.2',\n",
       "    'dest_port': 3306,\n",
       "    'flow_id': 348203585935658,\n",
       "    'payload': None,\n",
       "    'proto': 'TCP',\n",
       "    'severity': 2,\n",
       "    'signature': 'ET SCAN Suspicious inbound to mySQL port 3306',\n",
       "    'src_ip': '192.168.100.2',\n",
       "    'src_port': 64793,\n",
       "    'timestamp': '2025-10-15T17:37:53.670896+0200'},\n",
       "   {'category': 'Attempted Information Leak',\n",
       "    'dest_ip': '172.20.0.2',\n",
       "    'dest_port': 636,\n",
       "    'flow_id': 357837832331514,\n",
       "    'payload': None,\n",
       "    'proto': 'TCP',\n",
       "    'severity': 3,\n",
       "    'signature': 'POSSBL PORT SCAN (NMAP -sS)',\n",
       "    'src_ip': '192.168.100.2',\n",
       "    'src_port': 64793,\n",
       "    'timestamp': '2025-10-15T17:37:53.673139+0200'},\n",
       "   {'category': 'Potentially Bad Traffic',\n",
       "    'dest_ip': '172.20.0.2',\n",
       "    'dest_port': 1433,\n",
       "    'flow_id': 358015589176048,\n",
       "    'payload': None,\n",
       "    'proto': 'TCP',\n",
       "    'severity': 2,\n",
       "    'signature': 'ET SCAN Suspicious inbound to MSSQL port 1433',\n",
       "    'src_ip': '192.168.100.2',\n",
       "    'src_port': 64793,\n",
       "    'timestamp': '2025-10-15T17:37:53.673181+0200'},\n",
       "   {'category': 'Attempted Information Leak',\n",
       "    'dest_ip': '172.20.0.2',\n",
       "    'dest_port': 2375,\n",
       "    'flow_id': 892716240472471,\n",
       "    'payload': 'GET /showcase HTTP/1.1\\r\\nHost: 172.20.0.2:2375\\r\\nUser-Agent: curl/8.15.0\\r\\nAccept: */*\\r\\n\\r\\n',\n",
       "    'proto': 'TCP',\n",
       "    'severity': 2,\n",
       "    'signature': 'ET INFO POSSIBLE Web Crawl using Curl',\n",
       "    'src_ip': '192.168.100.2',\n",
       "    'src_port': 59726,\n",
       "    'timestamp': '2025-10-15T17:37:55.405123+0200'},\n",
       "   {'category': 'access to a potentially vulnerable web application',\n",
       "    'dest_ip': '172.20.0.2',\n",
       "    'dest_port': 2375,\n",
       "    'flow_id': 1569743335359388,\n",
       "    'payload': 'GET /v1.48/containers/061d2126bb074df51ca53d7b45df365157249a5fd6dc5aff4575492599a9352a/json HTTP/1.1\\r\\nHost: 172.20.0.2:2375\\r\\nUser-Agent: docker-sdk-python/7.1.0\\r\\nAccept-Encoding: gzip, deflate\\r\\nAccept: */*\\r\\nConnection: keep-alive\\r\\n\\r\\nPOST /v1.48/containers/061d2126bb074df51ca53d7b45df365157249a5fd6dc5aff4575492599a9352a/wait HTTP/1.1\\r\\nHost: 172.20.0.2:2375\\r\\nUser-Agent: docker-sdk-python/7.1.0\\r\\nAccept-Encoding: gzip, deflate\\r\\nAccept: */*\\r\\nConnection: keep-alive\\r\\nContent-Length: 0\\r\\n\\r\\nDELETE /v1.48/',\n",
       "    'proto': 'TCP',\n",
       "    'severity': 2,\n",
       "    'signature': 'GPL WEB_SERVER DELETE attempt',\n",
       "    'src_ip': '192.168.100.2',\n",
       "    'src_port': 36786,\n",
       "    'timestamp': '2025-10-15T17:37:57.922314+0200'},\n",
       "   {'category': 'Potentially Bad Traffic',\n",
       "    'dest_ip': '172.20.0.2',\n",
       "    'dest_port': 3306,\n",
       "    'flow_id': 1259609054344814,\n",
       "    'payload': None,\n",
       "    'proto': 'TCP',\n",
       "    'severity': 2,\n",
       "    'signature': 'ET SCAN Suspicious inbound to mySQL port 3306',\n",
       "    'src_ip': '192.168.100.2',\n",
       "    'src_port': 57416,\n",
       "    'timestamp': '2025-10-15T17:38:28.883099+0200'},\n",
       "   {'category': 'Attempted Information Leak',\n",
       "    'dest_ip': '172.20.0.2',\n",
       "    'dest_port': 80,\n",
       "    'flow_id': 1279141467459888,\n",
       "    'payload': None,\n",
       "    'proto': 'TCP',\n",
       "    'severity': 3,\n",
       "    'signature': 'POSSBL PORT SCAN (NMAP -sS)',\n",
       "    'src_ip': '192.168.100.2',\n",
       "    'src_port': 57416,\n",
       "    'timestamp': '2025-10-15T17:38:28.887647+0200'},\n",
       "   {'category': 'Attempted Information Leak',\n",
       "    'dest_ip': '172.20.0.2',\n",
       "    'dest_port': 8081,\n",
       "    'flow_id': 1288951358971967,\n",
       "    'payload': None,\n",
       "    'proto': 'TCP',\n",
       "    'severity': 3,\n",
       "    'signature': 'POSSBL PORT SCAN (NMAP -sS)',\n",
       "    'src_ip': '192.168.100.2',\n",
       "    'src_port': 57416,\n",
       "    'timestamp': '2025-10-15T17:38:28.889931+0200'},\n",
       "   {'category': 'Potentially Bad Traffic',\n",
       "    'dest_ip': '172.20.0.2',\n",
       "    'dest_port': 1433,\n",
       "    'flow_id': 1289375599044636,\n",
       "    'payload': None,\n",
       "    'proto': 'TCP',\n",
       "    'severity': 2,\n",
       "    'signature': 'ET SCAN Suspicious inbound to MSSQL port 1433',\n",
       "    'src_ip': '192.168.100.2',\n",
       "    'src_port': 57416,\n",
       "    'timestamp': '2025-10-15T17:38:28.890030+0200'},\n",
       "   {'category': 'access to a potentially vulnerable web application',\n",
       "    'dest_ip': '172.20.0.2',\n",
       "    'dest_port': 2375,\n",
       "    'flow_id': 525615039229153,\n",
       "    'payload': 'GET /v1.48/containers/42be10f5dd4f24cae23f2abcd171c5e36ec5fcf39b6fd944208587cf9267da50/json HTTP/1.1\\r\\nHost: 172.20.0.2:2375\\r\\nUser-Agent: docker-sdk-python/7.1.0\\r\\nAccept-Encoding: gzip, deflate\\r\\nAccept: */*\\r\\nConnection: keep-alive\\r\\n\\r\\nPOST /v1.48/containers/42be10f5dd4f24cae23f2abcd171c5e36ec5fcf39b6fd944208587cf9267da50/wait HTTP/1.1\\r\\nHost: 172.20.0.2:2375\\r\\nUser-Agent: docker-sdk-python/7.1.0\\r\\nAccept-Encoding: gzip, deflate\\r\\nAccept: */*\\r\\nConnection: keep-alive\\r\\nContent-Length: 0\\r\\n\\r\\nDELETE /v1.48/',\n",
       "    'proto': 'TCP',\n",
       "    'severity': 2,\n",
       "    'signature': 'GPL WEB_SERVER DELETE attempt',\n",
       "    'src_ip': '192.168.100.2',\n",
       "    'src_port': 44422,\n",
       "    'timestamp': '2025-10-15T17:38:33.063967+0200'},\n",
       "   {'category': 'Attempted Information Leak',\n",
       "    'dest_ip': '172.20.0.2',\n",
       "    'dest_port': 43847,\n",
       "    'flow_id': 853459880767777,\n",
       "    'payload': \"find / -type f -name 'user.txt' 2>/dev/null\\ncat /home/ctf/user.txt\\n\",\n",
       "    'proto': 'TCP',\n",
       "    'severity': 2,\n",
       "    'signature': 'User-Level File Discovery',\n",
       "    'src_ip': '192.168.100.2',\n",
       "    'src_port': 4444,\n",
       "    'timestamp': '2025-10-15T17:38:41.272483+0200'},\n",
       "   {'category': 'access to a potentially vulnerable web application',\n",
       "    'dest_ip': '172.20.0.2',\n",
       "    'dest_port': 2375,\n",
       "    'flow_id': 876577227888118,\n",
       "    'payload': 'GET /v1.48/containers/b8b307183e302d37c5d500db2df9b3bbc6dd8a1573dcfa8f1a0e020f3454e210/json HTTP/1.1\\r\\nHost: 172.20.0.2:2375\\r\\nUser-Agent: docker-sdk-python/7.1.0\\r\\nAccept-Encoding: gzip, deflate\\r\\nAccept: */*\\r\\nConnection: keep-alive\\r\\n\\r\\nPOST /v1.48/containers/b8b307183e302d37c5d500db2df9b3bbc6dd8a1573dcfa8f1a0e020f3454e210/wait HTTP/1.1\\r\\nHost: 172.20.0.2:2375\\r\\nUser-Agent: docker-sdk-python/7.1.0\\r\\nAccept-Encoding: gzip, deflate\\r\\nAccept: */*\\r\\nConnection: keep-alive\\r\\nContent-Length: 0\\r\\n\\r\\nDELETE /v1.48/',\n",
       "    'proto': 'TCP',\n",
       "    'severity': 2,\n",
       "    'signature': 'GPL WEB_SERVER DELETE attempt',\n",
       "    'src_ip': '192.168.100.2',\n",
       "    'src_port': 44442,\n",
       "    'timestamp': '2025-10-15T17:38:41.395845+0200'}],\n",
       "  'time_window_minutes': 1,\n",
       "  'timestamp': '2025-10-15T17:38:42.178776Z',\n",
       "  'total_events': 12}}"
      ]
     },
     "execution_count": 95,
     "metadata": {},
     "output_type": "execute_result"
    }
   ],
   "source": [
    "alerts = await network_tools.get_alerts(time_window=1)\n",
    "alerts"
   ]
  },
  {
   "cell_type": "code",
   "execution_count": 91,
   "id": "e451dc46",
   "metadata": {},
   "outputs": [
    {
     "data": {
      "text/plain": [
       "{'honeypot_config': [{'id': 'c51847d8dfce',\n",
       "   'service': 's2-057-struts2-1',\n",
       "   'image': 'vulhub/struts2:2.3.34-showcase',\n",
       "   'status': 'running',\n",
       "   'created': '2025-10-15T15:17:23.066250931Z',\n",
       "   'ports': ['8080/tcp'],\n",
       "   'ip': '172.20.0.3'},\n",
       "  {'id': '5f35729d9390',\n",
       "   'service': 'unauthorized-rce-docker-1',\n",
       "   'image': 'unauthorized-rce-docker:latest',\n",
       "   'status': 'running',\n",
       "   'created': '2025-10-15T14:39:49.747052018Z',\n",
       "   'ports': ['2375/tcp', '2376/tcp'],\n",
       "   'ip': '172.20.0.2'}]}"
      ]
     },
     "execution_count": 91,
     "metadata": {},
     "output_type": "execute_result"
    }
   ],
   "source": [
    "network_tools.get_docker_containers()"
   ]
  },
  {
   "cell_type": "code",
   "execution_count": 92,
   "id": "2c190a51",
   "metadata": {},
   "outputs": [
    {
     "name": "stdout",
     "output_type": "stream",
     "text": [
      "{'firewall_status': 'up', 'suricata_status': 'up'}\n",
      "Chain FORWARD (policy DROP)\n",
      "num  target     prot opt source               destination         \n",
      "1    ACCEPT     all  --  0.0.0.0/0            0.0.0.0/0            state RELATED,ESTABLISHED\n",
      "2    ACCEPT     icmp --  0.0.0.0/0            0.0.0.0/0           \n",
      "3    ACCEPT     all  --  172.20.0.0/24        172.20.0.0/24       \n",
      "4    DROP       all  --  192.168.100.0/24     172.20.0.0/24       \n",
      "5    DROP       all  --  172.20.0.0/24        192.168.100.0/24    \n",
      "6    LOG        all  --  0.0.0.0/0            0.0.0.0/0            LOG flags 0 level 4 prefix \"FIREWALL-DROP: \"\n",
      "\n"
     ]
    }
   ],
   "source": [
    "print(network_tools.check_services_health())\n",
    "rules = await firewall_tools.get_firewall_rules()\n",
    "print(rules['firewall_config']['data']['rules'])"
   ]
  },
  {
   "cell_type": "code",
   "execution_count": 31,
   "id": "d1039a00",
   "metadata": {},
   "outputs": [
    {
     "name": "stderr",
     "output_type": "stream",
     "text": [
      "INFO:tools.firewall_tools:Removing firewall rules: [1, 2]\n"
     ]
    },
    {
     "data": {
      "text/plain": [
       "{'rules_removed_current_epoch': ['REMOVED rule #1:    ACCEPT     tcp  --  172.20.0.2           192.168.100.0/24',\n",
       "  'REMOVED rule #2:    ACCEPT     tcp  --  192.168.100.0/24     172.20.0.2']}"
      ]
     },
     "execution_count": 31,
     "metadata": {},
     "output_type": "execute_result"
    }
   ],
   "source": [
    "await firewall_tools.remove_firewall_rule([1, 2])"
   ]
  },
  {
   "cell_type": "code",
   "execution_count": 93,
   "id": "d953c024",
   "metadata": {},
   "outputs": [
    {
     "name": "stderr",
     "output_type": "stream",
     "text": [
      "INFO:tools.firewall_tools:Adding allow rule: ALLOW 192.168.100.2/24 -> 172.20.0.2 (tcp)\n",
      "INFO:tools.firewall_tools:Adding allow rule: ALLOW 172.20.0.2 -> 192.168.100.2/24 (tcp)\n"
     ]
    },
    {
     "data": {
      "text/plain": [
       "{'rules_added_current_epoch': 'ALLOW 172.20.0.2 -> 192.168.100.2/24 (tcp)'}"
      ]
     },
     "execution_count": 93,
     "metadata": {},
     "output_type": "execute_result"
    }
   ],
   "source": [
    "honeypot_ip = '172.20.0.2' \n",
    "attacker_ip = '192.168.100.2/24'\n",
    "\n",
    "await firewall_tools.add_allow_rule(source_ip=attacker_ip, dest_ip=honeypot_ip, port=8080)\n",
    "await firewall_tools.add_allow_rule(source_ip=honeypot_ip, dest_ip=attacker_ip)"
   ]
  }
 ],
 "metadata": {
  "kernelspec": {
   "display_name": ".venv",
   "language": "python",
   "name": "python3"
  },
  "language_info": {
   "codemirror_mode": {
    "name": "ipython",
    "version": 3
   },
   "file_extension": ".py",
   "mimetype": "text/x-python",
   "name": "python",
   "nbconvert_exporter": "python",
   "pygments_lexer": "ipython3",
   "version": "3.13.7"
  }
 },
 "nbformat": 4,
 "nbformat_minor": 5
}
