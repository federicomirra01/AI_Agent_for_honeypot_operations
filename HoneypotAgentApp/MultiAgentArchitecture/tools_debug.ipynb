{
 "cells": [
  {
   "cell_type": "code",
   "execution_count": 26,
   "id": "d7adb3a7",
   "metadata": {},
   "outputs": [
    {
     "data": {
      "text/plain": [
       "<module 'tools.firewall_tools' from '/home/c0ff3k1ll3r/Desktop/Thesis/AI_Agent_for_honeypot_operations/HoneypotAgentApp/MultiAgentArchitecture/tools/firewall_tools.py'>"
      ]
     },
     "execution_count": 26,
     "metadata": {},
     "output_type": "execute_result"
    }
   ],
   "source": [
    "import importlib\n",
    "from tools import network_tools as network_tools\n",
    "from tools import firewall_tools as firewall_tools\n",
    "importlib.reload(network_tools)\n",
    "importlib.reload(firewall_tools)"
   ]
  },
  {
   "cell_type": "code",
   "execution_count": 48,
   "id": "d8b4cac3",
   "metadata": {},
   "outputs": [
    {
     "data": {
      "text/plain": [
       "{'security_events': {'alerts': [{'message': '[**] [1:3400001:1] POSSBL PORT SCAN (NMAP -sS) [**] [Classification: Attempted Information Leak] [Priority: 2] {TCP} 192.168.100.2:37389 -> 172.20.0.6:443',\n",
       "    'timestamp': '2025-08-30T16:41:56.379315+02:00'},\n",
       "   {'message': '[**] [1:3400001:1] POSSBL PORT SCAN (NMAP -sS) [**] [Classification: Attempted Information Leak] [Priority: 2] {TCP} 192.168.100.2:37389 -> 172.20.0.17:443',\n",
       "    'timestamp': '2025-08-30T16:41:56.582188+02:00'},\n",
       "   {'message': '[**] [1:3400001:1] POSSBL PORT SCAN (NMAP -sS) [**] [Classification: Attempted Information Leak] [Priority: 2] {TCP} 192.168.100.2:37389 -> 172.20.0.32:443',\n",
       "    'timestamp': '2025-08-30T16:41:56.582263+02:00'},\n",
       "   {'message': '[**] [1:3400001:1] POSSBL PORT SCAN (NMAP -sS) [**] [Classification: Attempted Information Leak] [Priority: 2] {TCP} 192.168.100.2:37389 -> 172.20.0.49:443',\n",
       "    'timestamp': '2025-08-30T16:41:56.584509+02:00'},\n",
       "   {'message': '[**] [1:3400001:1] POSSBL PORT SCAN (NMAP -sS) [**] [Classification: Attempted Information Leak] [Priority: 2] {TCP} 192.168.100.2:37389 -> 172.20.0.61:443',\n",
       "    'timestamp': '2025-08-30T16:41:56.584594+02:00'},\n",
       "   {'message': '[**] [1:3400001:1] POSSBL PORT SCAN (NMAP -sS) [**] [Classification: Attempted Information Leak] [Priority: 2] {TCP} 192.168.100.2:37391 -> 172.20.0.24:443',\n",
       "    'timestamp': '2025-08-30T16:41:56.682608+02:00'},\n",
       "   {'message': '[**] [1:3400001:1] POSSBL PORT SCAN (NMAP -sS) [**] [Classification: Attempted Information Leak] [Priority: 2] {TCP} 192.168.100.2:37391 -> 172.20.0.38:443',\n",
       "    'timestamp': '2025-08-30T16:41:56.682668+02:00'},\n",
       "   {'message': '[**] [1:3400001:1] POSSBL PORT SCAN (NMAP -sS) [**] [Classification: Attempted Information Leak] [Priority: 2] {TCP} 192.168.100.2:37391 -> 172.20.0.52:443',\n",
       "    'timestamp': '2025-08-30T16:41:56.685418+02:00'},\n",
       "   {'message': '[**] [1:3400001:1] POSSBL PORT SCAN (NMAP -sS) [**] [Classification: Attempted Information Leak] [Priority: 2] {TCP} 192.168.100.2:37391 -> 172.20.0.66:443',\n",
       "    'timestamp': '2025-08-30T16:41:56.685481+02:00'},\n",
       "   {'message': '[**] [1:3400001:1] POSSBL PORT SCAN (NMAP -sS) [**] [Classification: Attempted Information Leak] [Priority: 2] {TCP} 192.168.100.2:37389 -> 172.20.0.80:443',\n",
       "    'timestamp': '2025-08-30T16:41:56.785467+02:00'},\n",
       "   {'message': '[**] [1:3400001:1] POSSBL PORT SCAN (NMAP -sS) [**] [Classification: Attempted Information Leak] [Priority: 2] {TCP} 192.168.100.2:37389 -> 172.20.0.98:443',\n",
       "    'timestamp': '2025-08-30T16:41:56.787831+02:00'},\n",
       "   {'message': '[**] [1:3400001:1] POSSBL PORT SCAN (NMAP -sS) [**] [Classification: Attempted Information Leak] [Priority: 2] {TCP} 192.168.100.2:37391 -> 172.20.0.70:443',\n",
       "    'timestamp': '2025-08-30T16:41:56.888019+02:00'},\n",
       "   {'message': '[**] [1:3400001:1] POSSBL PORT SCAN (NMAP -sS) [**] [Classification: Attempted Information Leak] [Priority: 2] {TCP} 192.168.100.2:37391 -> 172.20.0.84:443',\n",
       "    'timestamp': '2025-08-30T16:41:56.890815+02:00'},\n",
       "   {'message': '[**] [1:3400001:1] POSSBL PORT SCAN (NMAP -sS) [**] [Classification: Attempted Information Leak] [Priority: 2] {TCP} 192.168.100.2:37391 -> 172.20.0.100:443',\n",
       "    'timestamp': '2025-08-30T16:41:56.890918+02:00'},\n",
       "   {'message': '[**] [1:3400001:1] POSSBL PORT SCAN (NMAP -sS) [**] [Classification: Attempted Information Leak] [Priority: 2] {TCP} 192.168.100.2:37389 -> 172.20.0.56:443',\n",
       "    'timestamp': '2025-08-30T16:41:56.988304+02:00'},\n",
       "   {'message': '[**] [1:3400001:1] POSSBL PORT SCAN (NMAP -sS) [**] [Classification: Attempted Information Leak] [Priority: 2] {TCP} 192.168.100.2:37389 -> 172.20.0.115:443',\n",
       "    'timestamp': '2025-08-30T16:41:57.083779+02:00'},\n",
       "   {'message': '[**] [1:3400001:1] POSSBL PORT SCAN (NMAP -sS) [**] [Classification: Attempted Information Leak] [Priority: 2] {TCP} 192.168.100.2:37391 -> 172.20.0.68:443',\n",
       "    'timestamp': '2025-08-30T16:41:57.088800+02:00'},\n",
       "   {'message': '[**] [1:3400001:1] POSSBL PORT SCAN (NMAP -sS) [**] [Classification: Attempted Information Leak] [Priority: 2] {TCP} 192.168.100.2:37391 -> 172.20.0.85:443',\n",
       "    'timestamp': '2025-08-30T16:41:57.093796+02:00'},\n",
       "   {'message': '[**] [1:3400001:1] POSSBL PORT SCAN (NMAP -sS) [**] [Classification: Attempted Information Leak] [Priority: 2] {TCP} 192.168.100.2:37389 -> 172.20.0.43:443',\n",
       "    'timestamp': '2025-08-30T16:41:57.186569+02:00'},\n",
       "   {'message': '[**] [1:3400001:1] POSSBL PORT SCAN (NMAP -sS) [**] [Classification: Attempted Information Leak] [Priority: 2] {TCP} 192.168.100.2:37391 -> 172.20.0.16:443',\n",
       "    'timestamp': '2025-08-30T16:41:57.195670+02:00'},\n",
       "   {'message': '[**] [1:3400001:1] POSSBL PORT SCAN (NMAP -sS) [**] [Classification: Attempted Information Leak] [Priority: 2] {TCP} 192.168.100.2:37391 -> 172.20.0.34:443',\n",
       "    'timestamp': '2025-08-30T16:41:57.286979+02:00'},\n",
       "   {'message': '[**] [1:3400001:1] POSSBL PORT SCAN (NMAP -sS) [**] [Classification: Attempted Information Leak] [Priority: 2] {TCP} 192.168.100.2:37391 -> 172.20.0.121:443',\n",
       "    'timestamp': '2025-08-30T16:41:57.384885+02:00'},\n",
       "   {'message': '[**] [1:3400001:1] POSSBL PORT SCAN (NMAP -sS) [**] [Classification: Attempted Information Leak] [Priority: 2] {TCP} 192.168.100.2:37389 -> 172.20.0.27:443',\n",
       "    'timestamp': '2025-08-30T16:41:57.396794+02:00'},\n",
       "   {'message': '[**] [1:3400001:1] POSSBL PORT SCAN (NMAP -sS) [**] [Classification: Attempted Information Leak] [Priority: 2] {TCP} 192.168.100.2:37391 -> 172.20.0.48:443',\n",
       "    'timestamp': '2025-08-30T16:41:57.497031+02:00'},\n",
       "   {'message': '[**] [1:3400001:1] POSSBL PORT SCAN (NMAP -sS) [**] [Classification: Attempted Information Leak] [Priority: 2] {TCP} 192.168.100.2:37645 -> 172.20.0.20:139',\n",
       "    'timestamp': '2025-08-30T16:42:03.038640+02:00'},\n",
       "   {'message': '[**] [1:3400001:1] POSSBL PORT SCAN (NMAP -sS) [**] [Classification: Attempted Information Leak] [Priority: 2] {TCP} 192.168.100.2:37645 -> 172.20.0.3:53',\n",
       "    'timestamp': '2025-08-30T16:42:03.040930+02:00'},\n",
       "   {'message': '[**] [1:3400001:1] POSSBL PORT SCAN (NMAP -sS) [**] [Classification: Attempted Information Leak] [Priority: 2] {TCP} 192.168.100.2:37645 -> 172.20.0.7:22',\n",
       "    'timestamp': '2025-08-30T16:42:03.139041+02:00'},\n",
       "   {'message': '[**] [1:2010937:3] ET SCAN Suspicious inbound to mySQL port 3306 [**] [Classification: Potentially Bad Traffic] [Priority: 2] {TCP} 192.168.100.2:37645 -> 172.20.0.7:3306',\n",
       "    'timestamp': '2025-08-30T16:42:03.139102+02:00'},\n",
       "   {'message': '[**] [1:2010937:3] ET SCAN Suspicious inbound to mySQL port 3306 [**] [Classification: Potentially Bad Traffic] [Priority: 2] {TCP} 192.168.100.2:37645 -> 172.20.0.7:3306',\n",
       "    'timestamp': '2025-08-30T16:42:03.139099+02:00'},\n",
       "   {'message': '[**] [1:3400001:1] POSSBL PORT SCAN (NMAP -sS) [**] [Classification: Attempted Information Leak] [Priority: 2] {TCP} 192.168.100.2:37645 -> 172.20.0.7:445',\n",
       "    'timestamp': '2025-08-30T16:42:03.141381+02:00'},\n",
       "   {'message': '[**] [1:3400001:1] POSSBL PORT SCAN (NMAP -sS) [**] [Classification: Attempted Information Leak] [Priority: 2] {TCP} 192.168.100.2:37645 -> 172.20.0.7:11211',\n",
       "    'timestamp': '2025-08-30T16:42:03.141447+02:00'},\n",
       "   {'message': '[**] [1:2010935:3] ET SCAN Suspicious inbound to MSSQL port 1433 [**] [Classification: Potentially Bad Traffic] [Priority: 2] {TCP} 192.168.100.2:37645 -> 172.20.0.7:1433',\n",
       "    'timestamp': '2025-08-30T16:42:03.141621+02:00'},\n",
       "   {'message': '[**] [1:2010935:3] ET SCAN Suspicious inbound to MSSQL port 1433 [**] [Classification: Potentially Bad Traffic] [Priority: 2] {TCP} 192.168.100.2:37645 -> 172.20.0.7:1433',\n",
       "    'timestamp': '2025-08-30T16:42:03.141625+02:00'},\n",
       "   {'message': '[**] [1:3400001:1] POSSBL PORT SCAN (NMAP -sS) [**] [Classification: Attempted Information Leak] [Priority: 2] {TCP} 192.168.100.2:37645 -> 172.20.0.7:465',\n",
       "    'timestamp': '2025-08-30T16:42:03.141667+02:00'},\n",
       "   {'message': '[**] [1:3400002:2] POSSBL PORT SCAN (NMAP -sS) [**] [Classification: Attempted Information Leak] [Priority: 2] {TCP} 192.168.100.2:37645 -> 172.20.0.7:8081',\n",
       "    'timestamp': '2025-08-30T16:42:03.141711+02:00'},\n",
       "   {'message': '[**] [1:3400001:1] POSSBL PORT SCAN (NMAP -sS) [**] [Classification: Attempted Information Leak] [Priority: 2] {TCP} 192.168.100.2:37647 -> 172.20.0.20:53',\n",
       "    'timestamp': '2025-08-30T16:42:04.140138+02:00'},\n",
       "   {'message': '[**] [1:3400001:1] POSSBL PORT SCAN (NMAP -sS) [**] [Classification: Attempted Information Leak] [Priority: 2] {TCP} 192.168.100.2:37645 -> 172.20.0.20:135',\n",
       "    'timestamp': '2025-08-30T16:42:04.140319+02:00'},\n",
       "   {'message': '[**] [1:3400001:1] POSSBL PORT SCAN (NMAP -sS) [**] [Classification: Attempted Information Leak] [Priority: 2] {TCP} 192.168.100.2:37645 -> 172.20.0.3:8080',\n",
       "    'timestamp': '2025-08-30T16:42:04.140515+02:00'},\n",
       "   {'message': '[**] [1:2001219:20] ET SCAN Potential SSH Scan [**] [Classification: Attempted Information Leak] [Priority: 2] {TCP} 192.168.100.2:37645 -> 172.20.0.2:22',\n",
       "    'timestamp': '2025-08-30T16:42:04.140560+02:00'},\n",
       "   {'message': '[**] [1:3400001:1] POSSBL PORT SCAN (NMAP -sS) [**] [Classification: Attempted Information Leak] [Priority: 2] {TCP} 192.168.100.2:37645 -> 172.20.0.20:143',\n",
       "    'timestamp': '2025-08-30T16:42:04.140658+02:00'},\n",
       "   {'message': '[**] [1:2010937:3] ET SCAN Suspicious inbound to mySQL port 3306 [**] [Classification: Potentially Bad Traffic] [Priority: 2] {TCP} 192.168.100.2:37645 -> 172.20.0.10:3306',\n",
       "    'timestamp': '2025-08-30T16:42:04.140697+02:00'},\n",
       "   {'message': '[**] [1:2010937:3] ET SCAN Suspicious inbound to mySQL port 3306 [**] [Classification: Potentially Bad Traffic] [Priority: 2] {TCP} 192.168.100.2:37645 -> 172.20.0.20:3306',\n",
       "    'timestamp': '2025-08-30T16:42:04.140712+02:00'},\n",
       "   {'message': '[**] [1:2010937:3] ET SCAN Suspicious inbound to mySQL port 3306 [**] [Classification: Potentially Bad Traffic] [Priority: 2] {TCP} 192.168.100.2:37645 -> 172.20.0.2:3306',\n",
       "    'timestamp': '2025-08-30T16:42:04.140729+02:00'},\n",
       "   {'message': '[**] [1:3400001:1] POSSBL PORT SCAN (NMAP -sS) [**] [Classification: Attempted Information Leak] [Priority: 2] {TCP} 192.168.100.2:37645 -> 172.20.0.20:1720',\n",
       "    'timestamp': '2025-08-30T16:42:04.240319+02:00'},\n",
       "   {'message': '[**] [1:3400001:1] POSSBL PORT SCAN (NMAP -sS) [**] [Classification: Attempted Information Leak] [Priority: 2] {TCP} 192.168.100.2:37647 -> 172.20.0.10:143',\n",
       "    'timestamp': '2025-08-30T16:42:04.242558+02:00'},\n",
       "   {'message': '[**] [1:3400001:1] POSSBL PORT SCAN (NMAP -sS) [**] [Classification: Attempted Information Leak] [Priority: 2] {TCP} 192.168.100.2:37647 -> 172.20.0.2:8080',\n",
       "    'timestamp': '2025-08-30T16:42:04.242630+02:00'},\n",
       "   {'message': '[**] [1:3400001:1] POSSBL PORT SCAN (NMAP -sS) [**] [Classification: Attempted Information Leak] [Priority: 2] {TCP} 192.168.100.2:37647 -> 172.20.0.10:135',\n",
       "    'timestamp': '2025-08-30T16:42:04.242699+02:00'},\n",
       "   {'message': '[**] [1:3400001:1] POSSBL PORT SCAN (NMAP -sS) [**] [Classification: Attempted Information Leak] [Priority: 2] {TCP} 192.168.100.2:37647 -> 172.20.0.20:1720',\n",
       "    'timestamp': '2025-08-30T16:42:04.340463+02:00'},\n",
       "   {'message': '[**] [1:3400001:1] POSSBL PORT SCAN (NMAP -sS) [**] [Classification: Attempted Information Leak] [Priority: 2] {TCP} 192.168.100.2:37645 -> 172.20.0.10:389',\n",
       "    'timestamp': '2025-08-30T16:42:04.342809+02:00'},\n",
       "   {'message': '[**] [1:3400001:1] POSSBL PORT SCAN (NMAP -sS) [**] [Classification: Attempted Information Leak] [Priority: 2] {TCP} 192.168.100.2:37645 -> 172.20.0.2:636',\n",
       "    'timestamp': '2025-08-30T16:42:04.342878+02:00'},\n",
       "   {'message': '[**] [1:3400002:2] POSSBL PORT SCAN (NMAP -sS) [**] [Classification: Attempted Information Leak] [Priority: 2] {TCP} 192.168.100.2:37645 -> 172.20.0.20:8161',\n",
       "    'timestamp': '2025-08-30T16:42:04.345214+02:00'},\n",
       "   {'message': '[**] [1:3400001:1] POSSBL PORT SCAN (NMAP -sS) [**] [Classification: Attempted Information Leak] [Priority: 2] {TCP} 192.168.100.2:37650 -> 172.20.0.7:53',\n",
       "    'timestamp': '2025-08-30T16:42:04.440554+02:00'},\n",
       "   {'message': '[**] [1:3400002:2] POSSBL PORT SCAN (NMAP -sS) [**] [Classification: Attempted Information Leak] [Priority: 2] {TCP} 192.168.100.2:37647 -> 172.20.0.3:8161',\n",
       "    'timestamp': '2025-08-30T16:42:04.445251+02:00'},\n",
       "   {'message': '[**] [1:3400001:1] POSSBL PORT SCAN (NMAP -sS) [**] [Classification: Attempted Information Leak] [Priority: 2] {TCP} 192.168.100.2:37647 -> 172.20.0.2:636',\n",
       "    'timestamp': '2025-08-30T16:42:04.445279+02:00'},\n",
       "   {'message': '[**] [1:3400001:1] POSSBL PORT SCAN (NMAP -sS) [**] [Classification: Attempted Information Leak] [Priority: 2] {TCP} 192.168.100.2:37647 -> 172.20.0.10:51820',\n",
       "    'timestamp': '2025-08-30T16:42:04.445356+02:00'},\n",
       "   {'message': '[**] [1:3400002:2] POSSBL PORT SCAN (NMAP -sS) [**] [Classification: Attempted Information Leak] [Priority: 2] {TCP} 192.168.100.2:37647 -> 172.20.0.20:8161',\n",
       "    'timestamp': '2025-08-30T16:42:04.447605+02:00'},\n",
       "   {'message': '[**] [1:3400001:1] POSSBL PORT SCAN (NMAP -sS) [**] [Classification: Attempted Information Leak] [Priority: 2] {TCP} 192.168.100.2:37647 -> 172.20.0.20:161',\n",
       "    'timestamp': '2025-08-30T16:42:04.540841+02:00'},\n",
       "   {'message': '[**] [1:2010935:3] ET SCAN Suspicious inbound to MSSQL port 1433 [**] [Classification: Potentially Bad Traffic] [Priority: 2] {TCP} 192.168.100.2:37645 -> 172.20.0.10:1433',\n",
       "    'timestamp': '2025-08-30T16:42:04.543064+02:00'},\n",
       "   {'message': '[**] [1:2010935:3] ET SCAN Suspicious inbound to MSSQL port 1433 [**] [Classification: Potentially Bad Traffic] [Priority: 2] {TCP} 192.168.100.2:37645 -> 172.20.0.20:1433',\n",
       "    'timestamp': '2025-08-30T16:42:04.543079+02:00'},\n",
       "   {'message': '[**] [1:2010935:3] ET SCAN Suspicious inbound to MSSQL port 1433 [**] [Classification: Potentially Bad Traffic] [Priority: 2] {TCP} 192.168.100.2:37645 -> 172.20.0.2:1433',\n",
       "    'timestamp': '2025-08-30T16:42:04.543087+02:00'},\n",
       "   {'message': '[**] [1:3400001:1] POSSBL PORT SCAN (NMAP -sS) [**] [Classification: Attempted Information Leak] [Priority: 2] {TCP} 192.168.100.2:37645 -> 172.20.0.20:27017',\n",
       "    'timestamp': '2025-08-30T16:42:04.545342+02:00'},\n",
       "   {'message': '[**] [1:3400001:1] POSSBL PORT SCAN (NMAP -sS) [**] [Classification: Attempted Information Leak] [Priority: 2] {TCP} 192.168.100.2:37645 -> 172.20.0.20:138',\n",
       "    'timestamp': '2025-08-30T16:42:04.547581+02:00'},\n",
       "   {'message': '[**] [1:3400002:2] POSSBL PORT SCAN (NMAP -sS) [**] [Classification: Attempted Information Leak] [Priority: 2] {TCP} 192.168.100.2:37645 -> 172.20.0.2:8081',\n",
       "    'timestamp': '2025-08-30T16:42:04.547610+02:00'},\n",
       "   {'message': '[**] [1:3400001:1] POSSBL PORT SCAN (NMAP -sS) [**] [Classification: Attempted Information Leak] [Priority: 2] {TCP} 192.168.100.2:37647 -> 172.20.0.20:1433',\n",
       "    'timestamp': '2025-08-30T16:42:04.643223+02:00'},\n",
       "   {'message': '[**] [1:3400001:1] POSSBL PORT SCAN (NMAP -sS) [**] [Classification: Attempted Information Leak] [Priority: 2] {TCP} 192.168.100.2:37647 -> 172.20.0.3:138',\n",
       "    'timestamp': '2025-08-30T16:42:04.649955+02:00'},\n",
       "   {'message': '[**] [1:2002825:11] ET INFO POSSIBLE Web Crawl using Curl [**] [Classification: Attempted Information Leak] [Priority: 2] {TCP} 192.168.100.2:60574 -> 172.20.0.7:80',\n",
       "    'timestamp': '2025-08-30T16:42:04.827960+02:00'},\n",
       "   {'message': '[**] [1:2200003:2] SURICATA IPv4 truncated packet [**] [Classification: Generic Protocol Command Decode] [Priority: 3] [**] [Raw pkt: 22 99 26 A0 D6 18 FA 3E C7 AA 43 F5 08 00 45 00 1C 7C E5 1C 40 00 40 06 68 99 AC 14 00 07 C0 A8 ]',\n",
       "    'timestamp': '2025-08-30T16:42:04.983795+02:00'},\n",
       "   {'message': '[**] [1:2200122:1] SURICATA AF-PACKET truncated packet [**] [Classification: Generic Protocol Command Decode] [Priority: 3] [**] [Raw pkt: 22 99 26 A0 D6 18 FA 3E C7 AA 43 F5 08 00 45 00 1C 7C E5 1C 40 00 40 06 68 99 AC 14 00 07 C0 A8 ]',\n",
       "    'timestamp': '2025-08-30T16:42:04.983795+02:00'},\n",
       "   {'message': '[**] [1:2200003:2] SURICATA IPv4 truncated packet [**] [Classification: Generic Protocol Command Decode] [Priority: 3] [**] [Raw pkt: 22 99 26 A0 D6 18 FA 3E C7 AA 43 F5 08 00 45 00 1C 7C E5 21 40 00 40 06 68 94 AC 14 00 07 C0 A8 ]',\n",
       "    'timestamp': '2025-08-30T16:42:04.983860+02:00'},\n",
       "   {'message': '[**] [1:2200122:1] SURICATA AF-PACKET truncated packet [**] [Classification: Generic Protocol Command Decode] [Priority: 3] [**] [Raw pkt: 22 99 26 A0 D6 18 FA 3E C7 AA 43 F5 08 00 45 00 1C 7C E5 21 40 00 40 06 68 94 AC 14 00 07 C0 A8 ]',\n",
       "    'timestamp': '2025-08-30T16:42:04.983860+02:00'},\n",
       "   {'message': '[**] [1:2200003:2] SURICATA IPv4 truncated packet [**] [Classification: Generic Protocol Command Decode] [Priority: 3] [**] [Raw pkt: 22 99 26 A0 D6 18 FA 3E C7 AA 43 F5 08 00 45 00 38 C4 E5 26 40 00 40 06 4C 47 AC 14 00 07 C0 A8 ]',\n",
       "    'timestamp': '2025-08-30T16:42:04.983918+02:00'},\n",
       "   {'message': '[**] [1:2200122:1] SURICATA AF-PACKET truncated packet [**] [Classification: Generic Protocol Command Decode] [Priority: 3] [**] [Raw pkt: 22 99 26 A0 D6 18 FA 3E C7 AA 43 F5 08 00 45 00 38 C4 E5 26 40 00 40 06 4C 47 AC 14 00 07 C0 A8 ]',\n",
       "    'timestamp': '2025-08-30T16:42:04.983918+02:00'},\n",
       "   {'message': '[**] [1:2200003:2] SURICATA IPv4 truncated packet [**] [Classification: Generic Protocol Command Decode] [Priority: 3] [**] [Raw pkt: 22 99 26 A0 D6 18 FA 3E C7 AA 43 F5 08 00 45 00 38 C4 E5 30 40 00 40 06 4C 3D AC 14 00 07 C0 A8 ]',\n",
       "    'timestamp': '2025-08-30T16:42:04.983971+02:00'},\n",
       "   {'message': '[**] [1:2200122:1] SURICATA AF-PACKET truncated packet [**] [Classification: Generic Protocol Command Decode] [Priority: 3] [**] [Raw pkt: 22 99 26 A0 D6 18 FA 3E C7 AA 43 F5 08 00 45 00 38 C4 E5 30 40 00 40 06 4C 3D AC 14 00 07 C0 A8 ]',\n",
       "    'timestamp': '2025-08-30T16:42:04.983971+02:00'},\n",
       "   {'message': '[**] [1:2200003:2] SURICATA IPv4 truncated packet [**] [Classification: Generic Protocol Command Decode] [Priority: 3] [**] [Raw pkt: 22 99 26 A0 D6 18 FA 3E C7 AA 43 F5 08 00 45 00 55 0C E5 3A 40 00 40 06 2F EB AC 14 00 07 C0 A8 ]',\n",
       "    'timestamp': '2025-08-30T16:42:04.984068+02:00'},\n",
       "   {'message': '[**] [1:2200122:1] SURICATA AF-PACKET truncated packet [**] [Classification: Generic Protocol Command Decode] [Priority: 3] [**] [Raw pkt: 22 99 26 A0 D6 18 FA 3E C7 AA 43 F5 08 00 45 00 55 0C E5 3A 40 00 40 06 2F EB AC 14 00 07 C0 A8 ]',\n",
       "    'timestamp': '2025-08-30T16:42:04.984068+02:00'},\n",
       "   {'message': '[**] [1:2200003:2] SURICATA IPv4 truncated packet [**] [Classification: Generic Protocol Command Decode] [Priority: 3] [**] [Raw pkt: 22 99 26 A0 D6 18 FA 3E C7 AA 43 F5 08 00 45 00 55 BA E5 49 40 00 40 06 2F 2E AC 14 00 07 C0 A8 ]',\n",
       "    'timestamp': '2025-08-30T16:42:04.984150+02:00'},\n",
       "   {'message': '[**] [1:2200122:1] SURICATA AF-PACKET truncated packet [**] [Classification: Generic Protocol Command Decode] [Priority: 3] [**] [Raw pkt: 22 99 26 A0 D6 18 FA 3E C7 AA 43 F5 08 00 45 00 55 BA E5 49 40 00 40 06 2F 2E AC 14 00 07 C0 A8 ]',\n",
       "    'timestamp': '2025-08-30T16:42:04.984150+02:00'},\n",
       "   {'message': '[**] [1:2031499:1] ET INFO PHP Xdebug Extension Query Parameter (XDEBUG_SESSION_START) [**] [Classification: access to a potentially vulnerable web application] [Priority: 2] {TCP} 192.168.100.2:52562 -> 172.20.0.7:80',\n",
       "    'timestamp': '2025-08-30T16:42:15.095923+02:00'},\n",
       "   {'message': '[**] [1:2031499:1] ET INFO PHP Xdebug Extension Query Parameter (XDEBUG_SESSION_START) [**] [Classification: access to a potentially vulnerable web application] [Priority: 2] {TCP} 192.168.100.2:52562 -> 172.20.0.7:80',\n",
       "    'timestamp': '2025-08-30T16:42:15.095888+02:00'},\n",
       "   {'message': '[**] [1:9100005:1] Privilege Escalation Attempt - bash -p [**] [Classification: Attempted Administrator Privilege Gain] [Priority: 1] {TCP} 192.168.100.2:7777 -> 172.20.0.7:40310',\n",
       "    'timestamp': '2025-08-30T16:42:28.110934+02:00'},\n",
       "   {'message': '[**] [1:9100002:1] User-Level File Discovery - find binary execution [**] [Classification: Attempted Information Leak] [Priority: 2] {TCP} 192.168.100.2:7777 -> 172.20.0.7:40310',\n",
       "    'timestamp': '2025-08-30T16:42:28.110934+02:00'},\n",
       "   {'message': '[**] [1:9100005:1] Privilege Escalation Attempt - bash -p [**] [Classification: Attempted Administrator Privilege Gain] [Priority: 1] {TCP} 192.168.100.2:7777 -> 172.20.0.7:40310',\n",
       "    'timestamp': '2025-08-30T16:42:28.110929+02:00'},\n",
       "   {'message': '[**] [1:9100002:1] User-Level File Discovery - find binary execution [**] [Classification: Attempted Information Leak] [Priority: 2] {TCP} 192.168.100.2:7777 -> 172.20.0.7:40310',\n",
       "    'timestamp': '2025-08-30T16:42:28.110929+02:00'},\n",
       "   {'message': '[**] [1:2200003:2] SURICATA IPv4 truncated packet [**] [Classification: Generic Protocol Command Decode] [Priority: 3] [**] [Raw pkt: 22 99 26 A0 D6 18 FA 3E C7 AA 43 F5 08 00 45 00 1C 7C A3 41 40 00 40 06 AA 74 AC 14 00 07 C0 A8 ]',\n",
       "    'timestamp': '2025-08-30T16:42:28.117409+02:00'},\n",
       "   {'message': '[**] [1:2200122:1] SURICATA AF-PACKET truncated packet [**] [Classification: Generic Protocol Command Decode] [Priority: 3] [**] [Raw pkt: 22 99 26 A0 D6 18 FA 3E C7 AA 43 F5 08 00 45 00 1C 7C A3 41 40 00 40 06 AA 74 AC 14 00 07 C0 A8 ]',\n",
       "    'timestamp': '2025-08-30T16:42:28.117409+02:00'},\n",
       "   {'message': '[**] [1:2200003:2] SURICATA IPv4 truncated packet [**] [Classification: Generic Protocol Command Decode] [Priority: 3] [**] [Raw pkt: 22 99 26 A0 D6 18 FA 3E C7 AA 43 F5 08 00 45 00 1C 7C A3 46 40 00 40 06 AA 6F AC 14 00 07 C0 A8 ]',\n",
       "    'timestamp': '2025-08-30T16:42:28.117539+02:00'},\n",
       "   {'message': '[**] [1:2200122:1] SURICATA AF-PACKET truncated packet [**] [Classification: Generic Protocol Command Decode] [Priority: 3] [**] [Raw pkt: 22 99 26 A0 D6 18 FA 3E C7 AA 43 F5 08 00 45 00 1C 7C A3 46 40 00 40 06 AA 6F AC 14 00 07 C0 A8 ]',\n",
       "    'timestamp': '2025-08-30T16:42:28.117539+02:00'}],\n",
       "  'count': 88,\n",
       "  'time_window_minutes': 1,\n",
       "  'timestamp': '2025-08-30T16:42:29.416338'}}"
      ]
     },
     "execution_count": 48,
     "metadata": {},
     "output_type": "execute_result"
    }
   ],
   "source": [
    "alerts = await network_tools.get_fast_alerts(time_window=1)\n",
    "alerts"
   ]
  },
  {
   "cell_type": "code",
   "execution_count": 20,
   "id": "e451dc46",
   "metadata": {},
   "outputs": [
    {
     "data": {
      "text/plain": [
       "{'honeypot_config': [{'id': '0f6132a05b65',\n",
       "   'name': 'cve-2021-22205-gitlab-1-proxy',\n",
       "   'image': 'nginx:alpine',\n",
       "   'status': 'running',\n",
       "   'created': '2025-08-29T07:53:01.572843942Z',\n",
       "   'ports': ['80/tcp'],\n",
       "   'ip_address': '172.20.0.10'},\n",
       "  {'id': '814750f7a17a',\n",
       "   'name': 's2-057-struts2-1',\n",
       "   'image': 'vulhub/struts2:2.3.34-showcase',\n",
       "   'status': 'running',\n",
       "   'created': '2025-08-29T07:53:01.124882815Z',\n",
       "   'ports': ['8080/tcp'],\n",
       "   'ip_address': '172.20.0.3'},\n",
       "  {'id': '4aa1d79e654c',\n",
       "   'name': 'unauthorized-rce-docker-1',\n",
       "   'image': 'unauthorized-rce-docker:latest',\n",
       "   'status': 'running',\n",
       "   'created': '2025-08-29T07:53:00.799705245Z',\n",
       "   'ports': ['2375/tcp', '2376/tcp'],\n",
       "   'ip_address': '172.20.0.2'},\n",
       "  {'id': 'be171d7f05eb',\n",
       "   'name': 'xdebug-rce-xdebug2-1',\n",
       "   'image': 'vulhub/php:7.1-xdebug',\n",
       "   'status': 'running',\n",
       "   'created': '2025-08-29T07:52:58.77089242Z',\n",
       "   'ports': ['80/tcp'],\n",
       "   'ip_address': '172.20.0.7'}]}"
      ]
     },
     "execution_count": 20,
     "metadata": {},
     "output_type": "execute_result"
    }
   ],
   "source": [
    "network_tools.get_docker_containers()"
   ]
  },
  {
   "cell_type": "code",
   "execution_count": 46,
   "id": "2c190a51",
   "metadata": {},
   "outputs": [
    {
     "name": "stdout",
     "output_type": "stream",
     "text": [
      "{'firewall_status': 'up', 'suricata_status': 'up'}\n",
      "Chain FORWARD (policy DROP)\n",
      "num  target     prot opt source               destination         \n",
      "1    ACCEPT     all  --  0.0.0.0/0            0.0.0.0/0            state RELATED,ESTABLISHED\n",
      "2    ACCEPT     icmp --  0.0.0.0/0            0.0.0.0/0           \n",
      "3    ACCEPT     all  --  172.20.0.0/24        172.20.0.0/24       \n",
      "4    DROP       all  --  192.168.100.0/24     172.20.0.0/24       \n",
      "5    DROP       all  --  172.20.0.0/24        192.168.100.0/24    \n",
      "6    LOG        all  --  0.0.0.0/0            0.0.0.0/0            LOG flags 0 level 4 prefix \"FIREWALL-DROP: \"\n",
      "\n"
     ]
    }
   ],
   "source": [
    "print(network_tools.check_services_health())\n",
    "rules = await firewall_tools.get_firewall_rules()\n",
    "print(rules['firewall_config']['data']['rules'])"
   ]
  },
  {
   "cell_type": "code",
   "execution_count": 5,
   "id": "d1039a00",
   "metadata": {},
   "outputs": [
    {
     "name": "stderr",
     "output_type": "stream",
     "text": [
      "INFO:tools.firewall_tools:Removing firewall rules: [1]\n"
     ]
    },
    {
     "data": {
      "text/plain": [
       "{'rules_removed_current_epoch': ['REMOVED rule #1:    ACCEPT     tcp  --  192.168.100.0/24     172.20.0.3           tcp dpt:8080']}"
      ]
     },
     "execution_count": 5,
     "metadata": {},
     "output_type": "execute_result"
    }
   ],
   "source": [
    "await firewall_tools.remove_firewall_rule([1])"
   ]
  },
  {
   "cell_type": "code",
   "execution_count": 47,
   "id": "d953c024",
   "metadata": {},
   "outputs": [
    {
     "name": "stderr",
     "output_type": "stream",
     "text": [
      "INFO:tools.firewall_tools:Adding allow rule: ALLOW 192.168.100.2/24 -> 172.20.0.7 (tcp)\n",
      "INFO:tools.firewall_tools:Adding allow rule: ALLOW 172.20.0.7 -> 192.168.100.2/24 (tcp)\n"
     ]
    },
    {
     "data": {
      "text/plain": [
       "{'rules_added_current_epoch': 'ALLOW 172.20.0.7 -> 192.168.100.2/24 (tcp)'}"
      ]
     },
     "execution_count": 47,
     "metadata": {},
     "output_type": "execute_result"
    }
   ],
   "source": [
    "honeypot_ip = '172.20.0.7' \n",
    "attacker_ip = '192.168.100.2/24'\n",
    "\n",
    "await firewall_tools.add_allow_rule(source_ip=attacker_ip, dest_ip=honeypot_ip)\n",
    "await firewall_tools.add_allow_rule(source_ip=honeypot_ip, dest_ip=attacker_ip)"
   ]
  }
 ],
 "metadata": {
  "kernelspec": {
   "display_name": ".venv",
   "language": "python",
   "name": "python3"
  },
  "language_info": {
   "codemirror_mode": {
    "name": "ipython",
    "version": 3
   },
   "file_extension": ".py",
   "mimetype": "text/x-python",
   "name": "python",
   "nbconvert_exporter": "python",
   "pygments_lexer": "ipython3",
   "version": "3.13.3"
  }
 },
 "nbformat": 4,
 "nbformat_minor": 5
}
