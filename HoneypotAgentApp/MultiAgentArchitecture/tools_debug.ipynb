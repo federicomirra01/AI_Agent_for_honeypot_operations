{
 "cells": [
  {
   "cell_type": "code",
   "execution_count": 1,
   "id": "d7adb3a7",
   "metadata": {},
   "outputs": [],
   "source": [
    "import tools\n",
    "import importlib\n",
    "import memory\n",
    "importlib.reload(tools)\n",
    "importlib.reload(memory)\n",
    "\n",
    "from tools import network_tools\n",
    "from tools import firewall_tools"
   ]
  },
  {
   "cell_type": "code",
   "execution_count": 4,
   "id": "d8b4cac3",
   "metadata": {},
   "outputs": [
    {
     "data": {
      "text/plain": [
       "{'security_events': {'alerts': [{'message': '[**] [1:2010937:3] ET SCAN Suspicious inbound to mySQL port 3306 [**] [Classification: Potentially Bad Traffic] [Priority: 2] {TCP} 192.168.100.2:62023 -> 172.20.0.2:3306',\n",
       "    'timestamp': '2025-08-06T10:10:48.339643+02:00'},\n",
       "   {'message': '[**] [1:3400001:1] POSSBL PORT SCAN (NMAP -sS) [**] [Classification: Attempted Information Leak] [Priority: 2] {TCP} 192.168.100.2:62023 -> 172.20.0.2:143',\n",
       "    'timestamp': '2025-08-06T10:10:48.439874+02:00'},\n",
       "   {'message': '[**] [1:3400001:1] POSSBL PORT SCAN (NMAP -sS) [**] [Classification: Attempted Information Leak] [Priority: 2] {TCP} 192.168.100.2:62023 -> 172.20.0.2:161',\n",
       "    'timestamp': '2025-08-06T10:10:48.442229+02:00'},\n",
       "   {'message': '[**] [1:2010935:3] ET SCAN Suspicious inbound to MSSQL port 1433 [**] [Classification: Potentially Bad Traffic] [Priority: 2] {TCP} 192.168.100.2:62023 -> 172.20.0.2:1433',\n",
       "    'timestamp': '2025-08-06T10:10:48.442253+02:00'},\n",
       "   {'message': '[**] [1:2200003:2] SURICATA IPv4 truncated packet [**] [Classification: Generic Protocol Command Decode] [Priority: 3] [**] [Raw pkt: 22 7E 90 1E 36 A9 22 00 81 EB 4C 97 08 00 45 00 1C 7C C6 B3 40 00 40 06 87 07 AC 14 00 02 C0 A8 ]',\n",
       "    'timestamp': '2025-08-06T10:10:50.118412+02:00'},\n",
       "   {'message': '[**] [1:2200122:1] SURICATA AF-PACKET truncated packet [**] [Classification: Generic Protocol Command Decode] [Priority: 3] [**] [Raw pkt: 22 7E 90 1E 36 A9 22 00 81 EB 4C 97 08 00 45 00 1C 7C C6 B3 40 00 40 06 87 07 AC 14 00 02 C0 A8 ]',\n",
       "    'timestamp': '2025-08-06T10:10:50.118412+02:00'},\n",
       "   {'message': '[**] [1:2200003:2] SURICATA IPv4 truncated packet [**] [Classification: Generic Protocol Command Decode] [Priority: 3] [**] [Raw pkt: 22 7E 90 1E 36 A9 22 00 81 EB 4C 97 08 00 45 00 0E 02 C6 B9 40 00 40 06 95 7B AC 14 00 02 C0 A8 ]',\n",
       "    'timestamp': '2025-08-06T10:10:50.118499+02:00'},\n",
       "   {'message': '[**] [1:2200122:1] SURICATA AF-PACKET truncated packet [**] [Classification: Generic Protocol Command Decode] [Priority: 3] [**] [Raw pkt: 22 7E 90 1E 36 A9 22 00 81 EB 4C 97 08 00 45 00 0E 02 C6 B9 40 00 40 06 95 7B AC 14 00 02 C0 A8 ]',\n",
       "    'timestamp': '2025-08-06T10:10:50.118499+02:00'},\n",
       "   {'message': '[**] [1:2200003:2] SURICATA IPv4 truncated packet [**] [Classification: Generic Protocol Command Decode] [Priority: 3] [**] [Raw pkt: 22 7E 90 1E 36 A9 22 00 81 EB 4C 97 08 00 45 00 1C 7C 23 DB 40 00 40 06 29 E0 AC 14 00 02 C0 A8 ]',\n",
       "    'timestamp': '2025-08-06T10:10:50.139037+02:00'},\n",
       "   {'message': '[**] [1:2200122:1] SURICATA AF-PACKET truncated packet [**] [Classification: Generic Protocol Command Decode] [Priority: 3] [**] [Raw pkt: 22 7E 90 1E 36 A9 22 00 81 EB 4C 97 08 00 45 00 1C 7C 23 DB 40 00 40 06 29 E0 AC 14 00 02 C0 A8 ]',\n",
       "    'timestamp': '2025-08-06T10:10:50.139037+02:00'},\n",
       "   {'message': '[**] [1:2200003:2] SURICATA IPv4 truncated packet [**] [Classification: Generic Protocol Command Decode] [Priority: 3] [**] [Raw pkt: 22 7E 90 1E 36 A9 22 00 81 EB 4C 97 08 00 45 00 0E 02 23 E1 40 00 40 06 38 54 AC 14 00 02 C0 A8 ]',\n",
       "    'timestamp': '2025-08-06T10:10:50.139183+02:00'},\n",
       "   {'message': '[**] [1:2200122:1] SURICATA AF-PACKET truncated packet [**] [Classification: Generic Protocol Command Decode] [Priority: 3] [**] [Raw pkt: 22 7E 90 1E 36 A9 22 00 81 EB 4C 97 08 00 45 00 0E 02 23 E1 40 00 40 06 38 54 AC 14 00 02 C0 A8 ]',\n",
       "    'timestamp': '2025-08-06T10:10:50.139183+02:00'},\n",
       "   {'message': '[**] [1:2200003:2] SURICATA IPv4 truncated packet [**] [Classification: Generic Protocol Command Decode] [Priority: 3] [**] [Raw pkt: 22 7E 90 1E 36 A9 22 00 81 EB 4C 97 08 00 45 00 1C 7C 9E FA 40 00 40 06 AE C0 AC 14 00 02 C0 A8 ]',\n",
       "    'timestamp': '2025-08-06T10:10:50.156901+02:00'},\n",
       "   {'message': '[**] [1:2200122:1] SURICATA AF-PACKET truncated packet [**] [Classification: Generic Protocol Command Decode] [Priority: 3] [**] [Raw pkt: 22 7E 90 1E 36 A9 22 00 81 EB 4C 97 08 00 45 00 1C 7C 9E FA 40 00 40 06 AE C0 AC 14 00 02 C0 A8 ]',\n",
       "    'timestamp': '2025-08-06T10:10:50.156901+02:00'},\n",
       "   {'message': '[**] [1:2200003:2] SURICATA IPv4 truncated packet [**] [Classification: Generic Protocol Command Decode] [Priority: 3] [**] [Raw pkt: 22 7E 90 1E 36 A9 22 00 81 EB 4C 97 08 00 45 00 0E 02 9F 00 40 00 40 06 BD 34 AC 14 00 02 C0 A8 ]',\n",
       "    'timestamp': '2025-08-06T10:10:50.157035+02:00'},\n",
       "   {'message': '[**] [1:2200122:1] SURICATA AF-PACKET truncated packet [**] [Classification: Generic Protocol Command Decode] [Priority: 3] [**] [Raw pkt: 22 7E 90 1E 36 A9 22 00 81 EB 4C 97 08 00 45 00 0E 02 9F 00 40 00 40 06 BD 34 AC 14 00 02 C0 A8 ]',\n",
       "    'timestamp': '2025-08-06T10:10:50.157035+02:00'},\n",
       "   {'message': '[**] [1:2200003:2] SURICATA IPv4 truncated packet [**] [Classification: Generic Protocol Command Decode] [Priority: 3] [**] [Raw pkt: 22 7E 90 1E 36 A9 22 00 81 EB 4C 97 08 00 45 00 1C 7C 18 AF 40 00 40 06 35 0C AC 14 00 02 C0 A8 ]',\n",
       "    'timestamp': '2025-08-06T10:10:50.173916+02:00'},\n",
       "   {'message': '[**] [1:2200122:1] SURICATA AF-PACKET truncated packet [**] [Classification: Generic Protocol Command Decode] [Priority: 3] [**] [Raw pkt: 22 7E 90 1E 36 A9 22 00 81 EB 4C 97 08 00 45 00 1C 7C 18 AF 40 00 40 06 35 0C AC 14 00 02 C0 A8 ]',\n",
       "    'timestamp': '2025-08-06T10:10:50.173916+02:00'},\n",
       "   {'message': '[**] [1:2200003:2] SURICATA IPv4 truncated packet [**] [Classification: Generic Protocol Command Decode] [Priority: 3] [**] [Raw pkt: 22 7E 90 1E 36 A9 22 00 81 EB 4C 97 08 00 45 00 0E 02 18 B5 40 00 40 06 43 80 AC 14 00 02 C0 A8 ]',\n",
       "    'timestamp': '2025-08-06T10:10:50.174093+02:00'},\n",
       "   {'message': '[**] [1:2200122:1] SURICATA AF-PACKET truncated packet [**] [Classification: Generic Protocol Command Decode] [Priority: 3] [**] [Raw pkt: 22 7E 90 1E 36 A9 22 00 81 EB 4C 97 08 00 45 00 0E 02 18 B5 40 00 40 06 43 80 AC 14 00 02 C0 A8 ]',\n",
       "    'timestamp': '2025-08-06T10:10:50.174093+02:00'},\n",
       "   {'message': '[**] [1:2200003:2] SURICATA IPv4 truncated packet [**] [Classification: Generic Protocol Command Decode] [Priority: 3] [**] [Raw pkt: 22 7E 90 1E 36 A9 22 00 81 EB 4C 97 08 00 45 00 1C 7C 72 03 40 00 40 06 DB B7 AC 14 00 02 C0 A8 ]',\n",
       "    'timestamp': '2025-08-06T10:10:50.197436+02:00'},\n",
       "   {'message': '[**] [1:2200122:1] SURICATA AF-PACKET truncated packet [**] [Classification: Generic Protocol Command Decode] [Priority: 3] [**] [Raw pkt: 22 7E 90 1E 36 A9 22 00 81 EB 4C 97 08 00 45 00 1C 7C 72 03 40 00 40 06 DB B7 AC 14 00 02 C0 A8 ]',\n",
       "    'timestamp': '2025-08-06T10:10:50.197436+02:00'},\n",
       "   {'message': '[**] [1:2200003:2] SURICATA IPv4 truncated packet [**] [Classification: Generic Protocol Command Decode] [Priority: 3] [**] [Raw pkt: 22 7E 90 1E 36 A9 22 00 81 EB 4C 97 08 00 45 00 0E 02 72 09 40 00 40 06 EA 2B AC 14 00 02 C0 A8 ]',\n",
       "    'timestamp': '2025-08-06T10:10:50.197635+02:00'},\n",
       "   {'message': '[**] [1:2200122:1] SURICATA AF-PACKET truncated packet [**] [Classification: Generic Protocol Command Decode] [Priority: 3] [**] [Raw pkt: 22 7E 90 1E 36 A9 22 00 81 EB 4C 97 08 00 45 00 0E 02 72 09 40 00 40 06 EA 2B AC 14 00 02 C0 A8 ]',\n",
       "    'timestamp': '2025-08-06T10:10:50.197635+02:00'},\n",
       "   {'message': '[**] [1:2034567:1] ET HUNTING curl User-Agent to Dotted Quad [**] [Classification: Potentially Bad Traffic] [Priority: 2] {TCP} 172.20.0.2:55682 -> 192.168.100.2:8888',\n",
       "    'timestamp': '2025-08-06T10:10:52.342628+02:00'},\n",
       "   {'message': '[**] [1:2016953:5] ET EXPLOIT Apache Struts Possible OGNL Java Exec In URI [**] [Classification: Attempted User Privilege Gain] [Priority: 1] {TCP} 192.168.100.2:42828 -> 172.20.0.2:8080',\n",
       "    'timestamp': '2025-08-06T10:10:52.344918+02:00'},\n",
       "   {'message': '[**] [1:2017277:6] ET WEB_SERVER Possible Apache Struts OGNL in Dynamic Action [**] [Classification: Attempted User Privilege Gain] [Priority: 1] {TCP} 192.168.100.2:42828 -> 172.20.0.2:8080',\n",
       "    'timestamp': '2025-08-06T10:10:52.344918+02:00'},\n",
       "   {'message': '[**] [1:2026031:3] ET WEB_SPECIFIC_APPS Apache Struts ognl inbound OGNL injection remote code execution attempt [**] [Classification: Attempted Administrator Privilege Gain] [Priority: 1] {TCP} 192.168.100.2:42828 -> 172.20.0.2:8080',\n",
       "    'timestamp': '2025-08-06T10:10:52.344918+02:00'},\n",
       "   {'message': '[**] [1:2026033:3] ET WEB_SPECIFIC_APPS Apache Struts java.lang inbound OGNL injection remote code execution attempt [**] [Classification: Attempted Administrator Privilege Gain] [Priority: 1] {TCP} 192.168.100.2:42828 -> 172.20.0.2:8080',\n",
       "    'timestamp': '2025-08-06T10:10:52.344918+02:00'},\n",
       "   {'message': '[**] [1:2033406:2] ET HUNTING .exec in HTTP URI Inbound - Possible Exploit Activity [**] [Classification: Potentially Bad Traffic] [Priority: 2] {TCP} 192.168.100.2:42828 -> 172.20.0.2:8080',\n",
       "    'timestamp': '2025-08-06T10:10:52.344918+02:00'},\n",
       "   {'message': '[**] [1:2017515:8] ET INFO User-Agent (python-requests) Inbound to Webserver [**] [Classification: Misc activity] [Priority: 3] {TCP} 192.168.100.2:42828 -> 172.20.0.2:8080',\n",
       "    'timestamp': '2025-08-06T10:10:52.344918+02:00'},\n",
       "   {'message': '[**] [1:2016953:5] ET EXPLOIT Apache Struts Possible OGNL Java Exec In URI [**] [Classification: Attempted User Privilege Gain] [Priority: 1] {TCP} 192.168.100.2:42844 -> 172.20.0.2:8080',\n",
       "    'timestamp': '2025-08-06T10:10:58.360054+02:00'},\n",
       "   {'message': '[**] [1:2017277:6] ET WEB_SERVER Possible Apache Struts OGNL in Dynamic Action [**] [Classification: Attempted User Privilege Gain] [Priority: 1] {TCP} 192.168.100.2:42844 -> 172.20.0.2:8080',\n",
       "    'timestamp': '2025-08-06T10:10:58.360054+02:00'},\n",
       "   {'message': '[**] [1:2026031:3] ET WEB_SPECIFIC_APPS Apache Struts ognl inbound OGNL injection remote code execution attempt [**] [Classification: Attempted Administrator Privilege Gain] [Priority: 1] {TCP} 192.168.100.2:42844 -> 172.20.0.2:8080',\n",
       "    'timestamp': '2025-08-06T10:10:58.360054+02:00'},\n",
       "   {'message': '[**] [1:2026033:3] ET WEB_SPECIFIC_APPS Apache Struts java.lang inbound OGNL injection remote code execution attempt [**] [Classification: Attempted Administrator Privilege Gain] [Priority: 1] {TCP} 192.168.100.2:42844 -> 172.20.0.2:8080',\n",
       "    'timestamp': '2025-08-06T10:10:58.360054+02:00'},\n",
       "   {'message': '[**] [1:2033406:2] ET HUNTING .exec in HTTP URI Inbound - Possible Exploit Activity [**] [Classification: Potentially Bad Traffic] [Priority: 2] {TCP} 192.168.100.2:42844 -> 172.20.0.2:8080',\n",
       "    'timestamp': '2025-08-06T10:10:58.360054+02:00'},\n",
       "   {'message': '[**] [1:2017515:8] ET INFO User-Agent (python-requests) Inbound to Webserver [**] [Classification: Misc activity] [Priority: 3] {TCP} 192.168.100.2:42844 -> 172.20.0.2:8080',\n",
       "    'timestamp': '2025-08-06T10:10:58.360054+02:00'}],\n",
       "  'count': 37,\n",
       "  'time_window_minutes': 2,\n",
       "  'timestamp': '2025-08-06T10:10:59.410641'}}"
      ]
     },
     "execution_count": 4,
     "metadata": {},
     "output_type": "execute_result"
    }
   ],
   "source": [
    "alerts = await network_tools.get_fast_alerts(time_window=2)\n",
    "alerts"
   ]
  },
  {
   "cell_type": "code",
   "execution_count": 20,
   "id": "e451dc46",
   "metadata": {},
   "outputs": [
    {
     "data": {
      "text/plain": [
       "{'honeypot_config': [{'id': '640353ced621',\n",
       "   'name': 'cve-2014-6271-web-1',\n",
       "   'image': 'vulhub/bash:4.3.0-with-httpd',\n",
       "   'status': 'running',\n",
       "   'created': '2025-08-06T07:48:02.488925808Z',\n",
       "   'ports': ['80/tcp'],\n",
       "   'ip_address': '172.20.0.7'},\n",
       "  {'id': '1ba281ac4041',\n",
       "   'name': 'cve-2015-5254-activemq-1',\n",
       "   'image': 'vulhub/activemq:5.11.1',\n",
       "   'status': 'running',\n",
       "   'created': '2025-08-06T07:48:02.181490751Z',\n",
       "   'ports': ['61616/tcp', '8161/tcp'],\n",
       "   'ip_address': '172.20.0.6'},\n",
       "  {'id': 'cab62e2456dd',\n",
       "   'name': 'cve-2021-22205-gitlab-1-proxy',\n",
       "   'image': 'nginx:alpine',\n",
       "   'status': 'running',\n",
       "   'created': '2025-08-06T07:48:01.190924283Z',\n",
       "   'ports': ['80/tcp'],\n",
       "   'ip_address': '172.20.0.10'},\n",
       "  {'id': 'ce9f3c67fb64',\n",
       "   'name': 's2-057-struts2-1',\n",
       "   'image': 'vulhub/struts2:2.3.34-showcase',\n",
       "   'status': 'running',\n",
       "   'created': '2025-08-06T07:48:00.787196402Z',\n",
       "   'ports': ['8080/tcp'],\n",
       "   'ip_address': '172.20.0.2'}]}"
      ]
     },
     "execution_count": 20,
     "metadata": {},
     "output_type": "execute_result"
    }
   ],
   "source": [
    "network_tools.get_docker_containers()"
   ]
  },
  {
   "cell_type": "code",
   "execution_count": 22,
   "id": "2c190a51",
   "metadata": {},
   "outputs": [
    {
     "name": "stdout",
     "output_type": "stream",
     "text": [
      "{'firewall_status': 'up', 'suricata_status': 'up'}\n",
      "Chain FORWARD (policy DROP)\n",
      "num  target     prot opt source               destination         \n",
      "1    ACCEPT     all  --  0.0.0.0/0            0.0.0.0/0            state RELATED,ESTABLISHED\n",
      "2    ACCEPT     icmp --  0.0.0.0/0            0.0.0.0/0           \n",
      "3    ACCEPT     all  --  172.20.0.0/24        172.20.0.0/24       \n",
      "4    DROP       all  --  192.168.100.0/24     172.20.0.0/24       \n",
      "5    DROP       all  --  172.20.0.0/24        192.168.100.0/24    \n",
      "6    LOG        all  --  0.0.0.0/0            0.0.0.0/0            LOG flags 0 level 4 prefix \"FIREWALL-DROP: \"\n",
      "\n"
     ]
    }
   ],
   "source": [
    "print(network_tools.check_services_health())\n",
    "rules = await firewall_tools.get_firewall_rules()\n",
    "print(rules['firewall_config']['data']['rules'])"
   ]
  },
  {
   "cell_type": "code",
   "execution_count": null,
   "id": "d1039a00",
   "metadata": {},
   "outputs": [
    {
     "name": "stderr",
     "output_type": "stream",
     "text": [
      "INFO:tools:Removing firewall rules: [1]\n"
     ]
    },
    {
     "data": {
      "text/plain": [
       "{'rules_removed_current_epoch': ['REMOVED rule #1:    ACCEPT     tcp  --  192.168.100.0/24     172.20.0.7']}"
      ]
     },
     "execution_count": 7,
     "metadata": {},
     "output_type": "execute_result"
    }
   ],
   "source": [
    "await firewall_tools.remove_firewall_rule([1])"
   ]
  },
  {
   "cell_type": "code",
   "execution_count": 23,
   "id": "d953c024",
   "metadata": {},
   "outputs": [
    {
     "name": "stderr",
     "output_type": "stream",
     "text": [
      "INFO:tools.firewall_tools:Adding allow rule: ALLOW 192.168.100.2 -> 172.20.0.2 (tcp)\n",
      "INFO:tools.firewall_tools:Adding allow rule: ALLOW 172.20.0.2 -> 192.168.100.2 (tcp)\n"
     ]
    },
    {
     "data": {
      "text/plain": [
       "{'rules_added_current_epoch': 'ALLOW 172.20.0.2 -> 192.168.100.2 (tcp)'}"
      ]
     },
     "execution_count": 23,
     "metadata": {},
     "output_type": "execute_result"
    }
   ],
   "source": [
    "honeypot_ip = '172.20.0.2' \n",
    "attacker_ip = '192.168.100.2'\n",
    "\n",
    "await firewall_tools.add_allow_rule(source_ip=attacker_ip, dest_ip=honeypot_ip)\n",
    "await firewall_tools.add_allow_rule(source_ip=honeypot_ip, dest_ip=attacker_ip)"
   ]
  }
 ],
 "metadata": {
  "kernelspec": {
   "display_name": ".venv",
   "language": "python",
   "name": "python3"
  },
  "language_info": {
   "codemirror_mode": {
    "name": "ipython",
    "version": 3
   },
   "file_extension": ".py",
   "mimetype": "text/x-python",
   "name": "python",
   "nbconvert_exporter": "python",
   "pygments_lexer": "ipython3",
   "version": "3.13.3"
  }
 },
 "nbformat": 4,
 "nbformat_minor": 5
}
