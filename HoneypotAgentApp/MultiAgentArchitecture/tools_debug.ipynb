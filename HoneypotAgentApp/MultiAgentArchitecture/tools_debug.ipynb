{
 "cells": [
  {
   "cell_type": "code",
   "execution_count": 1,
   "id": "d7adb3a7",
   "metadata": {},
   "outputs": [
    {
     "data": {
      "text/plain": [
       "<module 'tools.firewall_tools' from '/home/c0ff3k1ll3r/Desktop/Thesis/AI_Agent_for_honeypot_operations/HoneypotAgentApp/MultiAgentArchitecture/tools/firewall_tools.py'>"
      ]
     },
     "execution_count": 1,
     "metadata": {},
     "output_type": "execute_result"
    }
   ],
   "source": [
    "import importlib\n",
    "from tools import network_tools as network_tools\n",
    "from tools import firewall_tools as firewall_tools\n",
    "importlib.reload(network_tools)\n",
    "importlib.reload(firewall_tools)"
   ]
  },
  {
   "cell_type": "code",
   "execution_count": 2,
   "id": "d8b4cac3",
   "metadata": {},
   "outputs": [
    {
     "data": {
      "text/plain": [
       "{'security_events': {'alerts': [],\n",
       "  'count': 0,\n",
       "  'time_window_minutes': 5,\n",
       "  'timestamp': '2025-08-11T11:43:26.155351'}}"
      ]
     },
     "execution_count": 2,
     "metadata": {},
     "output_type": "execute_result"
    }
   ],
   "source": [
    "alerts = await network_tools.get_fast_alerts(time_window=5)\n",
    "alerts"
   ]
  },
  {
   "cell_type": "code",
   "execution_count": 3,
   "id": "e451dc46",
   "metadata": {},
   "outputs": [
    {
     "data": {
      "text/plain": [
       "{'honeypot_config': [{'id': 'd4f49be72012',\n",
       "   'name': 's2-057-struts2-1',\n",
       "   'image': 'vulhub/struts2:2.3.34-showcase',\n",
       "   'status': 'running',\n",
       "   'created': '2025-08-10T14:36:51.70819098Z',\n",
       "   'ports': ['8080/tcp'],\n",
       "   'ip_address': '172.20.0.3'},\n",
       "  {'id': '23803120ebc8',\n",
       "   'name': 'unauthorized-rce-docker-1',\n",
       "   'image': 'unauthorized-rce-docker:latest',\n",
       "   'status': 'running',\n",
       "   'created': '2025-08-10T14:36:51.395661281Z',\n",
       "   'ports': ['2375/tcp', '2376/tcp'],\n",
       "   'ip_address': '172.20.0.2'}]}"
      ]
     },
     "execution_count": 3,
     "metadata": {},
     "output_type": "execute_result"
    }
   ],
   "source": [
    "network_tools.get_docker_containers()"
   ]
  },
  {
   "cell_type": "code",
   "execution_count": 4,
   "id": "2c190a51",
   "metadata": {},
   "outputs": [
    {
     "name": "stdout",
     "output_type": "stream",
     "text": [
      "{'firewall_status': 'up', 'suricata_status': 'up'}\n",
      "Chain FORWARD (policy DROP)\n",
      "num  target     prot opt source               destination         \n",
      "1    ACCEPT     all  --  0.0.0.0/0            0.0.0.0/0            state RELATED,ESTABLISHED\n",
      "2    ACCEPT     icmp --  0.0.0.0/0            0.0.0.0/0           \n",
      "3    ACCEPT     all  --  172.20.0.0/24        172.20.0.0/24       \n",
      "4    DROP       all  --  192.168.100.0/24     172.20.0.0/24       \n",
      "5    DROP       all  --  172.20.0.0/24        192.168.100.0/24    \n",
      "6    LOG        all  --  0.0.0.0/0            0.0.0.0/0            LOG flags 0 level 4 prefix \"FIREWALL-DROP: \"\n",
      "\n"
     ]
    }
   ],
   "source": [
    "print(network_tools.check_services_health())\n",
    "rules = await firewall_tools.get_firewall_rules()\n",
    "print(rules['firewall_config']['data']['rules'])"
   ]
  },
  {
   "cell_type": "code",
   "execution_count": 69,
   "id": "d1039a00",
   "metadata": {},
   "outputs": [
    {
     "name": "stderr",
     "output_type": "stream",
     "text": [
      "INFO:tools.firewall_tools:Removing firewall rules: [1]\n"
     ]
    },
    {
     "data": {
      "text/plain": [
       "{'rules_removed_current_epoch': ['REMOVED rule #1:    ACCEPT     tcp  --  192.168.100.0/24     172.20.0.2']}"
      ]
     },
     "execution_count": 69,
     "metadata": {},
     "output_type": "execute_result"
    }
   ],
   "source": [
    "await firewall_tools.remove_firewall_rule([1])"
   ]
  },
  {
   "cell_type": "code",
   "execution_count": 5,
   "id": "d953c024",
   "metadata": {},
   "outputs": [
    {
     "name": "stderr",
     "output_type": "stream",
     "text": [
      "INFO:tools.firewall_tools:Adding allow rule: ALLOW 192.168.100.2/24 -> 172.20.0.3 (tcp)\n",
      "INFO:tools.firewall_tools:Adding allow rule: ALLOW 172.20.0.3 -> 192.168.100.2/24 (tcp)\n"
     ]
    },
    {
     "data": {
      "text/plain": [
       "{'rules_added_current_epoch': 'ALLOW 172.20.0.3 -> 192.168.100.2/24 (tcp)'}"
      ]
     },
     "execution_count": 5,
     "metadata": {},
     "output_type": "execute_result"
    }
   ],
   "source": [
    "honeypot_ip = '172.20.0.3' \n",
    "attacker_ip = '192.168.100.2/24'\n",
    "\n",
    "await firewall_tools.add_allow_rule(source_ip=attacker_ip, dest_ip=honeypot_ip)\n",
    "await firewall_tools.add_allow_rule(source_ip=honeypot_ip, dest_ip=attacker_ip)"
   ]
  }
 ],
 "metadata": {
  "kernelspec": {
   "display_name": ".venv",
   "language": "python",
   "name": "python3"
  },
  "language_info": {
   "codemirror_mode": {
    "name": "ipython",
    "version": 3
   },
   "file_extension": ".py",
   "mimetype": "text/x-python",
   "name": "python",
   "nbconvert_exporter": "python",
   "pygments_lexer": "ipython3",
   "version": "3.13.3"
  }
 },
 "nbformat": 4,
 "nbformat_minor": 5
}
