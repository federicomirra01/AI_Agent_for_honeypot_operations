{
 "cells": [
  {
   "cell_type": "code",
   "execution_count": 62,
   "id": "d7adb3a7",
   "metadata": {},
   "outputs": [
    {
     "data": {
      "text/plain": [
       "<module 'memory' from '/home/c0ff3k1ll3r/Desktop/Thesis/AI_Agent_for_honeypot_operations/HoneypotAgentApp/MultiAgentArchitecture/memory.py'>"
      ]
     },
     "execution_count": 62,
     "metadata": {},
     "output_type": "execute_result"
    }
   ],
   "source": [
    "import tools\n",
    "import importlib\n",
    "import memory\n",
    "importlib.reload(tools)\n",
    "importlib.reload(memory)"
   ]
  },
  {
   "cell_type": "code",
   "execution_count": 63,
   "id": "d8b4cac3",
   "metadata": {},
   "outputs": [
    {
     "data": {
      "text/plain": [
       "{'security_events': {'alerts': [],\n",
       "  'count': 0,\n",
       "  'time_window_minutes': 5,\n",
       "  'timestamp': '2025-08-02T12:18:29.127308'}}"
      ]
     },
     "execution_count": 63,
     "metadata": {},
     "output_type": "execute_result"
    }
   ],
   "source": [
    "alerts = await tools.get_fast_alerts(time_window=5)\n",
    "alerts"
   ]
  },
  {
   "cell_type": "code",
   "execution_count": 64,
   "id": "e451dc46",
   "metadata": {},
   "outputs": [
    {
     "data": {
      "text/plain": [
       "{'honeypot_config': [{'id': '3c926ef3439b',\n",
       "   'name': 'gitlab-proxy',\n",
       "   'image': 'nginx:alpine',\n",
       "   'status': 'running',\n",
       "   'created': '2025-08-02T08:03:02.827694162Z',\n",
       "   'ports': ['80/tcp'],\n",
       "   'ip_address': '172.20.0.7'},\n",
       "  {'id': '08402f6057a7',\n",
       "   'name': 'cve-2021-22205-gitlab-1',\n",
       "   'image': 'vulhub/gitlab:13.10.1',\n",
       "   'status': 'running',\n",
       "   'created': '2025-08-02T08:03:02.803271897Z',\n",
       "   'ports': ['22/tcp', '443/tcp', '80/tcp', '8080/tcp'],\n",
       "   'ip_address': '172.20.0.6'},\n",
       "  {'id': '137d39aec474',\n",
       "   'name': 's2-057-struts2-1',\n",
       "   'image': 'vulhub/struts2:2.3.34-showcase',\n",
       "   'status': 'running',\n",
       "   'created': '2025-08-02T08:03:02.443227994Z',\n",
       "   'ports': ['8080/tcp'],\n",
       "   'ip_address': '172.20.0.3'},\n",
       "  {'id': '8fd1379e4888',\n",
       "   'name': 'unauthorized-rce-docker-1',\n",
       "   'image': 'unauthorized-rce-docker:latest',\n",
       "   'status': 'running',\n",
       "   'created': '2025-08-02T08:03:02.160808847Z',\n",
       "   'ports': ['2375/tcp', '2376/tcp'],\n",
       "   'ip_address': '172.20.0.2'}]}"
      ]
     },
     "execution_count": 64,
     "metadata": {},
     "output_type": "execute_result"
    }
   ],
   "source": [
    "tools.get_docker_containers()"
   ]
  },
  {
   "cell_type": "code",
   "execution_count": 84,
   "id": "2c190a51",
   "metadata": {},
   "outputs": [
    {
     "name": "stdout",
     "output_type": "stream",
     "text": [
      "{'firewall_status': 'up', 'suricata_status': 'up'}\n",
      "Chain FORWARD (policy DROP)\n",
      "num  target     prot opt source               destination         \n",
      "1    ACCEPT     all  --  0.0.0.0/0            0.0.0.0/0            state RELATED,ESTABLISHED\n",
      "2    ACCEPT     icmp --  0.0.0.0/0            0.0.0.0/0           \n",
      "3    ACCEPT     all  --  172.20.0.0/24        172.20.0.0/24       \n",
      "4    LOG        all  --  0.0.0.0/0            0.0.0.0/0            LOG flags 0 level 4 prefix \"FIREWALL-DROP: \"\n",
      "\n"
     ]
    }
   ],
   "source": [
    "print(tools.check_services_health())\n",
    "rules = await tools.get_firewall_rules()\n",
    "print(rules['firewall_config']['data']['rules'])"
   ]
  },
  {
   "cell_type": "code",
   "execution_count": 83,
   "id": "d1039a00",
   "metadata": {},
   "outputs": [
    {
     "name": "stderr",
     "output_type": "stream",
     "text": [
      "INFO:tools:Removing firewall rules: [1]\n"
     ]
    },
    {
     "data": {
      "text/plain": [
       "{'rules_removed_current_epoch': ['REMOVED rule #1:    ACCEPT     tcp  --  192.168.100.0/24     172.20.0.7']}"
      ]
     },
     "execution_count": 83,
     "metadata": {},
     "output_type": "execute_result"
    }
   ],
   "source": [
    "await tools.remove_firewall_rule([1])"
   ]
  },
  {
   "cell_type": "code",
   "execution_count": 12,
   "id": "d953c024",
   "metadata": {},
   "outputs": [
    {
     "name": "stderr",
     "output_type": "stream",
     "text": [
      "INFO:tools:Adding allow rule: ALLOW 192.168.100.2 -> 172.20.0.2)\n",
      "INFO:tools:Adding allow rule: ALLOW 172.20.0.2 -> 192.168.100.2)\n"
     ]
    },
    {
     "data": {
      "text/plain": [
       "{'rules_added_current_epoch': 'ALLOW 172.20.0.2 -> 192.168.100.2)'}"
      ]
     },
     "execution_count": 12,
     "metadata": {},
     "output_type": "execute_result"
    }
   ],
   "source": [
    "honeypot_ip = '172.20.0.2' \n",
    "attacker_ip = '192.168.100.2'\n",
    "\n",
    "await tools.add_allow_rule(source_ip=attacker_ip, dest_ip=honeypot_ip)\n",
    "await tools.add_allow_rule(source_ip=honeypot_ip, dest_ip=attacker_ip)"
   ]
  }
 ],
 "metadata": {
  "kernelspec": {
   "display_name": ".venv",
   "language": "python",
   "name": "python3"
  },
  "language_info": {
   "codemirror_mode": {
    "name": "ipython",
    "version": 3
   },
   "file_extension": ".py",
   "mimetype": "text/x-python",
   "name": "python",
   "nbconvert_exporter": "python",
   "pygments_lexer": "ipython3",
   "version": "3.13.3"
  }
 },
 "nbformat": 4,
 "nbformat_minor": 5
}
