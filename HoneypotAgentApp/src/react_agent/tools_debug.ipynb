{
 "cells": [
  {
   "cell_type": "code",
   "execution_count": 1,
   "id": "f79b4641",
   "metadata": {},
   "outputs": [],
   "source": [
    "import tools\n",
    "import importlib\n",
    "importlib.reload(tools)\n",
    "from tools import getDockerContainers, getFirewallConfiguration\n",
    "\n"
   ]
  },
  {
   "cell_type": "code",
   "execution_count": 36,
   "id": "88a4a72d",
   "metadata": {},
   "outputs": [
    {
     "data": {
      "text/plain": [
       "93270"
      ]
     },
     "execution_count": 36,
     "metadata": {},
     "output_type": "execute_result"
    }
   ],
   "source": [
    "from tools import getNetworkStatus\n",
    "from state import HoneypotState\n",
    "import json\n",
    "\n",
    "new_logs = getNetworkStatus()\n",
    "state = HoneypotState()\n",
    "state.network_logs = {\"network_logs\": [new_logs]}\n",
    "len(json.dumps(state.network_logs))"
   ]
  },
  {
   "cell_type": "code",
   "execution_count": 2,
   "id": "4b721ff5",
   "metadata": {},
   "outputs": [
    {
     "data": {
      "text/plain": [
       "{'firewall_rules': ['iptables -P INPUT DROP',\n",
       "  'iptables -A INPUT -m conntrack --ctstate RELATED,ESTABLISHED -j ACCEPT',\n",
       "  'iptables -A INPUT -p tcp --dport 2222 -j ACCEPT',\n",
       "  'iptables -A INPUT -p tcp --sport 2222 -j ACCEPT',\n",
       "  'iptables -A INPUT -s 172.17.0.1 -j DROP',\n",
       "  'iptables -A INPUT -s 172.17.0.2 -j DROP',\n",
       "  'iptables -A INPUT -p tcp --dport 2222 -m limit --limit 10/minute --limit-burst 3 -j ACCEPT',\n",
       "  'iptables -I INPUT -p tcp --match multiport --dports 45502:45630 -j DROP']}"
      ]
     },
     "execution_count": 2,
     "metadata": {},
     "output_type": "execute_result"
    }
   ],
   "source": [
    "getFirewallConfiguration()"
   ]
  },
  {
   "cell_type": "code",
   "execution_count": null,
   "id": "d9bf1388",
   "metadata": {},
   "outputs": [],
   "source": []
  }
 ],
 "metadata": {
  "kernelspec": {
   "display_name": ".venv",
   "language": "python",
   "name": "python3"
  },
  "language_info": {
   "codemirror_mode": {
    "name": "ipython",
    "version": 3
   },
   "file_extension": ".py",
   "mimetype": "text/x-python",
   "name": "python",
   "nbconvert_exporter": "python",
   "pygments_lexer": "ipython3",
   "version": "3.12.7"
  }
 },
 "nbformat": 4,
 "nbformat_minor": 5
}
