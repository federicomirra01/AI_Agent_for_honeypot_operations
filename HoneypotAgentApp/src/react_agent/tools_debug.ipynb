{
 "cells": [
  {
   "cell_type": "code",
   "execution_count": 1,
   "id": "f79b4641",
   "metadata": {},
   "outputs": [],
   "source": [
    "import tools\n",
    "import importlib\n",
    "importlib.reload(tools)\n",
    "from tools import getDockerContainers, getFirewallConfiguration\n",
    "\n"
   ]
  },
  {
   "cell_type": "code",
   "execution_count": 36,
   "id": "88a4a72d",
   "metadata": {},
   "outputs": [
    {
     "data": {
      "text/plain": [
       "93270"
      ]
     },
     "execution_count": 36,
     "metadata": {},
     "output_type": "execute_result"
    }
   ],
   "source": [
    "from tools import getNetworkStatus\n",
    "from state import HoneypotState\n",
    "import json\n",
    "\n",
    "new_logs = getNetworkStatus()\n",
    "state = HoneypotState()\n",
    "state.network_logs = {\"network_logs\": [new_logs]}\n",
    "len(json.dumps(state.network_logs))"
   ]
  },
  {
   "cell_type": "code",
   "execution_count": 2,
   "id": "4b721ff5",
   "metadata": {},
   "outputs": [
    {
     "data": {
      "text/plain": [
       "{'firewall_rules': []}"
      ]
     },
     "execution_count": 2,
     "metadata": {},
     "output_type": "execute_result"
    }
   ],
   "source": [
    "getFirewallConfiguration()"
   ]
  },
  {
   "cell_type": "code",
   "execution_count": 3,
   "id": "d9bf1388",
   "metadata": {},
   "outputs": [
    {
     "data": {
      "text/plain": [
       "[{'id': '643b5f56ac2a',\n",
       "  'name': 'mqtt-honeypot',\n",
       "  'image': 'eclipse-mosquitto:latest',\n",
       "  'status': 'running',\n",
       "  'created': '2025-04-29T08:24:57.451069277Z',\n",
       "  'ports': {'1883/tcp': [{'HostIp': '0.0.0.0', 'HostPort': '1883'},\n",
       "    {'HostIp': '::', 'HostPort': '1883'}],\n",
       "   '4444/tcp': [{'HostIp': '0.0.0.0', 'HostPort': '4444'},\n",
       "    {'HostIp': '::', 'HostPort': '4444'}]},\n",
       "  'ip_address': '172.17.0.4'},\n",
       " {'id': '409e5a81c226',\n",
       "  'name': 'mssql-honeypot',\n",
       "  'image': 'mcr.microsoft.com/mssql/server:2019-latest',\n",
       "  'status': 'running',\n",
       "  'created': '2025-04-29T08:24:55.508724189Z',\n",
       "  'ports': {'1433/tcp': [{'HostIp': '0.0.0.0', 'HostPort': '1433'},\n",
       "    {'HostIp': '::', 'HostPort': '1433'}]},\n",
       "  'ip_address': '172.17.0.3'},\n",
       " {'id': '059b567a9eb3',\n",
       "  'name': 'ssh-honeypot',\n",
       "  'image': 'linuxserver/openssh-server:latest',\n",
       "  'status': 'running',\n",
       "  'created': '2025-04-29T08:24:55.200174208Z',\n",
       "  'ports': {'2222/tcp': [{'HostIp': '0.0.0.0', 'HostPort': '2222'},\n",
       "    {'HostIp': '::', 'HostPort': '2222'}]},\n",
       "  'ip_address': '172.17.0.2'}]"
      ]
     },
     "execution_count": 3,
     "metadata": {},
     "output_type": "execute_result"
    }
   ],
   "source": [
    "getDockerContainers()"
   ]
  }
 ],
 "metadata": {
  "kernelspec": {
   "display_name": ".venv",
   "language": "python",
   "name": "python3"
  },
  "language_info": {
   "codemirror_mode": {
    "name": "ipython",
    "version": 3
   },
   "file_extension": ".py",
   "mimetype": "text/x-python",
   "name": "python",
   "nbconvert_exporter": "python",
   "pygments_lexer": "ipython3",
   "version": "3.12.7"
  }
 },
 "nbformat": 4,
 "nbformat_minor": 5
}
